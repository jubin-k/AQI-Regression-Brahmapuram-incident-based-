{
  "cells": [
    {
      "cell_type": "markdown",
      "metadata": {
        "id": "view-in-github",
        "colab_type": "text"
      },
      "source": [
        "<a href=\"https://colab.research.google.com/github/jubin-k/AQI-Regression-Brahmapuram-incident-based-/blob/main/AQI_Regression.ipynb\" target=\"_parent\"><img src=\"https://colab.research.google.com/assets/colab-badge.svg\" alt=\"Open In Colab\"/></a>"
      ]
    },
    {
      "cell_type": "markdown",
      "metadata": {
        "id": "lf6xlokkoonE"
      },
      "source": [
        "#Air Quality Index (AQI) Regression model "
      ]
    },
    {
      "cell_type": "markdown",
      "metadata": {
        "id": "4pJrpGjv4IOo"
      },
      "source": [
        "***Predicting the AQI during the Brahmapuram sewage Plant Fire(March 2 2023) incident***"
      ]
    },
    {
      "cell_type": "markdown",
      "metadata": {
        "id": "4shMx0CroyOd"
      },
      "source": [
        "#Objective:\n",
        "The objective of this project is to analyze the air quality parameters and AQI index in Ernakulam district before, during and after the Brahmapuram sewage plant fire incident. The project aims to identify the key air pollutants and their sources that contribute to the degradation of air quality in the region. Furthermore, the project intends to explore the relationship between the air pollutants and AQI index to determine the impact of air pollution on public health. The project also aims to provide recommendations to mitigate the adverse effects of air pollution on the environment and public health."
      ]
    },
    {
      "cell_type": "markdown",
      "metadata": {
        "id": "f5vgK0yUpx9X"
      },
      "source": [
        "● The recent fire incident in Brahmapuram waste ground in Ernakulam district, Kerala has resulted in severe air pollution and health hazards for local residents. The fire, which was reportedly caused by a waste pile that caught fire, has been burning for several days, releasing toxic smoke and pollutants into the air.\n",
        "\n",
        "● The Air Quality Index (AQI) in the area has been recorded at hazardous levels, with particulate matter (PM2.5) levels reaching over 200 micrograms per cubic meter, which is significantly higher than the national safe standard of 60 micrograms per cubic meter. This indicates that the air quality in the area is extremely poor and poses a serious health risk to local residents.\n",
        "\n",
        "● That local hospitals have seen an increase in the number of patients seeking treatment for respiratory problems and other health issues related to the poor air quality. Schools and colleges in the area have been closed as a precautionary measure to protect the health of students and staff.\n",
        "\n",
        "● In response to the air quality issues, local authorities have deployed firefighting teams and other personnel to contain the fire and limit the release of pollutants.The State Pollution Control Board is monitoring the air quality in the area and has issued warnings to residents to stay indoors and avoid outdoor activities.\n",
        "\n",
        "● Overall, the situation in Brahmapuram waste ground in Ernakulam district, Kerala is a serious public health concern. The high levels of particulate matter and other pollutants in the air pose a significant risk to the health of local residents, particularly those with respiratory problems and other underlying health issues. It is crucial that immediate action is taken to address the situation, including measures to limit exposure to the smoke and pollutants and prevent future fires from occurring."
      ]
    },
    {
      "cell_type": "markdown",
      "metadata": {
        "id": "VAGVsMKFpIGI"
      },
      "source": [
        "#About the dataset:\n",
        "The dataset was collected from the Kerala State Pollution Control Board (KSPCB) and contains air quality parameters and AQI index data based in Vyttila station, Ernakulam district in Kerala, India. The dataset has eight features and one target variable:\n",
        "\n",
        "👉 **Date**: \n",
        "* The date on which the air quality parameters and AQI index were measured.\n",
        "\n",
        "👉 **NOx(µg/m3)**: \n",
        "* Nitrogen Oxides (NOx) concentration in micrograms per cubic meter (µg/m3).\n",
        "* NOx is a family of poisonous gases that contribute to the formation of smog and acid rain.\n",
        "* NOx can cause respiratory problems, particularly in people with asthma or other lung conditions.\n",
        "*  It can also cause irritation of the eyes, nose, and throat. \n",
        "\n",
        "🚩 *NOx is emitted by automobiles, trucks and various non-road vehicles (e.g., construction equipment, boats, etc.) as well as industrial sources such as power plants, industrial boilers, cement kilns, and turbines.*\n",
        "\n",
        " 👉 **O3(µg/m3)**: \n",
        "* Ozone (O3) concentration in micrograms per cubic meter (µg/m3).\n",
        "\n",
        "* Ozone is a highly reactive gas that can irritate the respiratory system and cause breathing difficulties.It can also cause coughing, chest pain, and shortness of breath, and may contribute to the formation of smog.\n",
        "\n",
        "🚩 *Ozone is formed in the atmosphere through chemical reactions between pollutants emitted from vehicles, factories, plastic treatment plants and other industrial sources, fossil fuels, combustion, consumer products, evaporation of paints, and many other sources.*\n",
        "\n",
        " 👉 **PM10(µg/m3)**: \n",
        "* Particulate Matter (PM10) concentration in micrograms per cubic meter (µg/m3).\n",
        "\n",
        "* A mixture of Sulfate, Nitrate, Chloride, Organic carbon and Elemental carbon having a size of 10 microns, PM 10 will also have traces of water, which can penetrate into the respiratory system and cause adverse health effects.\n",
        "\n",
        "* It can also cause irritation of the eyes, nose, and throat, and may contribute to the development of heart disease and lung cancer.\n",
        "\n",
        "🚩 *Emissions from combustion of gasoline, oil, diesel fuel or wood produce PM10. It also includes dust from construction sites, landfills and agriculture, wildfires and brush/waste burning, industrial sources, wind-blown dust from open lands, pollen and fragments of bacteria.*\n",
        "\n",
        " 👉 **CO(mg/m3)**:\n",
        " * Carbon Monoxide (CO) concentration in milligrams per cubic meter (mg/m3).\n",
        " * CO is a poisonous gas that reduces the amount of oxygen that can be absorbed by the body. \n",
        " * CO can cause headaches, dizziness, nausea, and confusion.\n",
        " * It is an odourless,colourless gas which causes death when inhaled at high levels.\n",
        "\n",
        "🚩 *The greatest sources of CO to outdoor air are cars, trucks and other vehicles or machinery that burn fossil fuels. A variety of items in your home such as unvented kerosene and gas space heaters, leaking chimneys and furnaces, damaged air-conditioners and gas stoves also release CO and can affect air quality indoors*\n",
        "\n",
        "\n",
        "\n",
        "👉 **NH3(µg/m3)**:\n",
        " * Ammonia (NH3) concentration in micrograms per cubic meter (µg/m3).\n",
        " * Ammonia is a colorless gas with a pungent odor that can irritate the respiratory system.\n",
        "\n",
        "🚩 *The largest source of NH3 emissions is agriculture, including animal husbandry and NH3-based fertilizer applications. Other sources of NH3 include industrial processes, vehicular emissions and volatilization from soils and oceans.* \n",
        "\n",
        "\n",
        "\n",
        "👉 **SO2(µg/m3)**: \n",
        "* Sulfur Dioxide (SO2) concentration in micrograms per cubic meter (µg/m3). \n",
        "\n",
        "* SO2 is a toxic gas that can cause respiratory problems and contribute to acid rain.\n",
        "\n",
        "* SO2 also causes lung diseases.\n",
        "\n",
        "🚩 *Sources of SO2 are factories dealing with hydrocarbons and vehicles and the smelting of mineral ores (aluminum, copper, zinc, lead, and iron) that contain sulfur.*\n",
        "\n",
        "\n",
        "\n",
        "👉 **PM2.5(µg/m3)**: \n",
        "* Particulate Matter(PM2.5) concentration in micrograms per cubic meter (µg/m3).\n",
        "\n",
        "* This is a mixture of dust comprising Ammonium, Sulfate, Nitrate, ash, Sodium and Silicon. \n",
        "\n",
        "* PM2.5 refers to inhalable particles with a diameter of 2.5 micrometers or less,gets dissolved in blood and is deposited in all parts of the body.It could lead to lung diseases, lack of energy, depression and sterility.\n",
        "\n",
        "🚩 *PM2.5 primarily come from car, truck, bus and off-road vehicle (e.g., construction equipment, snowmobile, locomotive) exhausts, other operations that involve the burning of fuels such as wood, heating oil or coal and natural sources such as forest and grass fires..*\n",
        "\n",
        "\n",
        "\n",
        "👉 **AQI**:\n",
        " * Air Quality Index (AQI) is a number used by government agencies to communicate to the public how polluted the air currently is or how polluted it is forecast to become. \n",
        " \n",
        " * AQI is calculated based on the concentration levels of the air pollutants and provides a single value that represents the overall air quality level.\n",
        "\n"
      ]
    },
    {
      "cell_type": "markdown",
      "metadata": {
        "id": "Tn4tCP0ivPSs"
      },
      "source": [
        "**Importing required Libraries**"
      ]
    },
    {
      "cell_type": "code",
      "execution_count": 352,
      "metadata": {
        "id": "WCPZYAu77Afp"
      },
      "outputs": [],
      "source": [
        "import numpy as np\n",
        "import pandas as pd\n",
        "import matplotlib.pyplot as plt\n",
        "import seaborn as sns\n",
        "import warnings\n",
        "warnings.filterwarnings('ignore')"
      ]
    },
    {
      "cell_type": "markdown",
      "metadata": {
        "id": "VWciIsLMvVgP"
      },
      "source": [
        "**Loading Dataset**"
      ]
    },
    {
      "cell_type": "code",
      "execution_count": 353,
      "metadata": {
        "colab": {
          "base_uri": "https://localhost:8080/",
          "height": 423
        },
        "id": "LsYzDcV4zUIN",
        "outputId": "8e13693c-a7e3-4781-a6f4-5f8a82abee7e"
      },
      "outputs": [
        {
          "output_type": "execute_result",
          "data": {
            "text/plain": [
              "          Date  NOx(µg/m3)  O3(µg/m3)  PM10(µg/m3)  CO(mg/m3)  NH3(µg/m3)  \\\n",
              "0   2022-01-01       28.20      15.33        47.04       1.44        5.45   \n",
              "1   2022-01-02       28.40      12.20        56.64       1.45        5.51   \n",
              "2   2022-01-03       27.10      12.28        59.56       1.47        5.18   \n",
              "3   2022-01-04       27.20      17.99        69.44       1.48        5.21   \n",
              "4   2022-01-05       27.90      19.98       109.55       1.53        5.36   \n",
              "..         ...         ...        ...          ...        ...         ...   \n",
              "419 2023-02-24       20.27       1.48       107.40       1.10        0.00   \n",
              "420 2023-02-25       20.32       1.47       111.50       1.11        0.00   \n",
              "421 2023-02-26       20.25       1.49       104.50       1.05        0.00   \n",
              "422 2023-02-27       49.87       1.51        95.83       1.03        0.05   \n",
              "423 2023-02-28       65.19       1.53       108.81       1.15        4.03   \n",
              "\n",
              "     SO2(µg/m3)  PM2.5(µg/m3)    AQI  \n",
              "0         18.17         36.51   72.0  \n",
              "1         18.91         44.61   74.0  \n",
              "2         18.74         47.04   78.0  \n",
              "3         19.08         55.04   92.0  \n",
              "4         20.66         88.56  195.0  \n",
              "..          ...           ...    ...  \n",
              "419       21.13         67.72  126.0  \n",
              "420       23.20         73.73  108.0  \n",
              "421       24.46         78.60  103.0  \n",
              "422       22.88         57.30   96.0  \n",
              "423       17.52         70.31  106.0  \n",
              "\n",
              "[424 rows x 9 columns]"
            ],
            "text/html": [
              "\n",
              "  <div id=\"df-37b61652-4bf5-4e5e-a43f-9ce3a8215632\">\n",
              "    <div class=\"colab-df-container\">\n",
              "      <div>\n",
              "<style scoped>\n",
              "    .dataframe tbody tr th:only-of-type {\n",
              "        vertical-align: middle;\n",
              "    }\n",
              "\n",
              "    .dataframe tbody tr th {\n",
              "        vertical-align: top;\n",
              "    }\n",
              "\n",
              "    .dataframe thead th {\n",
              "        text-align: right;\n",
              "    }\n",
              "</style>\n",
              "<table border=\"1\" class=\"dataframe\">\n",
              "  <thead>\n",
              "    <tr style=\"text-align: right;\">\n",
              "      <th></th>\n",
              "      <th>Date</th>\n",
              "      <th>NOx(µg/m3)</th>\n",
              "      <th>O3(µg/m3)</th>\n",
              "      <th>PM10(µg/m3)</th>\n",
              "      <th>CO(mg/m3)</th>\n",
              "      <th>NH3(µg/m3)</th>\n",
              "      <th>SO2(µg/m3)</th>\n",
              "      <th>PM2.5(µg/m3)</th>\n",
              "      <th>AQI</th>\n",
              "    </tr>\n",
              "  </thead>\n",
              "  <tbody>\n",
              "    <tr>\n",
              "      <th>0</th>\n",
              "      <td>2022-01-01</td>\n",
              "      <td>28.20</td>\n",
              "      <td>15.33</td>\n",
              "      <td>47.04</td>\n",
              "      <td>1.44</td>\n",
              "      <td>5.45</td>\n",
              "      <td>18.17</td>\n",
              "      <td>36.51</td>\n",
              "      <td>72.0</td>\n",
              "    </tr>\n",
              "    <tr>\n",
              "      <th>1</th>\n",
              "      <td>2022-01-02</td>\n",
              "      <td>28.40</td>\n",
              "      <td>12.20</td>\n",
              "      <td>56.64</td>\n",
              "      <td>1.45</td>\n",
              "      <td>5.51</td>\n",
              "      <td>18.91</td>\n",
              "      <td>44.61</td>\n",
              "      <td>74.0</td>\n",
              "    </tr>\n",
              "    <tr>\n",
              "      <th>2</th>\n",
              "      <td>2022-01-03</td>\n",
              "      <td>27.10</td>\n",
              "      <td>12.28</td>\n",
              "      <td>59.56</td>\n",
              "      <td>1.47</td>\n",
              "      <td>5.18</td>\n",
              "      <td>18.74</td>\n",
              "      <td>47.04</td>\n",
              "      <td>78.0</td>\n",
              "    </tr>\n",
              "    <tr>\n",
              "      <th>3</th>\n",
              "      <td>2022-01-04</td>\n",
              "      <td>27.20</td>\n",
              "      <td>17.99</td>\n",
              "      <td>69.44</td>\n",
              "      <td>1.48</td>\n",
              "      <td>5.21</td>\n",
              "      <td>19.08</td>\n",
              "      <td>55.04</td>\n",
              "      <td>92.0</td>\n",
              "    </tr>\n",
              "    <tr>\n",
              "      <th>4</th>\n",
              "      <td>2022-01-05</td>\n",
              "      <td>27.90</td>\n",
              "      <td>19.98</td>\n",
              "      <td>109.55</td>\n",
              "      <td>1.53</td>\n",
              "      <td>5.36</td>\n",
              "      <td>20.66</td>\n",
              "      <td>88.56</td>\n",
              "      <td>195.0</td>\n",
              "    </tr>\n",
              "    <tr>\n",
              "      <th>...</th>\n",
              "      <td>...</td>\n",
              "      <td>...</td>\n",
              "      <td>...</td>\n",
              "      <td>...</td>\n",
              "      <td>...</td>\n",
              "      <td>...</td>\n",
              "      <td>...</td>\n",
              "      <td>...</td>\n",
              "      <td>...</td>\n",
              "    </tr>\n",
              "    <tr>\n",
              "      <th>419</th>\n",
              "      <td>2023-02-24</td>\n",
              "      <td>20.27</td>\n",
              "      <td>1.48</td>\n",
              "      <td>107.40</td>\n",
              "      <td>1.10</td>\n",
              "      <td>0.00</td>\n",
              "      <td>21.13</td>\n",
              "      <td>67.72</td>\n",
              "      <td>126.0</td>\n",
              "    </tr>\n",
              "    <tr>\n",
              "      <th>420</th>\n",
              "      <td>2023-02-25</td>\n",
              "      <td>20.32</td>\n",
              "      <td>1.47</td>\n",
              "      <td>111.50</td>\n",
              "      <td>1.11</td>\n",
              "      <td>0.00</td>\n",
              "      <td>23.20</td>\n",
              "      <td>73.73</td>\n",
              "      <td>108.0</td>\n",
              "    </tr>\n",
              "    <tr>\n",
              "      <th>421</th>\n",
              "      <td>2023-02-26</td>\n",
              "      <td>20.25</td>\n",
              "      <td>1.49</td>\n",
              "      <td>104.50</td>\n",
              "      <td>1.05</td>\n",
              "      <td>0.00</td>\n",
              "      <td>24.46</td>\n",
              "      <td>78.60</td>\n",
              "      <td>103.0</td>\n",
              "    </tr>\n",
              "    <tr>\n",
              "      <th>422</th>\n",
              "      <td>2023-02-27</td>\n",
              "      <td>49.87</td>\n",
              "      <td>1.51</td>\n",
              "      <td>95.83</td>\n",
              "      <td>1.03</td>\n",
              "      <td>0.05</td>\n",
              "      <td>22.88</td>\n",
              "      <td>57.30</td>\n",
              "      <td>96.0</td>\n",
              "    </tr>\n",
              "    <tr>\n",
              "      <th>423</th>\n",
              "      <td>2023-02-28</td>\n",
              "      <td>65.19</td>\n",
              "      <td>1.53</td>\n",
              "      <td>108.81</td>\n",
              "      <td>1.15</td>\n",
              "      <td>4.03</td>\n",
              "      <td>17.52</td>\n",
              "      <td>70.31</td>\n",
              "      <td>106.0</td>\n",
              "    </tr>\n",
              "  </tbody>\n",
              "</table>\n",
              "<p>424 rows × 9 columns</p>\n",
              "</div>\n",
              "      <button class=\"colab-df-convert\" onclick=\"convertToInteractive('df-37b61652-4bf5-4e5e-a43f-9ce3a8215632')\"\n",
              "              title=\"Convert this dataframe to an interactive table.\"\n",
              "              style=\"display:none;\">\n",
              "        \n",
              "  <svg xmlns=\"http://www.w3.org/2000/svg\" height=\"24px\"viewBox=\"0 0 24 24\"\n",
              "       width=\"24px\">\n",
              "    <path d=\"M0 0h24v24H0V0z\" fill=\"none\"/>\n",
              "    <path d=\"M18.56 5.44l.94 2.06.94-2.06 2.06-.94-2.06-.94-.94-2.06-.94 2.06-2.06.94zm-11 1L8.5 8.5l.94-2.06 2.06-.94-2.06-.94L8.5 2.5l-.94 2.06-2.06.94zm10 10l.94 2.06.94-2.06 2.06-.94-2.06-.94-.94-2.06-.94 2.06-2.06.94z\"/><path d=\"M17.41 7.96l-1.37-1.37c-.4-.4-.92-.59-1.43-.59-.52 0-1.04.2-1.43.59L10.3 9.45l-7.72 7.72c-.78.78-.78 2.05 0 2.83L4 21.41c.39.39.9.59 1.41.59.51 0 1.02-.2 1.41-.59l7.78-7.78 2.81-2.81c.8-.78.8-2.07 0-2.86zM5.41 20L4 18.59l7.72-7.72 1.47 1.35L5.41 20z\"/>\n",
              "  </svg>\n",
              "      </button>\n",
              "      \n",
              "  <style>\n",
              "    .colab-df-container {\n",
              "      display:flex;\n",
              "      flex-wrap:wrap;\n",
              "      gap: 12px;\n",
              "    }\n",
              "\n",
              "    .colab-df-convert {\n",
              "      background-color: #E8F0FE;\n",
              "      border: none;\n",
              "      border-radius: 50%;\n",
              "      cursor: pointer;\n",
              "      display: none;\n",
              "      fill: #1967D2;\n",
              "      height: 32px;\n",
              "      padding: 0 0 0 0;\n",
              "      width: 32px;\n",
              "    }\n",
              "\n",
              "    .colab-df-convert:hover {\n",
              "      background-color: #E2EBFA;\n",
              "      box-shadow: 0px 1px 2px rgba(60, 64, 67, 0.3), 0px 1px 3px 1px rgba(60, 64, 67, 0.15);\n",
              "      fill: #174EA6;\n",
              "    }\n",
              "\n",
              "    [theme=dark] .colab-df-convert {\n",
              "      background-color: #3B4455;\n",
              "      fill: #D2E3FC;\n",
              "    }\n",
              "\n",
              "    [theme=dark] .colab-df-convert:hover {\n",
              "      background-color: #434B5C;\n",
              "      box-shadow: 0px 1px 3px 1px rgba(0, 0, 0, 0.15);\n",
              "      filter: drop-shadow(0px 1px 2px rgba(0, 0, 0, 0.3));\n",
              "      fill: #FFFFFF;\n",
              "    }\n",
              "  </style>\n",
              "\n",
              "      <script>\n",
              "        const buttonEl =\n",
              "          document.querySelector('#df-37b61652-4bf5-4e5e-a43f-9ce3a8215632 button.colab-df-convert');\n",
              "        buttonEl.style.display =\n",
              "          google.colab.kernel.accessAllowed ? 'block' : 'none';\n",
              "\n",
              "        async function convertToInteractive(key) {\n",
              "          const element = document.querySelector('#df-37b61652-4bf5-4e5e-a43f-9ce3a8215632');\n",
              "          const dataTable =\n",
              "            await google.colab.kernel.invokeFunction('convertToInteractive',\n",
              "                                                     [key], {});\n",
              "          if (!dataTable) return;\n",
              "\n",
              "          const docLinkHtml = 'Like what you see? Visit the ' +\n",
              "            '<a target=\"_blank\" href=https://colab.research.google.com/notebooks/data_table.ipynb>data table notebook</a>'\n",
              "            + ' to learn more about interactive tables.';\n",
              "          element.innerHTML = '';\n",
              "          dataTable['output_type'] = 'display_data';\n",
              "          await google.colab.output.renderOutput(dataTable, element);\n",
              "          const docLink = document.createElement('div');\n",
              "          docLink.innerHTML = docLinkHtml;\n",
              "          element.appendChild(docLink);\n",
              "        }\n",
              "      </script>\n",
              "    </div>\n",
              "  </div>\n",
              "  "
            ]
          },
          "metadata": {},
          "execution_count": 353
        }
      ],
      "source": [
        "df=pd.read_excel(\"/content/Vyttila (eklm) AQI 2022-23 dataset.xlsx\")\n",
        "df"
      ]
    },
    {
      "cell_type": "code",
      "execution_count": 354,
      "metadata": {
        "colab": {
          "base_uri": "https://localhost:8080/"
        },
        "id": "rjzRHZ-fWMg1",
        "outputId": "94c85b7c-253e-4632-d3c5-ae3451a6df9d"
      },
      "outputs": [
        {
          "output_type": "stream",
          "name": "stdout",
          "text": [
            "<class 'pandas.core.frame.DataFrame'>\n",
            "RangeIndex: 424 entries, 0 to 423\n",
            "Data columns (total 9 columns):\n",
            " #   Column        Non-Null Count  Dtype         \n",
            "---  ------        --------------  -----         \n",
            " 0   Date          424 non-null    datetime64[ns]\n",
            " 1   NOx(µg/m3)    414 non-null    float64       \n",
            " 2   O3(µg/m3)     414 non-null    float64       \n",
            " 3   PM10(µg/m3)   414 non-null    float64       \n",
            " 4   CO(mg/m3)     414 non-null    float64       \n",
            " 5   NH3(µg/m3)    414 non-null    float64       \n",
            " 6   SO2(µg/m3)    414 non-null    float64       \n",
            " 7   PM2.5(µg/m3)  399 non-null    float64       \n",
            " 8   AQI           414 non-null    float64       \n",
            "dtypes: datetime64[ns](1), float64(8)\n",
            "memory usage: 29.9 KB\n"
          ]
        }
      ],
      "source": [
        "df.info()"
      ]
    },
    {
      "cell_type": "code",
      "execution_count": 355,
      "metadata": {
        "id": "yOiWMGDYFD1i"
      },
      "outputs": [],
      "source": [
        "#renaming the columns\n",
        "df.rename(columns={'NOx(µg/m3)':'NOx','O3(µg/m3)':'O3','PM10(µg/m3)':'PM10','CO(mg/m3)':'CO','NH3(µg/m3)':'NH3','SO2(µg/m3)':'SO2','PM2.5(µg/m3)':'PM2.5'},inplace=True)"
      ]
    },
    {
      "cell_type": "markdown",
      "metadata": {
        "id": "CP2z2bBfvKFO"
      },
      "source": [
        "**Analyzing Missing values**"
      ]
    },
    {
      "cell_type": "code",
      "execution_count": 356,
      "metadata": {
        "colab": {
          "base_uri": "https://localhost:8080/"
        },
        "id": "5YS0jwwsbYJP",
        "outputId": "f7f6c77e-fc47-44e4-bd2e-4576ea120566"
      },
      "outputs": [
        {
          "output_type": "execute_result",
          "data": {
            "text/plain": [
              "Date      0\n",
              "NOx      10\n",
              "O3       10\n",
              "PM10     10\n",
              "CO       10\n",
              "NH3      10\n",
              "SO2      10\n",
              "PM2.5    25\n",
              "AQI      10\n",
              "dtype: int64"
            ]
          },
          "metadata": {},
          "execution_count": 356
        }
      ],
      "source": [
        "df.isna().sum()"
      ]
    },
    {
      "cell_type": "code",
      "execution_count": 357,
      "metadata": {
        "colab": {
          "base_uri": "https://localhost:8080/",
          "height": 589
        },
        "id": "y0b4CUHDw4NJ",
        "outputId": "03faf12f-cd05-4f02-80ec-66f2c9d3b486"
      },
      "outputs": [
        {
          "output_type": "execute_result",
          "data": {
            "text/plain": [
              "<AxesSubplot:>"
            ]
          },
          "metadata": {},
          "execution_count": 357
        },
        {
          "output_type": "display_data",
          "data": {
            "text/plain": [
              "<Figure size 576x288 with 0 Axes>"
            ]
          },
          "metadata": {}
        },
        {
          "output_type": "display_data",
          "data": {
            "text/plain": [
              "<Figure size 1800x720 with 2 Axes>"
            ],
            "image/png": "[encoded data removed]"
          },
          "metadata": {
            "needs_background": "light"
          }
        }
      ],
      "source": [
        "plt.figure(figsize=(8,4))\n",
        "import missingno as msno\n",
        "msno.matrix(df,color=(0, 0, 0))\n",
        "#can drop the missing values"
      ]
    },
    {
      "cell_type": "markdown",
      "metadata": {
        "id": "PYnH2frsvd8v"
      },
      "source": [
        "\n",
        "\n",
        "*   All columns except Date contain missing values\n",
        "*   Pm 2.5 has most number of missing values\n",
        "*  We can fill PM2.5 with its mean value and drop all other rows which are vacan\n",
        "\n",
        "\n",
        "\n"
      ]
    },
    {
      "cell_type": "code",
      "execution_count": 358,
      "metadata": {
        "id": "LvHDQv_ORlcZ"
      },
      "outputs": [],
      "source": [
        "df['PM2.5'].fillna(df['PM2.5'].mean(),inplace=True)"
      ]
    },
    {
      "cell_type": "code",
      "execution_count": 359,
      "metadata": {
        "id": "JKsAmVe5SlRt"
      },
      "outputs": [],
      "source": [
        "df.dropna(axis=0,inplace=True)"
      ]
    },
    {
      "cell_type": "code",
      "execution_count": 360,
      "metadata": {
        "id": "7lWufuSkZwfl"
      },
      "outputs": [],
      "source": [
        "df.dropna(axis=0,inplace=True)"
      ]
    },
    {
      "cell_type": "code",
      "execution_count": 361,
      "metadata": {
        "colab": {
          "base_uri": "https://localhost:8080/"
        },
        "id": "sqG2Cl_ebYVJ",
        "outputId": "5b0b8a6a-dc00-431d-fb38-9efe371ca424"
      },
      "outputs": [
        {
          "output_type": "execute_result",
          "data": {
            "text/plain": [
              "0"
            ]
          },
          "metadata": {},
          "execution_count": 361
        }
      ],
      "source": [
        "df.duplicated().sum()"
      ]
    },
    {
      "cell_type": "code",
      "execution_count": 362,
      "metadata": {
        "colab": {
          "base_uri": "https://localhost:8080/"
        },
        "id": "Ro9Lo-HPKmbx",
        "outputId": "45492d48-0a7d-4743-b57f-b5183c7343b3"
      },
      "outputs": [
        {
          "output_type": "execute_result",
          "data": {
            "text/plain": [
              "Index(['Date', 'NOx', 'O3', 'PM10', 'CO', 'NH3', 'SO2', 'PM2.5', 'AQI'], dtype='object')"
            ]
          },
          "metadata": {},
          "execution_count": 362
        }
      ],
      "source": [
        "df.columns"
      ]
    },
    {
      "cell_type": "markdown",
      "metadata": {
        "id": "a1kunGzDwPZ5"
      },
      "source": [
        "**Splitting Date**"
      ]
    },
    {
      "cell_type": "code",
      "execution_count": 363,
      "metadata": {
        "id": "-w5Zmzou3zZW"
      },
      "outputs": [],
      "source": [
        "df['Date']=pd.to_datetime(df['Date'])\n",
        "df['Day']=df['Date'].dt.strftime('%d'+'-'+'%m')\n",
        "df['Month']=df['Date'].dt.strftime('%m'+'-'+'%y')\n",
        "df['Year']=df['Date'].dt.strftime('%y')"
      ]
    },
    {
      "cell_type": "code",
      "execution_count": 364,
      "metadata": {
        "colab": {
          "base_uri": "https://localhost:8080/",
          "height": 206
        },
        "id": "sQwrGW6FbYWq",
        "outputId": "2acade20-4b95-4541-ff9e-7c9c9d1799d7"
      },
      "outputs": [
        {
          "output_type": "execute_result",
          "data": {
            "text/plain": [
              "        Date   NOx     O3    PM10    CO   NH3    SO2  PM2.5    AQI    Day  \\\n",
              "0 2022-01-01  28.2  15.33   47.04  1.44  5.45  18.17  36.51   72.0  01-01   \n",
              "1 2022-01-02  28.4  12.20   56.64  1.45  5.51  18.91  44.61   74.0  02-01   \n",
              "2 2022-01-03  27.1  12.28   59.56  1.47  5.18  18.74  47.04   78.0  03-01   \n",
              "3 2022-01-04  27.2  17.99   69.44  1.48  5.21  19.08  55.04   92.0  04-01   \n",
              "4 2022-01-05  27.9  19.98  109.55  1.53  5.36  20.66  88.56  195.0  05-01   \n",
              "\n",
              "   Month Year  \n",
              "0  01-22   22  \n",
              "1  01-22   22  \n",
              "2  01-22   22  \n",
              "3  01-22   22  \n",
              "4  01-22   22  "
            ],
            "text/html": [
              "\n",
              "  <div id=\"df-7f6a939f-c6bd-4a86-97e3-aa48166c08e6\">\n",
              "    <div class=\"colab-df-container\">\n",
              "      <div>\n",
              "<style scoped>\n",
              "    .dataframe tbody tr th:only-of-type {\n",
              "        vertical-align: middle;\n",
              "    }\n",
              "\n",
              "    .dataframe tbody tr th {\n",
              "        vertical-align: top;\n",
              "    }\n",
              "\n",
              "    .dataframe thead th {\n",
              "        text-align: right;\n",
              "    }\n",
              "</style>\n",
              "<table border=\"1\" class=\"dataframe\">\n",
              "  <thead>\n",
              "    <tr style=\"text-align: right;\">\n",
              "      <th></th>\n",
              "      <th>Date</th>\n",
              "      <th>NOx</th>\n",
              "      <th>O3</th>\n",
              "      <th>PM10</th>\n",
              "      <th>CO</th>\n",
              "      <th>NH3</th>\n",
              "      <th>SO2</th>\n",
              "      <th>PM2.5</th>\n",
              "      <th>AQI</th>\n",
              "      <th>Day</th>\n",
              "      <th>Month</th>\n",
              "      <th>Year</th>\n",
              "    </tr>\n",
              "  </thead>\n",
              "  <tbody>\n",
              "    <tr>\n",
              "      <th>0</th>\n",
              "      <td>2022-01-01</td>\n",
              "      <td>28.2</td>\n",
              "      <td>15.33</td>\n",
              "      <td>47.04</td>\n",
              "      <td>1.44</td>\n",
              "      <td>5.45</td>\n",
              "      <td>18.17</td>\n",
              "      <td>36.51</td>\n",
              "      <td>72.0</td>\n",
              "      <td>01-01</td>\n",
              "      <td>01-22</td>\n",
              "      <td>22</td>\n",
              "    </tr>\n",
              "    <tr>\n",
              "      <th>1</th>\n",
              "      <td>2022-01-02</td>\n",
              "      <td>28.4</td>\n",
              "      <td>12.20</td>\n",
              "      <td>56.64</td>\n",
              "      <td>1.45</td>\n",
              "      <td>5.51</td>\n",
              "      <td>18.91</td>\n",
              "      <td>44.61</td>\n",
              "      <td>74.0</td>\n",
              "      <td>02-01</td>\n",
              "      <td>01-22</td>\n",
              "      <td>22</td>\n",
              "    </tr>\n",
              "    <tr>\n",
              "      <th>2</th>\n",
              "      <td>2022-01-03</td>\n",
              "      <td>27.1</td>\n",
              "      <td>12.28</td>\n",
              "      <td>59.56</td>\n",
              "      <td>1.47</td>\n",
              "      <td>5.18</td>\n",
              "      <td>18.74</td>\n",
              "      <td>47.04</td>\n",
              "      <td>78.0</td>\n",
              "      <td>03-01</td>\n",
              "      <td>01-22</td>\n",
              "      <td>22</td>\n",
              "    </tr>\n",
              "    <tr>\n",
              "      <th>3</th>\n",
              "      <td>2022-01-04</td>\n",
              "      <td>27.2</td>\n",
              "      <td>17.99</td>\n",
              "      <td>69.44</td>\n",
              "      <td>1.48</td>\n",
              "      <td>5.21</td>\n",
              "      <td>19.08</td>\n",
              "      <td>55.04</td>\n",
              "      <td>92.0</td>\n",
              "      <td>04-01</td>\n",
              "      <td>01-22</td>\n",
              "      <td>22</td>\n",
              "    </tr>\n",
              "    <tr>\n",
              "      <th>4</th>\n",
              "      <td>2022-01-05</td>\n",
              "      <td>27.9</td>\n",
              "      <td>19.98</td>\n",
              "      <td>109.55</td>\n",
              "      <td>1.53</td>\n",
              "      <td>5.36</td>\n",
              "      <td>20.66</td>\n",
              "      <td>88.56</td>\n",
              "      <td>195.0</td>\n",
              "      <td>05-01</td>\n",
              "      <td>01-22</td>\n",
              "      <td>22</td>\n",
              "    </tr>\n",
              "  </tbody>\n",
              "</table>\n",
              "</div>\n",
              "      <button class=\"colab-df-convert\" onclick=\"convertToInteractive('df-7f6a939f-c6bd-4a86-97e3-aa48166c08e6')\"\n",
              "              title=\"Convert this dataframe to an interactive table.\"\n",
              "              style=\"display:none;\">\n",
              "        \n",
              "  <svg xmlns=\"http://www.w3.org/2000/svg\" height=\"24px\"viewBox=\"0 0 24 24\"\n",
              "       width=\"24px\">\n",
              "    <path d=\"M0 0h24v24H0V0z\" fill=\"none\"/>\n",
              "    <path d=\"M18.56 5.44l.94 2.06.94-2.06 2.06-.94-2.06-.94-.94-2.06-.94 2.06-2.06.94zm-11 1L8.5 8.5l.94-2.06 2.06-.94-2.06-.94L8.5 2.5l-.94 2.06-2.06.94zm10 10l.94 2.06.94-2.06 2.06-.94-2.06-.94-.94-2.06-.94 2.06-2.06.94z\"/><path d=\"M17.41 7.96l-1.37-1.37c-.4-.4-.92-.59-1.43-.59-.52 0-1.04.2-1.43.59L10.3 9.45l-7.72 7.72c-.78.78-.78 2.05 0 2.83L4 21.41c.39.39.9.59 1.41.59.51 0 1.02-.2 1.41-.59l7.78-7.78 2.81-2.81c.8-.78.8-2.07 0-2.86zM5.41 20L4 18.59l7.72-7.72 1.47 1.35L5.41 20z\"/>\n",
              "  </svg>\n",
              "      </button>\n",
              "      \n",
              "  <style>\n",
              "    .colab-df-container {\n",
              "      display:flex;\n",
              "      flex-wrap:wrap;\n",
              "      gap: 12px;\n",
              "    }\n",
              "\n",
              "    .colab-df-convert {\n",
              "      background-color: #E8F0FE;\n",
              "      border: none;\n",
              "      border-radius: 50%;\n",
              "      cursor: pointer;\n",
              "      display: none;\n",
              "      fill: #1967D2;\n",
              "      height: 32px;\n",
              "      padding: 0 0 0 0;\n",
              "      width: 32px;\n",
              "    }\n",
              "\n",
              "    .colab-df-convert:hover {\n",
              "      background-color: #E2EBFA;\n",
              "      box-shadow: 0px 1px 2px rgba(60, 64, 67, 0.3), 0px 1px 3px 1px rgba(60, 64, 67, 0.15);\n",
              "      fill: #174EA6;\n",
              "    }\n",
              "\n",
              "    [theme=dark] .colab-df-convert {\n",
              "      background-color: #3B4455;\n",
              "      fill: #D2E3FC;\n",
              "    }\n",
              "\n",
              "    [theme=dark] .colab-df-convert:hover {\n",
              "      background-color: #434B5C;\n",
              "      box-shadow: 0px 1px 3px 1px rgba(0, 0, 0, 0.15);\n",
              "      filter: drop-shadow(0px 1px 2px rgba(0, 0, 0, 0.3));\n",
              "      fill: #FFFFFF;\n",
              "    }\n",
              "  </style>\n",
              "\n",
              "      <script>\n",
              "        const buttonEl =\n",
              "          document.querySelector('#df-7f6a939f-c6bd-4a86-97e3-aa48166c08e6 button.colab-df-convert');\n",
              "        buttonEl.style.display =\n",
              "          google.colab.kernel.accessAllowed ? 'block' : 'none';\n",
              "\n",
              "        async function convertToInteractive(key) {\n",
              "          const element = document.querySelector('#df-7f6a939f-c6bd-4a86-97e3-aa48166c08e6');\n",
              "          const dataTable =\n",
              "            await google.colab.kernel.invokeFunction('convertToInteractive',\n",
              "                                                     [key], {});\n",
              "          if (!dataTable) return;\n",
              "\n",
              "          const docLinkHtml = 'Like what you see? Visit the ' +\n",
              "            '<a target=\"_blank\" href=https://colab.research.google.com/notebooks/data_table.ipynb>data table notebook</a>'\n",
              "            + ' to learn more about interactive tables.';\n",
              "          element.innerHTML = '';\n",
              "          dataTable['output_type'] = 'display_data';\n",
              "          await google.colab.output.renderOutput(dataTable, element);\n",
              "          const docLink = document.createElement('div');\n",
              "          docLink.innerHTML = docLinkHtml;\n",
              "          element.appendChild(docLink);\n",
              "        }\n",
              "      </script>\n",
              "    </div>\n",
              "  </div>\n",
              "  "
            ]
          },
          "metadata": {},
          "execution_count": 364
        }
      ],
      "source": [
        "df.head()"
      ]
    },
    {
      "cell_type": "code",
      "execution_count": 365,
      "metadata": {
        "colab": {
          "base_uri": "https://localhost:8080/",
          "height": 206
        },
        "id": "KsvaT86VbYZ4",
        "outputId": "33fc50e3-5de6-4b84-c6b4-e0b7b8ca883d"
      },
      "outputs": [
        {
          "output_type": "execute_result",
          "data": {
            "text/plain": [
              "          Date    NOx    O3    PM10    CO   NH3    SO2  PM2.5    AQI    Day  \\\n",
              "419 2023-02-24  20.27  1.48  107.40  1.10  0.00  21.13  67.72  126.0  24-02   \n",
              "420 2023-02-25  20.32  1.47  111.50  1.11  0.00  23.20  73.73  108.0  25-02   \n",
              "421 2023-02-26  20.25  1.49  104.50  1.05  0.00  24.46  78.60  103.0  26-02   \n",
              "422 2023-02-27  49.87  1.51   95.83  1.03  0.05  22.88  57.30   96.0  27-02   \n",
              "423 2023-02-28  65.19  1.53  108.81  1.15  4.03  17.52  70.31  106.0  28-02   \n",
              "\n",
              "     Month Year  \n",
              "419  02-23   23  \n",
              "420  02-23   23  \n",
              "421  02-23   23  \n",
              "422  02-23   23  \n",
              "423  02-23   23  "
            ],
            "text/html": [
              "\n",
              "  <div id=\"df-4331e2e1-d897-4112-96d3-7a5f0c803e8d\">\n",
              "    <div class=\"colab-df-container\">\n",
              "      <div>\n",
              "<style scoped>\n",
              "    .dataframe tbody tr th:only-of-type {\n",
              "        vertical-align: middle;\n",
              "    }\n",
              "\n",
              "    .dataframe tbody tr th {\n",
              "        vertical-align: top;\n",
              "    }\n",
              "\n",
              "    .dataframe thead th {\n",
              "        text-align: right;\n",
              "    }\n",
              "</style>\n",
              "<table border=\"1\" class=\"dataframe\">\n",
              "  <thead>\n",
              "    <tr style=\"text-align: right;\">\n",
              "      <th></th>\n",
              "      <th>Date</th>\n",
              "      <th>NOx</th>\n",
              "      <th>O3</th>\n",
              "      <th>PM10</th>\n",
              "      <th>CO</th>\n",
              "      <th>NH3</th>\n",
              "      <th>SO2</th>\n",
              "      <th>PM2.5</th>\n",
              "      <th>AQI</th>\n",
              "      <th>Day</th>\n",
              "      <th>Month</th>\n",
              "      <th>Year</th>\n",
              "    </tr>\n",
              "  </thead>\n",
              "  <tbody>\n",
              "    <tr>\n",
              "      <th>419</th>\n",
              "      <td>2023-02-24</td>\n",
              "      <td>20.27</td>\n",
              "      <td>1.48</td>\n",
              "      <td>107.40</td>\n",
              "      <td>1.10</td>\n",
              "      <td>0.00</td>\n",
              "      <td>21.13</td>\n",
              "      <td>67.72</td>\n",
              "      <td>126.0</td>\n",
              "      <td>24-02</td>\n",
              "      <td>02-23</td>\n",
              "      <td>23</td>\n",
              "    </tr>\n",
              "    <tr>\n",
              "      <th>420</th>\n",
              "      <td>2023-02-25</td>\n",
              "      <td>20.32</td>\n",
              "      <td>1.47</td>\n",
              "      <td>111.50</td>\n",
              "      <td>1.11</td>\n",
              "      <td>0.00</td>\n",
              "      <td>23.20</td>\n",
              "      <td>73.73</td>\n",
              "      <td>108.0</td>\n",
              "      <td>25-02</td>\n",
              "      <td>02-23</td>\n",
              "      <td>23</td>\n",
              "    </tr>\n",
              "    <tr>\n",
              "      <th>421</th>\n",
              "      <td>2023-02-26</td>\n",
              "      <td>20.25</td>\n",
              "      <td>1.49</td>\n",
              "      <td>104.50</td>\n",
              "      <td>1.05</td>\n",
              "      <td>0.00</td>\n",
              "      <td>24.46</td>\n",
              "      <td>78.60</td>\n",
              "      <td>103.0</td>\n",
              "      <td>26-02</td>\n",
              "      <td>02-23</td>\n",
              "      <td>23</td>\n",
              "    </tr>\n",
              "    <tr>\n",
              "      <th>422</th>\n",
              "      <td>2023-02-27</td>\n",
              "      <td>49.87</td>\n",
              "      <td>1.51</td>\n",
              "      <td>95.83</td>\n",
              "      <td>1.03</td>\n",
              "      <td>0.05</td>\n",
              "      <td>22.88</td>\n",
              "      <td>57.30</td>\n",
              "      <td>96.0</td>\n",
              "      <td>27-02</td>\n",
              "      <td>02-23</td>\n",
              "      <td>23</td>\n",
              "    </tr>\n",
              "    <tr>\n",
              "      <th>423</th>\n",
              "      <td>2023-02-28</td>\n",
              "      <td>65.19</td>\n",
              "      <td>1.53</td>\n",
              "      <td>108.81</td>\n",
              "      <td>1.15</td>\n",
              "      <td>4.03</td>\n",
              "      <td>17.52</td>\n",
              "      <td>70.31</td>\n",
              "      <td>106.0</td>\n",
              "      <td>28-02</td>\n",
              "      <td>02-23</td>\n",
              "      <td>23</td>\n",
              "    </tr>\n",
              "  </tbody>\n",
              "</table>\n",
              "</div>\n",
              "      <button class=\"colab-df-convert\" onclick=\"convertToInteractive('df-4331e2e1-d897-4112-96d3-7a5f0c803e8d')\"\n",
              "              title=\"Convert this dataframe to an interactive table.\"\n",
              "              style=\"display:none;\">\n",
              "        \n",
              "  <svg xmlns=\"http://www.w3.org/2000/svg\" height=\"24px\"viewBox=\"0 0 24 24\"\n",
              "       width=\"24px\">\n",
              "    <path d=\"M0 0h24v24H0V0z\" fill=\"none\"/>\n",
              "    <path d=\"M18.56 5.44l.94 2.06.94-2.06 2.06-.94-2.06-.94-.94-2.06-.94 2.06-2.06.94zm-11 1L8.5 8.5l.94-2.06 2.06-.94-2.06-.94L8.5 2.5l-.94 2.06-2.06.94zm10 10l.94 2.06.94-2.06 2.06-.94-2.06-.94-.94-2.06-.94 2.06-2.06.94z\"/><path d=\"M17.41 7.96l-1.37-1.37c-.4-.4-.92-.59-1.43-.59-.52 0-1.04.2-1.43.59L10.3 9.45l-7.72 7.72c-.78.78-.78 2.05 0 2.83L4 21.41c.39.39.9.59 1.41.59.51 0 1.02-.2 1.41-.59l7.78-7.78 2.81-2.81c.8-.78.8-2.07 0-2.86zM5.41 20L4 18.59l7.72-7.72 1.47 1.35L5.41 20z\"/>\n",
              "  </svg>\n",
              "      </button>\n",
              "      \n",
              "  <style>\n",
              "    .colab-df-container {\n",
              "      display:flex;\n",
              "      flex-wrap:wrap;\n",
              "      gap: 12px;\n",
              "    }\n",
              "\n",
              "    .colab-df-convert {\n",
              "      background-color: #E8F0FE;\n",
              "      border: none;\n",
              "      border-radius: 50%;\n",
              "      cursor: pointer;\n",
              "      display: none;\n",
              "      fill: #1967D2;\n",
              "      height: 32px;\n",
              "      padding: 0 0 0 0;\n",
              "      width: 32px;\n",
              "    }\n",
              "\n",
              "    .colab-df-convert:hover {\n",
              "      background-color: #E2EBFA;\n",
              "      box-shadow: 0px 1px 2px rgba(60, 64, 67, 0.3), 0px 1px 3px 1px rgba(60, 64, 67, 0.15);\n",
              "      fill: #174EA6;\n",
              "    }\n",
              "\n",
              "    [theme=dark] .colab-df-convert {\n",
              "      background-color: #3B4455;\n",
              "      fill: #D2E3FC;\n",
              "    }\n",
              "\n",
              "    [theme=dark] .colab-df-convert:hover {\n",
              "      background-color: #434B5C;\n",
              "      box-shadow: 0px 1px 3px 1px rgba(0, 0, 0, 0.15);\n",
              "      filter: drop-shadow(0px 1px 2px rgba(0, 0, 0, 0.3));\n",
              "      fill: #FFFFFF;\n",
              "    }\n",
              "  </style>\n",
              "\n",
              "      <script>\n",
              "        const buttonEl =\n",
              "          document.querySelector('#df-4331e2e1-d897-4112-96d3-7a5f0c803e8d button.colab-df-convert');\n",
              "        buttonEl.style.display =\n",
              "          google.colab.kernel.accessAllowed ? 'block' : 'none';\n",
              "\n",
              "        async function convertToInteractive(key) {\n",
              "          const element = document.querySelector('#df-4331e2e1-d897-4112-96d3-7a5f0c803e8d');\n",
              "          const dataTable =\n",
              "            await google.colab.kernel.invokeFunction('convertToInteractive',\n",
              "                                                     [key], {});\n",
              "          if (!dataTable) return;\n",
              "\n",
              "          const docLinkHtml = 'Like what you see? Visit the ' +\n",
              "            '<a target=\"_blank\" href=https://colab.research.google.com/notebooks/data_table.ipynb>data table notebook</a>'\n",
              "            + ' to learn more about interactive tables.';\n",
              "          element.innerHTML = '';\n",
              "          dataTable['output_type'] = 'display_data';\n",
              "          await google.colab.output.renderOutput(dataTable, element);\n",
              "          const docLink = document.createElement('div');\n",
              "          docLink.innerHTML = docLinkHtml;\n",
              "          element.appendChild(docLink);\n",
              "        }\n",
              "      </script>\n",
              "    </div>\n",
              "  </div>\n",
              "  "
            ]
          },
          "metadata": {},
          "execution_count": 365
        }
      ],
      "source": [
        "df.tail()"
      ]
    },
    {
      "cell_type": "markdown",
      "source": [
        "**Grouping AQI into Categories**"
      ],
      "metadata": {
        "id": "ddZflt5pWD-2"
      }
    },
    {
      "cell_type": "code",
      "execution_count": 366,
      "metadata": {
        "colab": {
          "base_uri": "https://localhost:8080/",
          "height": 423
        },
        "id": "9UF_0u_NbYfW",
        "outputId": "4da2ec00-34cb-4cfc-88ca-6ca599a7a338"
      },
      "outputs": [
        {
          "output_type": "execute_result",
          "data": {
            "text/plain": [
              "          Date    NOx     O3    PM10    CO   NH3    SO2  PM2.5    AQI    Day  \\\n",
              "0   2022-01-01  28.20  15.33   47.04  1.44  5.45  18.17  36.51   72.0  01-01   \n",
              "1   2022-01-02  28.40  12.20   56.64  1.45  5.51  18.91  44.61   74.0  02-01   \n",
              "2   2022-01-03  27.10  12.28   59.56  1.47  5.18  18.74  47.04   78.0  03-01   \n",
              "3   2022-01-04  27.20  17.99   69.44  1.48  5.21  19.08  55.04   92.0  04-01   \n",
              "4   2022-01-05  27.90  19.98  109.55  1.53  5.36  20.66  88.56  195.0  05-01   \n",
              "..         ...    ...    ...     ...   ...   ...    ...    ...    ...    ...   \n",
              "419 2023-02-24  20.27   1.48  107.40  1.10  0.00  21.13  67.72  126.0  24-02   \n",
              "420 2023-02-25  20.32   1.47  111.50  1.11  0.00  23.20  73.73  108.0  25-02   \n",
              "421 2023-02-26  20.25   1.49  104.50  1.05  0.00  24.46  78.60  103.0  26-02   \n",
              "422 2023-02-27  49.87   1.51   95.83  1.03  0.05  22.88  57.30   96.0  27-02   \n",
              "423 2023-02-28  65.19   1.53  108.81  1.15  4.03  17.52  70.31  106.0  28-02   \n",
              "\n",
              "     Month Year      Category  \n",
              "0    01-22   22  Satisfactory  \n",
              "1    01-22   22  Satisfactory  \n",
              "2    01-22   22  Satisfactory  \n",
              "3    01-22   22  Satisfactory  \n",
              "4    01-22   22      Moderate  \n",
              "..     ...  ...           ...  \n",
              "419  02-23   23      Moderate  \n",
              "420  02-23   23      Moderate  \n",
              "421  02-23   23      Moderate  \n",
              "422  02-23   23  Satisfactory  \n",
              "423  02-23   23      Moderate  \n",
              "\n",
              "[414 rows x 13 columns]"
            ],
            "text/html": [
              "\n",
              "  <div id=\"df-25c8c393-7717-4ec5-b12d-696c1e0600d6\">\n",
              "    <div class=\"colab-df-container\">\n",
              "      <div>\n",
              "<style scoped>\n",
              "    .dataframe tbody tr th:only-of-type {\n",
              "        vertical-align: middle;\n",
              "    }\n",
              "\n",
              "    .dataframe tbody tr th {\n",
              "        vertical-align: top;\n",
              "    }\n",
              "\n",
              "    .dataframe thead th {\n",
              "        text-align: right;\n",
              "    }\n",
              "</style>\n",
              "<table border=\"1\" class=\"dataframe\">\n",
              "  <thead>\n",
              "    <tr style=\"text-align: right;\">\n",
              "      <th></th>\n",
              "      <th>Date</th>\n",
              "      <th>NOx</th>\n",
              "      <th>O3</th>\n",
              "      <th>PM10</th>\n",
              "      <th>CO</th>\n",
              "      <th>NH3</th>\n",
              "      <th>SO2</th>\n",
              "      <th>PM2.5</th>\n",
              "      <th>AQI</th>\n",
              "      <th>Day</th>\n",
              "      <th>Month</th>\n",
              "      <th>Year</th>\n",
              "      <th>Category</th>\n",
              "    </tr>\n",
              "  </thead>\n",
              "  <tbody>\n",
              "    <tr>\n",
              "      <th>0</th>\n",
              "      <td>2022-01-01</td>\n",
              "      <td>28.20</td>\n",
              "      <td>15.33</td>\n",
              "      <td>47.04</td>\n",
              "      <td>1.44</td>\n",
              "      <td>5.45</td>\n",
              "      <td>18.17</td>\n",
              "      <td>36.51</td>\n",
              "      <td>72.0</td>\n",
              "      <td>01-01</td>\n",
              "      <td>01-22</td>\n",
              "      <td>22</td>\n",
              "      <td>Satisfactory</td>\n",
              "    </tr>\n",
              "    <tr>\n",
              "      <th>1</th>\n",
              "      <td>2022-01-02</td>\n",
              "      <td>28.40</td>\n",
              "      <td>12.20</td>\n",
              "      <td>56.64</td>\n",
              "      <td>1.45</td>\n",
              "      <td>5.51</td>\n",
              "      <td>18.91</td>\n",
              "      <td>44.61</td>\n",
              "      <td>74.0</td>\n",
              "      <td>02-01</td>\n",
              "      <td>01-22</td>\n",
              "      <td>22</td>\n",
              "      <td>Satisfactory</td>\n",
              "    </tr>\n",
              "    <tr>\n",
              "      <th>2</th>\n",
              "      <td>2022-01-03</td>\n",
              "      <td>27.10</td>\n",
              "      <td>12.28</td>\n",
              "      <td>59.56</td>\n",
              "      <td>1.47</td>\n",
              "      <td>5.18</td>\n",
              "      <td>18.74</td>\n",
              "      <td>47.04</td>\n",
              "      <td>78.0</td>\n",
              "      <td>03-01</td>\n",
              "      <td>01-22</td>\n",
              "      <td>22</td>\n",
              "      <td>Satisfactory</td>\n",
              "    </tr>\n",
              "    <tr>\n",
              "      <th>3</th>\n",
              "      <td>2022-01-04</td>\n",
              "      <td>27.20</td>\n",
              "      <td>17.99</td>\n",
              "      <td>69.44</td>\n",
              "      <td>1.48</td>\n",
              "      <td>5.21</td>\n",
              "      <td>19.08</td>\n",
              "      <td>55.04</td>\n",
              "      <td>92.0</td>\n",
              "      <td>04-01</td>\n",
              "      <td>01-22</td>\n",
              "      <td>22</td>\n",
              "      <td>Satisfactory</td>\n",
              "    </tr>\n",
              "    <tr>\n",
              "      <th>4</th>\n",
              "      <td>2022-01-05</td>\n",
              "      <td>27.90</td>\n",
              "      <td>19.98</td>\n",
              "      <td>109.55</td>\n",
              "      <td>1.53</td>\n",
              "      <td>5.36</td>\n",
              "      <td>20.66</td>\n",
              "      <td>88.56</td>\n",
              "      <td>195.0</td>\n",
              "      <td>05-01</td>\n",
              "      <td>01-22</td>\n",
              "      <td>22</td>\n",
              "      <td>Moderate</td>\n",
              "    </tr>\n",
              "    <tr>\n",
              "      <th>...</th>\n",
              "      <td>...</td>\n",
              "      <td>...</td>\n",
              "      <td>...</td>\n",
              "      <td>...</td>\n",
              "      <td>...</td>\n",
              "      <td>...</td>\n",
              "      <td>...</td>\n",
              "      <td>...</td>\n",
              "      <td>...</td>\n",
              "      <td>...</td>\n",
              "      <td>...</td>\n",
              "      <td>...</td>\n",
              "      <td>...</td>\n",
              "    </tr>\n",
              "    <tr>\n",
              "      <th>419</th>\n",
              "      <td>2023-02-24</td>\n",
              "      <td>20.27</td>\n",
              "      <td>1.48</td>\n",
              "      <td>107.40</td>\n",
              "      <td>1.10</td>\n",
              "      <td>0.00</td>\n",
              "      <td>21.13</td>\n",
              "      <td>67.72</td>\n",
              "      <td>126.0</td>\n",
              "      <td>24-02</td>\n",
              "      <td>02-23</td>\n",
              "      <td>23</td>\n",
              "      <td>Moderate</td>\n",
              "    </tr>\n",
              "    <tr>\n",
              "      <th>420</th>\n",
              "      <td>2023-02-25</td>\n",
              "      <td>20.32</td>\n",
              "      <td>1.47</td>\n",
              "      <td>111.50</td>\n",
              "      <td>1.11</td>\n",
              "      <td>0.00</td>\n",
              "      <td>23.20</td>\n",
              "      <td>73.73</td>\n",
              "      <td>108.0</td>\n",
              "      <td>25-02</td>\n",
              "      <td>02-23</td>\n",
              "      <td>23</td>\n",
              "      <td>Moderate</td>\n",
              "    </tr>\n",
              "    <tr>\n",
              "      <th>421</th>\n",
              "      <td>2023-02-26</td>\n",
              "      <td>20.25</td>\n",
              "      <td>1.49</td>\n",
              "      <td>104.50</td>\n",
              "      <td>1.05</td>\n",
              "      <td>0.00</td>\n",
              "      <td>24.46</td>\n",
              "      <td>78.60</td>\n",
              "      <td>103.0</td>\n",
              "      <td>26-02</td>\n",
              "      <td>02-23</td>\n",
              "      <td>23</td>\n",
              "      <td>Moderate</td>\n",
              "    </tr>\n",
              "    <tr>\n",
              "      <th>422</th>\n",
              "      <td>2023-02-27</td>\n",
              "      <td>49.87</td>\n",
              "      <td>1.51</td>\n",
              "      <td>95.83</td>\n",
              "      <td>1.03</td>\n",
              "      <td>0.05</td>\n",
              "      <td>22.88</td>\n",
              "      <td>57.30</td>\n",
              "      <td>96.0</td>\n",
              "      <td>27-02</td>\n",
              "      <td>02-23</td>\n",
              "      <td>23</td>\n",
              "      <td>Satisfactory</td>\n",
              "    </tr>\n",
              "    <tr>\n",
              "      <th>423</th>\n",
              "      <td>2023-02-28</td>\n",
              "      <td>65.19</td>\n",
              "      <td>1.53</td>\n",
              "      <td>108.81</td>\n",
              "      <td>1.15</td>\n",
              "      <td>4.03</td>\n",
              "      <td>17.52</td>\n",
              "      <td>70.31</td>\n",
              "      <td>106.0</td>\n",
              "      <td>28-02</td>\n",
              "      <td>02-23</td>\n",
              "      <td>23</td>\n",
              "      <td>Moderate</td>\n",
              "    </tr>\n",
              "  </tbody>\n",
              "</table>\n",
              "<p>414 rows × 13 columns</p>\n",
              "</div>\n",
              "      <button class=\"colab-df-convert\" onclick=\"convertToInteractive('df-25c8c393-7717-4ec5-b12d-696c1e0600d6')\"\n",
              "              title=\"Convert this dataframe to an interactive table.\"\n",
              "              style=\"display:none;\">\n",
              "        \n",
              "  <svg xmlns=\"http://www.w3.org/2000/svg\" height=\"24px\"viewBox=\"0 0 24 24\"\n",
              "       width=\"24px\">\n",
              "    <path d=\"M0 0h24v24H0V0z\" fill=\"none\"/>\n",
              "    <path d=\"M18.56 5.44l.94 2.06.94-2.06 2.06-.94-2.06-.94-.94-2.06-.94 2.06-2.06.94zm-11 1L8.5 8.5l.94-2.06 2.06-.94-2.06-.94L8.5 2.5l-.94 2.06-2.06.94zm10 10l.94 2.06.94-2.06 2.06-.94-2.06-.94-.94-2.06-.94 2.06-2.06.94z\"/><path d=\"M17.41 7.96l-1.37-1.37c-.4-.4-.92-.59-1.43-.59-.52 0-1.04.2-1.43.59L10.3 9.45l-7.72 7.72c-.78.78-.78 2.05 0 2.83L4 21.41c.39.39.9.59 1.41.59.51 0 1.02-.2 1.41-.59l7.78-7.78 2.81-2.81c.8-.78.8-2.07 0-2.86zM5.41 20L4 18.59l7.72-7.72 1.47 1.35L5.41 20z\"/>\n",
              "  </svg>\n",
              "      </button>\n",
              "      \n",
              "  <style>\n",
              "    .colab-df-container {\n",
              "      display:flex;\n",
              "      flex-wrap:wrap;\n",
              "      gap: 12px;\n",
              "    }\n",
              "\n",
              "    .colab-df-convert {\n",
              "      background-color: #E8F0FE;\n",
              "      border: none;\n",
              "      border-radius: 50%;\n",
              "      cursor: pointer;\n",
              "      display: none;\n",
              "      fill: #1967D2;\n",
              "      height: 32px;\n",
              "      padding: 0 0 0 0;\n",
              "      width: 32px;\n",
              "    }\n",
              "\n",
              "    .colab-df-convert:hover {\n",
              "      background-color: #E2EBFA;\n",
              "      box-shadow: 0px 1px 2px rgba(60, 64, 67, 0.3), 0px 1px 3px 1px rgba(60, 64, 67, 0.15);\n",
              "      fill: #174EA6;\n",
              "    }\n",
              "\n",
              "    [theme=dark] .colab-df-convert {\n",
              "      background-color: #3B4455;\n",
              "      fill: #D2E3FC;\n",
              "    }\n",
              "\n",
              "    [theme=dark] .colab-df-convert:hover {\n",
              "      background-color: #434B5C;\n",
              "      box-shadow: 0px 1px 3px 1px rgba(0, 0, 0, 0.15);\n",
              "      filter: drop-shadow(0px 1px 2px rgba(0, 0, 0, 0.3));\n",
              "      fill: #FFFFFF;\n",
              "    }\n",
              "  </style>\n",
              "\n",
              "      <script>\n",
              "        const buttonEl =\n",
              "          document.querySelector('#df-25c8c393-7717-4ec5-b12d-696c1e0600d6 button.colab-df-convert');\n",
              "        buttonEl.style.display =\n",
              "          google.colab.kernel.accessAllowed ? 'block' : 'none';\n",
              "\n",
              "        async function convertToInteractive(key) {\n",
              "          const element = document.querySelector('#df-25c8c393-7717-4ec5-b12d-696c1e0600d6');\n",
              "          const dataTable =\n",
              "            await google.colab.kernel.invokeFunction('convertToInteractive',\n",
              "                                                     [key], {});\n",
              "          if (!dataTable) return;\n",
              "\n",
              "          const docLinkHtml = 'Like what you see? Visit the ' +\n",
              "            '<a target=\"_blank\" href=https://colab.research.google.com/notebooks/data_table.ipynb>data table notebook</a>'\n",
              "            + ' to learn more about interactive tables.';\n",
              "          element.innerHTML = '';\n",
              "          dataTable['output_type'] = 'display_data';\n",
              "          await google.colab.output.renderOutput(dataTable, element);\n",
              "          const docLink = document.createElement('div');\n",
              "          docLink.innerHTML = docLinkHtml;\n",
              "          element.appendChild(docLink);\n",
              "        }\n",
              "      </script>\n",
              "    </div>\n",
              "  </div>\n",
              "  "
            ]
          },
          "metadata": {},
          "execution_count": 366
        }
      ],
      "source": [
        "df['Category']=df.apply(lambda row:'Good' if row['AQI']<=50\n",
        "                                 else 'Satisfactory' if row['AQI']<=100\n",
        "                                 else 'Moderate' if row['AQI']<=200\n",
        "                                 else 'Poor' if row['AQI']<=300\n",
        "                                 else 'Very Poor' if row['AQI']<=400\n",
        "                                 else 'Severe', axis=1)\n",
        "df"
      ]
    },
    {
      "cell_type": "code",
      "execution_count": 367,
      "metadata": {
        "colab": {
          "base_uri": "https://localhost:8080/"
        },
        "id": "c781FXjDbYim",
        "outputId": "7a17a193-268b-4ea3-96df-01d818b34238"
      },
      "outputs": [
        {
          "output_type": "execute_result",
          "data": {
            "text/plain": [
              "Satisfactory    200\n",
              "Moderate        126\n",
              "Good             83\n",
              "Poor              4\n",
              "Very Poor         1\n",
              "Name: Category, dtype: int64"
            ]
          },
          "metadata": {},
          "execution_count": 367
        }
      ],
      "source": [
        "df['Category'].value_counts()"
      ]
    },
    {
      "cell_type": "markdown",
      "metadata": {
        "id": "kJPFB-sK57vx"
      },
      "source": [
        "**Plotting Correlation Matrix**"
      ]
    },
    {
      "cell_type": "code",
      "execution_count": 368,
      "metadata": {
        "colab": {
          "base_uri": "https://localhost:8080/",
          "height": 396
        },
        "id": "VJb_nDnMbYlH",
        "outputId": "b6486722-f80b-4739-b537-4688d4bdcb2e"
      },
      "outputs": [
        {
          "output_type": "execute_result",
          "data": {
            "text/plain": [
              "<AxesSubplot:>"
            ]
          },
          "metadata": {},
          "execution_count": 368
        },
        {
          "output_type": "display_data",
          "data": {
            "text/plain": [
              "<Figure size 864x432 with 2 Axes>"
            ],
            "image/png": "[encoded data removed]"
          },
          "metadata": {
            "needs_background": "light"
          }
        }
      ],
      "source": [
        "plt.rcParams['figure.figsize']=(12,6)\n",
        "sns.heatmap(df.corr(),cmap='gist_earth',annot=True)"
      ]
    },
    {
      "cell_type": "markdown",
      "metadata": {
        "id": "XSGswQNaoFz0"
      },
      "source": [
        "From the given correlation matrix, we can infer the following:\n",
        "\n",
        "\n",
        "* The AQI is positively correlated with all air pollutants, with the highest correlation coefficient being 0.88 for PM2.5.\n",
        "\n",
        "* PM10, CO, NH3, and SO2 have moderately high positive correlation coefficients with AQI, ranging from 0.46 to 0.57.\n",
        "\n",
        "* NOx and PM10 have a moderate positive correlation coefficient of 0.41, indicating a possible link between these two pollutants.\n",
        "\n",
        "* NH3 has a moderately high positive correlation coefficient with NOx and SO2, indicating that these pollutants may be produced together or may have a common source.\n",
        "\n",
        "* O3 has a weak positive correlation coefficient with AQI, indicating that it may not be a major contributor to poor air quality.\n",
        "\n",
        "* PM2.5 has a high positive correlation coefficient with PM10 and a moderately high positive correlation coefficient with CO and NH3, indicating that these pollutants may be related to the generation of particulate matter\n",
        "\n",
        "\n",
        "\n",
        "\n",
        "\n",
        "\n",
        "\n",
        "\n"
      ]
    },
    {
      "cell_type": "markdown",
      "metadata": {
        "id": "Jp0mjKL36Kar"
      },
      "source": [
        "**Plotting the pollutants that affect AQI the most**"
      ]
    },
    {
      "cell_type": "code",
      "execution_count": 369,
      "metadata": {
        "colab": {
          "base_uri": "https://localhost:8080/",
          "height": 395
        },
        "id": "JO0G7RzgMqHb",
        "outputId": "a89c7b0f-d4d3-4f17-bedc-146b965a968e"
      },
      "outputs": [
        {
          "output_type": "display_data",
          "data": {
            "text/plain": [
              "<Figure size 864x432 with 1 Axes>"
            ],
            "image/png": "[encoded data removed]"
          },
          "metadata": {
            "needs_background": "light"
          }
        }
      ],
      "source": [
        "sns.regplot(x='PM2.5', y='AQI', data=df, color='green',label='PM2.5')\n",
        "sns.regplot(x='PM10', y='AQI', data=df, color='red',label='PM10')\n",
        "\n",
        "sns.despine(left=True)\n",
        "plt.grid()\n",
        "plt.xlabel('')\n",
        "plt.ylabel('AQI')\n",
        "plt.title('Pollutants that affect AQI the most',fontsize=20,fontweight='bold',color='r')\n",
        "plt.legend(fontsize=12)\n",
        "plt.show()"
      ]
    },
    {
      "cell_type": "markdown",
      "metadata": {
        "id": "60po4AS9V2sa"
      },
      "source": [
        "\n",
        "\n",
        "*   The regression lines indicate that PM2.5 and PM10 have a strong positive linear relationship with AQI\n",
        "\n",
        "*   This means that as the PM10 and PM2.5 concentration increases, so does the AQI value, indicating worsening air quality.\n",
        "\n",
        "\n",
        "\n"
      ]
    },
    {
      "cell_type": "markdown",
      "metadata": {
        "id": "-aODZxKj6XJa"
      },
      "source": [
        "**Plotting the pollutants that affect AQI the least**"
      ]
    },
    {
      "cell_type": "code",
      "execution_count": 370,
      "metadata": {
        "colab": {
          "base_uri": "https://localhost:8080/",
          "height": 395
        },
        "id": "ed6X9cSPOzKr",
        "outputId": "e5cfe431-ab0b-4ae3-d438-705f8b80bc1b"
      },
      "outputs": [
        {
          "output_type": "display_data",
          "data": {
            "text/plain": [
              "<Figure size 864x432 with 1 Axes>"
            ],
            "image/png": "[encoded data removed]"
          },
          "metadata": {
            "needs_background": "light"
          }
        }
      ],
      "source": [
        "sns.regplot(x='O3', y='AQI', data=df, color='blue',label='O3')\n",
        "sns.regplot(x='NH3', y='AQI', data=df, color='green',label='NH3')\n",
        "\n",
        "sns.despine(left=True)\n",
        "plt.grid()\n",
        "plt.xlabel('')\n",
        "plt.ylabel('AQI')\n",
        "plt.title('Pollutants that affect AQI the least',fontsize=20,fontweight='bold',color='r')\n",
        "plt.legend(fontsize=12)\n",
        "plt.show()"
      ]
    },
    {
      "cell_type": "markdown",
      "metadata": {
        "id": "M0XUm2o6WEeW"
      },
      "source": [
        "\n",
        "\n",
        "\n",
        "*   from the slope of the regression lines, it is visible that the correlation b/w O3 and AQI is very weak.\n",
        "*   This indicates that higher values of O3 are slightly associated with higher values of AQI, but the relationship is not strong.\n",
        "\n"
      ]
    },
    {
      "cell_type": "markdown",
      "metadata": {
        "id": "u_AY2vFA6jJE"
      },
      "source": [
        "**Analyzing Maximum AQI of each month**"
      ]
    },
    {
      "cell_type": "code",
      "execution_count": 371,
      "metadata": {
        "colab": {
          "base_uri": "https://localhost:8080/",
          "height": 488
        },
        "id": "8JzrrOgVwWgP",
        "outputId": "b8f3cda8-d16f-4620-d8d6-d74b35be82da"
      },
      "outputs": [
        {
          "output_type": "execute_result",
          "data": {
            "text/plain": [
              "    Month    AQI\n",
              "0   01-22  195.0\n",
              "1   01-23  220.0\n",
              "2   02-22  200.0\n",
              "3   02-23  128.0\n",
              "4   03-22  160.0\n",
              "5   04-22  170.0\n",
              "6   05-22  191.0\n",
              "7   06-22  133.0\n",
              "8   07-22  177.0\n",
              "9   08-22   76.0\n",
              "10  09-22   69.0\n",
              "11  10-22   69.0\n",
              "12  11-22   59.0\n",
              "13  12-22  301.0"
            ],
            "text/html": [
              "\n",
              "  <div id=\"df-a9b80a2f-c8cb-437e-92f1-2424f133e676\">\n",
              "    <div class=\"colab-df-container\">\n",
              "      <div>\n",
              "<style scoped>\n",
              "    .dataframe tbody tr th:only-of-type {\n",
              "        vertical-align: middle;\n",
              "    }\n",
              "\n",
              "    .dataframe tbody tr th {\n",
              "        vertical-align: top;\n",
              "    }\n",
              "\n",
              "    .dataframe thead th {\n",
              "        text-align: right;\n",
              "    }\n",
              "</style>\n",
              "<table border=\"1\" class=\"dataframe\">\n",
              "  <thead>\n",
              "    <tr style=\"text-align: right;\">\n",
              "      <th></th>\n",
              "      <th>Month</th>\n",
              "      <th>AQI</th>\n",
              "    </tr>\n",
              "  </thead>\n",
              "  <tbody>\n",
              "    <tr>\n",
              "      <th>0</th>\n",
              "      <td>01-22</td>\n",
              "      <td>195.0</td>\n",
              "    </tr>\n",
              "    <tr>\n",
              "      <th>1</th>\n",
              "      <td>01-23</td>\n",
              "      <td>220.0</td>\n",
              "    </tr>\n",
              "    <tr>\n",
              "      <th>2</th>\n",
              "      <td>02-22</td>\n",
              "      <td>200.0</td>\n",
              "    </tr>\n",
              "    <tr>\n",
              "      <th>3</th>\n",
              "      <td>02-23</td>\n",
              "      <td>128.0</td>\n",
              "    </tr>\n",
              "    <tr>\n",
              "      <th>4</th>\n",
              "      <td>03-22</td>\n",
              "      <td>160.0</td>\n",
              "    </tr>\n",
              "    <tr>\n",
              "      <th>5</th>\n",
              "      <td>04-22</td>\n",
              "      <td>170.0</td>\n",
              "    </tr>\n",
              "    <tr>\n",
              "      <th>6</th>\n",
              "      <td>05-22</td>\n",
              "      <td>191.0</td>\n",
              "    </tr>\n",
              "    <tr>\n",
              "      <th>7</th>\n",
              "      <td>06-22</td>\n",
              "      <td>133.0</td>\n",
              "    </tr>\n",
              "    <tr>\n",
              "      <th>8</th>\n",
              "      <td>07-22</td>\n",
              "      <td>177.0</td>\n",
              "    </tr>\n",
              "    <tr>\n",
              "      <th>9</th>\n",
              "      <td>08-22</td>\n",
              "      <td>76.0</td>\n",
              "    </tr>\n",
              "    <tr>\n",
              "      <th>10</th>\n",
              "      <td>09-22</td>\n",
              "      <td>69.0</td>\n",
              "    </tr>\n",
              "    <tr>\n",
              "      <th>11</th>\n",
              "      <td>10-22</td>\n",
              "      <td>69.0</td>\n",
              "    </tr>\n",
              "    <tr>\n",
              "      <th>12</th>\n",
              "      <td>11-22</td>\n",
              "      <td>59.0</td>\n",
              "    </tr>\n",
              "    <tr>\n",
              "      <th>13</th>\n",
              "      <td>12-22</td>\n",
              "      <td>301.0</td>\n",
              "    </tr>\n",
              "  </tbody>\n",
              "</table>\n",
              "</div>\n",
              "      <button class=\"colab-df-convert\" onclick=\"convertToInteractive('df-a9b80a2f-c8cb-437e-92f1-2424f133e676')\"\n",
              "              title=\"Convert this dataframe to an interactive table.\"\n",
              "              style=\"display:none;\">\n",
              "        \n",
              "  <svg xmlns=\"http://www.w3.org/2000/svg\" height=\"24px\"viewBox=\"0 0 24 24\"\n",
              "       width=\"24px\">\n",
              "    <path d=\"M0 0h24v24H0V0z\" fill=\"none\"/>\n",
              "    <path d=\"M18.56 5.44l.94 2.06.94-2.06 2.06-.94-2.06-.94-.94-2.06-.94 2.06-2.06.94zm-11 1L8.5 8.5l.94-2.06 2.06-.94-2.06-.94L8.5 2.5l-.94 2.06-2.06.94zm10 10l.94 2.06.94-2.06 2.06-.94-2.06-.94-.94-2.06-.94 2.06-2.06.94z\"/><path d=\"M17.41 7.96l-1.37-1.37c-.4-.4-.92-.59-1.43-.59-.52 0-1.04.2-1.43.59L10.3 9.45l-7.72 7.72c-.78.78-.78 2.05 0 2.83L4 21.41c.39.39.9.59 1.41.59.51 0 1.02-.2 1.41-.59l7.78-7.78 2.81-2.81c.8-.78.8-2.07 0-2.86zM5.41 20L4 18.59l7.72-7.72 1.47 1.35L5.41 20z\"/>\n",
              "  </svg>\n",
              "      </button>\n",
              "      \n",
              "  <style>\n",
              "    .colab-df-container {\n",
              "      display:flex;\n",
              "      flex-wrap:wrap;\n",
              "      gap: 12px;\n",
              "    }\n",
              "\n",
              "    .colab-df-convert {\n",
              "      background-color: #E8F0FE;\n",
              "      border: none;\n",
              "      border-radius: 50%;\n",
              "      cursor: pointer;\n",
              "      display: none;\n",
              "      fill: #1967D2;\n",
              "      height: 32px;\n",
              "      padding: 0 0 0 0;\n",
              "      width: 32px;\n",
              "    }\n",
              "\n",
              "    .colab-df-convert:hover {\n",
              "      background-color: #E2EBFA;\n",
              "      box-shadow: 0px 1px 2px rgba(60, 64, 67, 0.3), 0px 1px 3px 1px rgba(60, 64, 67, 0.15);\n",
              "      fill: #174EA6;\n",
              "    }\n",
              "\n",
              "    [theme=dark] .colab-df-convert {\n",
              "      background-color: #3B4455;\n",
              "      fill: #D2E3FC;\n",
              "    }\n",
              "\n",
              "    [theme=dark] .colab-df-convert:hover {\n",
              "      background-color: #434B5C;\n",
              "      box-shadow: 0px 1px 3px 1px rgba(0, 0, 0, 0.15);\n",
              "      filter: drop-shadow(0px 1px 2px rgba(0, 0, 0, 0.3));\n",
              "      fill: #FFFFFF;\n",
              "    }\n",
              "  </style>\n",
              "\n",
              "      <script>\n",
              "        const buttonEl =\n",
              "          document.querySelector('#df-a9b80a2f-c8cb-437e-92f1-2424f133e676 button.colab-df-convert');\n",
              "        buttonEl.style.display =\n",
              "          google.colab.kernel.accessAllowed ? 'block' : 'none';\n",
              "\n",
              "        async function convertToInteractive(key) {\n",
              "          const element = document.querySelector('#df-a9b80a2f-c8cb-437e-92f1-2424f133e676');\n",
              "          const dataTable =\n",
              "            await google.colab.kernel.invokeFunction('convertToInteractive',\n",
              "                                                     [key], {});\n",
              "          if (!dataTable) return;\n",
              "\n",
              "          const docLinkHtml = 'Like what you see? Visit the ' +\n",
              "            '<a target=\"_blank\" href=https://colab.research.google.com/notebooks/data_table.ipynb>data table notebook</a>'\n",
              "            + ' to learn more about interactive tables.';\n",
              "          element.innerHTML = '';\n",
              "          dataTable['output_type'] = 'display_data';\n",
              "          await google.colab.output.renderOutput(dataTable, element);\n",
              "          const docLink = document.createElement('div');\n",
              "          docLink.innerHTML = docLinkHtml;\n",
              "          element.appendChild(docLink);\n",
              "        }\n",
              "      </script>\n",
              "    </div>\n",
              "  </div>\n",
              "  "
            ]
          },
          "metadata": {},
          "execution_count": 371
        }
      ],
      "source": [
        "max_AQI=df.groupby('Month')['AQI'].max().reset_index()\n",
        "max_AQI"
      ]
    },
    {
      "cell_type": "code",
      "execution_count": 372,
      "metadata": {
        "colab": {
          "base_uri": "https://localhost:8080/",
          "height": 413
        },
        "id": "bPxJzGt2xPVn",
        "outputId": "0e286284-eea6-4249-a989-5a6bf6dd299b"
      },
      "outputs": [
        {
          "output_type": "execute_result",
          "data": {
            "text/plain": [
              "Text(0, 0.5, '')"
            ]
          },
          "metadata": {},
          "execution_count": 372
        },
        {
          "output_type": "display_data",
          "data": {
            "text/plain": [
              "<Figure size 864x432 with 1 Axes>"
            ],
            "image/png": "[encoded data removed]"
          },
          "metadata": {
            "needs_background": "light"
          }
        }
      ],
      "source": [
        "max_AQI.plot(kind='line',linewidth=2,marker='o',markerfacecolor='k')\n",
        "sns.despine(left=True)\n",
        "plt.grid(linewidth=0.5)\n",
        "plt.title('Maximum AQI Per Month',fontsize=20,fontweight='bold',color='r')\n",
        "plt.xlabel('')\n",
        "plt.ylabel('')"
      ]
    },
    {
      "cell_type": "markdown",
      "metadata": {
        "id": "k01vRdZg6zz5"
      },
      "source": [
        "* There is a significant variation in AQI values across different months. The values range from a low of 59 in November to a high of 301 in December.\n",
        "\n",
        "* January and February have relatively higher AQI values compared to other months, with values of 195 and 220, respectively.\n",
        "\n",
        "* The AQI values gradually increase from March to May, with the highest value of 191 being recorded in May. This may be due to increased agricultural activities and fires during this time.\n",
        "\n",
        "* There is a sudden drop in AQI values in June, which is likely due to the onset of monsoon rains that help to reduce air pollution levels.\n",
        "\n",
        "* AQI values remain relatively low from July to September, before increasing slightly in October.\n",
        "\n",
        "* November has the lowest AQI value of 59, likely due to the impact of the northeast monsoon.\n",
        "\n",
        "* December has the highest AQI value of 301, possibly due to the increase in air pollution during the winter months."
      ]
    },
    {
      "cell_type": "markdown",
      "source": [
        "**Distribution of AQI**"
      ],
      "metadata": {
        "id": "CrCNniXbXnqT"
      }
    },
    {
      "cell_type": "code",
      "execution_count": 373,
      "metadata": {
        "colab": {
          "base_uri": "https://localhost:8080/",
          "height": 413
        },
        "id": "iw7ptJb53pkG",
        "outputId": "7f9492c2-f374-4402-a988-74cb37992718"
      },
      "outputs": [
        {
          "output_type": "execute_result",
          "data": {
            "text/plain": [
              "Text(0.5, 1.0, 'Distribution of AQI')"
            ]
          },
          "metadata": {},
          "execution_count": 373
        },
        {
          "output_type": "display_data",
          "data": {
            "text/plain": [
              "<Figure size 864x432 with 1 Axes>"
            ],
            "image/png": "[encoded data removed]"
          },
          "metadata": {
            "needs_background": "light"
          }
        }
      ],
      "source": [
        "sns.histplot(x=df['AQI'],hue=df['Category'],kde=True,palette='Set1')\n",
        "sns.despine(left=True)\n",
        "plt.grid(axis='y',linewidth=0.5)\n",
        "plt.xlabel('')\n",
        "plt.ylabel('')\n",
        "plt.title('Distribution of AQI',fontsize=20,fontweight='bold',color='r')"
      ]
    },
    {
      "cell_type": "markdown",
      "metadata": {
        "id": "WOwkIwyH5y3i"
      },
      "source": [
        "* The plot shows that the majority of the AQI values fall between 50 to 150, with a few values exceeding 150.\n",
        "\n",
        "* The plot shows that most of the observations fall under the Satisfactory and Moderate categories. There are relatively fewer observations in the Good and Poor categories, and very few observations in the Very Poor and Severe categories.\n",
        "\n",
        "* Overall, the plot suggests that the air quality in the region represented by the dataset is mostly satisfactory and moderate, with occasional dips into the poor category. The plot also highlights the need for measures to be taken to prevent the air quality from deteriorating further.\n"
      ]
    },
    {
      "cell_type": "markdown",
      "source": [
        "**Variation of NH3 with month**"
      ],
      "metadata": {
        "id": "SForYfPWXxrG"
      }
    },
    {
      "cell_type": "code",
      "execution_count": 374,
      "metadata": {
        "colab": {
          "base_uri": "https://localhost:8080/"
        },
        "id": "nsLzRcYlPl_F",
        "outputId": "6453a274-65d4-4f92-a0a1-c960ae778b59"
      },
      "outputs": [
        {
          "output_type": "execute_result",
          "data": {
            "text/plain": [
              "Not Harmful    414\n",
              "dtype: int64"
            ]
          },
          "metadata": {},
          "execution_count": 374
        }
      ],
      "source": [
        "NH3=df.apply(lambda row:'Not Harmful' if row['NH3']<100\n",
        "              else 'Harmful', axis=1)\n",
        "NH3.value_counts()"
      ]
    },
    {
      "cell_type": "code",
      "execution_count": 375,
      "metadata": {
        "colab": {
          "base_uri": "https://localhost:8080/",
          "height": 413
        },
        "id": "LMLh4iriTwk9",
        "outputId": "6a636e7a-45cd-4b47-8183-8575ad623e0f"
      },
      "outputs": [
        {
          "output_type": "execute_result",
          "data": {
            "text/plain": [
              "Text(0.5, 1.0, 'Variation in NH3 with Month')"
            ]
          },
          "metadata": {},
          "execution_count": 375
        },
        {
          "output_type": "display_data",
          "data": {
            "text/plain": [
              "<Figure size 864x432 with 1 Axes>"
            ],
            "image/png": "[encoded data removed]"
          },
          "metadata": {
            "needs_background": "light"
          }
        }
      ],
      "source": [
        "sns.boxplot(x=df['Month'],y=df['NH3'],hue=NH3, palette=\"Set1\",\n",
        "            whiskerprops={'linewidth': 2},\n",
        "            flierprops={'marker': 'o', 'markerfacecolor': 'k', 'markersize': 8})\n",
        "sns.despine(left=True)\n",
        "plt.grid(axis='y',linewidth=0.5)\n",
        "plt.xlabel('')\n",
        "plt.ylabel('')\n",
        "plt.title('Variation in NH3 with Month',fontsize=20,fontweight='bold',color='r')"
      ]
    },
    {
      "cell_type": "markdown",
      "metadata": {
        "id": "_iZmk3KWjxRh"
      },
      "source": [
        "\n",
        "*   The boxplot suggests that NH3 levels are generally not harmful and do not show significant variations across months, except for a few outliers in certain months..\n",
        "\n",
        "*   The outliers could be due to natural variability in the data. Some days may have higher or lower levels of NOx due to weather conditions, traffic patterns, or other factors.\n",
        "\n",
        "\n",
        "\n",
        "\n",
        "\n",
        "\n"
      ]
    },
    {
      "cell_type": "markdown",
      "source": [
        "**Variation of NOx with month**"
      ],
      "metadata": {
        "id": "8swoCUUWYSkW"
      }
    },
    {
      "cell_type": "code",
      "execution_count": 376,
      "metadata": {
        "id": "oiN9BuOqUWTu"
      },
      "outputs": [],
      "source": [
        "NOx=df.apply(lambda row:'Good' if row['NOx']<=53\n",
        "              else 'Moderate' if row['NOx']<=100\n",
        "              else 'Unhealthy',axis=1)"
      ]
    },
    {
      "cell_type": "code",
      "execution_count": 377,
      "metadata": {
        "colab": {
          "base_uri": "https://localhost:8080/",
          "height": 413
        },
        "id": "XNGAD2piVWbG",
        "outputId": "3d09fd8f-5502-40cc-9283-b9e0d36ff379"
      },
      "outputs": [
        {
          "output_type": "execute_result",
          "data": {
            "text/plain": [
              "Text(0.5, 1.0, 'Variation in NOx with Month')"
            ]
          },
          "metadata": {},
          "execution_count": 377
        },
        {
          "output_type": "display_data",
          "data": {
            "text/plain": [
              "<Figure size 864x432 with 1 Axes>"
            ],
            "image/png": "[encoded data removed]"
          },
          "metadata": {
            "needs_background": "light"
          }
        }
      ],
      "source": [
        "sns.boxplot(x=df['Month'],y=df['NOx'],hue=NOx,width=1.5,palette=\"Set1\",\n",
        "            whiskerprops={'linewidth': 2},\n",
        "            flierprops={'marker': 'o', 'markerfacecolor': 'k', 'markersize': 8})\n",
        "\n",
        "sns.despine(left=True)\n",
        "plt.grid(axis='y',linewidth=0.5)\n",
        "plt.xlabel('')\n",
        "plt.ylabel('')\n",
        "plt.title('Variation in NOx with Month',fontsize=20,fontweight='bold',color='r')"
      ]
    },
    {
      "cell_type": "markdown",
      "metadata": {
        "id": "RyOqkuYxiKJ-"
      },
      "source": [
        "* It can be observed that the NOx levels are generally higher during the winter months (December to February) and lower during the summer months (June to August). \n",
        "* There are also more outliers in the winter months, indicating that there are some days with significantly higher NOx levels than usual. \n",
        "* The majority of the data points fall under the good category, with relatively few in the moderate or Unhealthy categories.\n",
        "* Overall, the boxplot suggests that the NOx levels in the area are generally within acceptable limits, but there may be some occasional spikes in pollution during certain months.\n"
      ]
    },
    {
      "cell_type": "markdown",
      "source": [
        "**Variation of PM2.5 with month**"
      ],
      "metadata": {
        "id": "NLtUomkRYWD0"
      }
    },
    {
      "cell_type": "code",
      "execution_count": 378,
      "metadata": {
        "colab": {
          "base_uri": "https://localhost:8080/"
        },
        "id": "GDHzenNoVj-1",
        "outputId": "d6966eb4-9b41-4312-a636-9ba16d04a568"
      },
      "outputs": [
        {
          "output_type": "execute_result",
          "data": {
            "text/plain": [
              "Moderate                          176\n",
              "Unhealthy                         122\n",
              "Unhealthy for sensitive groups    113\n",
              "Good                                3\n",
              "dtype: int64"
            ]
          },
          "metadata": {},
          "execution_count": 378
        }
      ],
      "source": [
        "PM2_5=df.apply(lambda row:'Good' if row['PM2.5']<=12\n",
        "              else 'Moderate' if row['PM2.5']<=35\n",
        "              else 'Unhealthy for sensitive groups'if row['PM2.5']<=55.4\n",
        "              else  'Unhealthy',axis=1)\n",
        "PM2_5.value_counts()"
      ]
    },
    {
      "cell_type": "code",
      "execution_count": 379,
      "metadata": {
        "colab": {
          "base_uri": "https://localhost:8080/",
          "height": 413
        },
        "id": "6yBR_aTUWXPe",
        "outputId": "29a09485-13bb-4458-a28e-d7fd8390faf3"
      },
      "outputs": [
        {
          "output_type": "execute_result",
          "data": {
            "text/plain": [
              "Text(0.5, 1.0, 'Variation in PM2.5 with Month')"
            ]
          },
          "metadata": {},
          "execution_count": 379
        },
        {
          "output_type": "display_data",
          "data": {
            "text/plain": [
              "<Figure size 864x432 with 1 Axes>"
            ],
            "image/png": "[encoded data removed]"
          },
          "metadata": {
            "needs_background": "light"
          }
        }
      ],
      "source": [
        "sns.boxplot(x=df['Month'],y=df['PM2.5'],hue=PM2_5,width=1.5, palette='Set1',\n",
        "            whiskerprops={'linewidth': 2},\n",
        "            flierprops={'marker': 'o', 'markerfacecolor': 'k', 'markersize': 8})\n",
        "\n",
        "sns.despine(left=True)\n",
        "plt.grid(axis='y',linewidth=0.5)\n",
        "plt.xlabel('')\n",
        "plt.ylabel('')\n",
        "plt.title('Variation in PM2.5 with Month',fontsize=20,fontweight='bold',color='r')"
      ]
    },
    {
      "cell_type": "markdown",
      "metadata": {
        "id": "wICpulzQnhmV"
      },
      "source": [
        "\n",
        "\n",
        "* The median PM2.5 levels are highest in January, followed by December and February. \n",
        "* The boxplot also shows that there are more outliers in the 'Unhealthy for seneitive groups' category during the summer months, indicating that the pollution levels during this time are significantly higher than the rest of the year.\n",
        "\n",
        "\n"
      ]
    },
    {
      "cell_type": "markdown",
      "source": [
        "**Variation of PM10 with month**"
      ],
      "metadata": {
        "id": "Hrm6EGVkYbTq"
      }
    },
    {
      "cell_type": "code",
      "execution_count": 380,
      "metadata": {
        "colab": {
          "base_uri": "https://localhost:8080/"
        },
        "id": "cNo_ONa2WpxN",
        "outputId": "c9b2a9c9-ca3b-490c-f446-0a8a74601c4a"
      },
      "outputs": [
        {
          "output_type": "execute_result",
          "data": {
            "text/plain": [
              "Moderate                          222\n",
              "Good                              184\n",
              "Unhealthy for sensitive groups      8\n",
              "dtype: int64"
            ]
          },
          "metadata": {},
          "execution_count": 380
        }
      ],
      "source": [
        "PM10=df.apply(lambda row:'Good' if row['PM10']<=54\n",
        "              else 'Moderate' if row['PM10']<=154\n",
        "              else 'Unhealthy for sensitive groups'if row['PM10']<=254\n",
        "              else  'Unhealthy',axis=1)\n",
        "PM10.value_counts()"
      ]
    },
    {
      "cell_type": "code",
      "execution_count": 381,
      "metadata": {
        "colab": {
          "base_uri": "https://localhost:8080/",
          "height": 413
        },
        "id": "aN1RNPTSW6l_",
        "outputId": "e3408074-7f05-415b-dfa4-cde5c2bfb9ca"
      },
      "outputs": [
        {
          "output_type": "execute_result",
          "data": {
            "text/plain": [
              "Text(0.5, 1.0, 'Variation in PM10 with Month')"
            ]
          },
          "metadata": {},
          "execution_count": 381
        },
        {
          "output_type": "display_data",
          "data": {
            "text/plain": [
              "<Figure size 864x432 with 1 Axes>"
            ],
            "image/png": "[encoded data removed]"
          },
          "metadata": {
            "needs_background": "light"
          }
        }
      ],
      "source": [
        "sns.boxplot(x=df['Month'],y=df['PM10'],hue=PM10,width=1.5,palette=\"Set1\",\n",
        "            whiskerprops={'linewidth': 2},\n",
        "            flierprops={'marker': 'o', 'markerfacecolor': 'k', 'markersize': 8})\n",
        "sns.despine(left=True)\n",
        "plt.grid(axis='y',linewidth=0.5)\n",
        "plt.xlabel('')\n",
        "plt.ylabel('')\n",
        "plt.title('Variation in PM10 with Month',fontsize=20,fontweight='bold',color='r')"
      ]
    },
    {
      "cell_type": "markdown",
      "metadata": {
        "id": "F6xtVfDeq41_"
      },
      "source": [
        "* The median PM10 value is higher in the months of December, January, and February, indicating that the air quality is generally worse during this period. \n",
        "* The IQR for PM10 is wider in the months of December, January, and February, indicating that the variability in PM10 values is higher during this period.\n",
        "* Outliers are more prevalent in the months of December, January, and February, indicating that there are occasional spikes in PM10 levels during this period.\n",
        "Overall, the PM10 values in Kerala are mostly in the \"Good\" to \"Moderate\" range, with few instances of \"Unhealthy for sensitive groups\" and \"Unhealthy\" levels.\n",
        "\n"
      ]
    },
    {
      "cell_type": "markdown",
      "source": [
        "**Variation of CO with month**"
      ],
      "metadata": {
        "id": "oYRHUfIkYhhm"
      }
    },
    {
      "cell_type": "code",
      "execution_count": 382,
      "metadata": {
        "colab": {
          "base_uri": "https://localhost:8080/"
        },
        "id": "q0TGUkgjXAve",
        "outputId": "a351ac83-fc85-4ed8-8d84-bc706e5037f1"
      },
      "outputs": [
        {
          "output_type": "execute_result",
          "data": {
            "text/plain": [
              "Good    414\n",
              "dtype: int64"
            ]
          },
          "metadata": {},
          "execution_count": 382
        }
      ],
      "source": [
        "CO=df.apply(lambda row:'Good' if row['CO']<=4.4\n",
        "              else 'Moderate' if row['CO']<=9.4\n",
        "              else 'Unhealthy for sensitive groups'if row['CO']<=12.4\n",
        "              else  'Unhealthy',axis=1)\n",
        "CO.value_counts()"
      ]
    },
    {
      "cell_type": "code",
      "execution_count": 383,
      "metadata": {
        "colab": {
          "base_uri": "https://localhost:8080/",
          "height": 413
        },
        "id": "dTrP4cYMXuId",
        "outputId": "0de2502b-83a2-4548-aeb8-59216413b94a"
      },
      "outputs": [
        {
          "output_type": "execute_result",
          "data": {
            "text/plain": [
              "Text(0.5, 1.0, 'Variation in CO with Month')"
            ]
          },
          "metadata": {},
          "execution_count": 383
        },
        {
          "output_type": "display_data",
          "data": {
            "text/plain": [
              "<Figure size 864x432 with 1 Axes>"
            ],
            "image/png": "[encoded data removed]"
          },
          "metadata": {
            "needs_background": "light"
          }
        }
      ],
      "source": [
        "sns.boxplot(x=df['Month'],y=df['CO'],hue=CO,width=0.8,palette=\"Set1\",\n",
        "            whiskerprops={'linewidth': 2},\n",
        "            flierprops={'marker': 'o', 'markerfacecolor': 'k', 'markersize': 8})\n",
        "sns.despine(left=True)\n",
        "plt.grid(axis='y',linewidth=0.5)\n",
        "plt.xlabel('')\n",
        "plt.ylabel('')\n",
        "plt.title('Variation in CO with Month',fontsize=20,fontweight='bold',color='r')"
      ]
    },
    {
      "cell_type": "markdown",
      "metadata": {
        "id": "AW3ahfIUuWqw"
      },
      "source": [
        "* The boxplot shows that the CO levels were generally within the Good range.\n",
        "\n",
        "* Overall, the boxplot suggests that the air quality in Kerala in terms of CO levels is generally good throughout the year, with only occasional instances of higher levels.\n",
        "\n",
        "* The increase in concentrarion between December 2022 shows that CO concentration Increases as temperature decrease. As a result of frigid temperatures, the risk for carbon monoxide poisoning increases.\n"
      ]
    },
    {
      "cell_type": "markdown",
      "source": [
        "**Variation of O3 with month**"
      ],
      "metadata": {
        "id": "vrT7v6FgYkvL"
      }
    },
    {
      "cell_type": "code",
      "execution_count": 384,
      "metadata": {
        "colab": {
          "base_uri": "https://localhost:8080/"
        },
        "id": "je7F8ZjrXuLH",
        "outputId": "2f9fe032-e3ec-495e-d956-7ed69ebc7c88"
      },
      "outputs": [
        {
          "output_type": "execute_result",
          "data": {
            "text/plain": [
              "Good    414\n",
              "dtype: int64"
            ]
          },
          "metadata": {},
          "execution_count": 384
        }
      ],
      "source": [
        "O3=df.apply(lambda row:'Good' if row['O3']<=54\n",
        "              else 'Moderate' if row['O3']<=70\n",
        "              else 'Unhealthy for sensitive groups'if row['O3']<=85\n",
        "              else  'Unhealthy',axis=1)\n",
        "O3.value_counts()"
      ]
    },
    {
      "cell_type": "code",
      "execution_count": 385,
      "metadata": {
        "colab": {
          "base_uri": "https://localhost:8080/",
          "height": 413
        },
        "id": "_DIAfo0IXuNf",
        "outputId": "52b8412c-3765-40fb-a0bb-29d33716ec86"
      },
      "outputs": [
        {
          "output_type": "execute_result",
          "data": {
            "text/plain": [
              "Text(0.5, 1.0, 'Variation in O3 with Month')"
            ]
          },
          "metadata": {},
          "execution_count": 385
        },
        {
          "output_type": "display_data",
          "data": {
            "text/plain": [
              "<Figure size 864x432 with 1 Axes>"
            ],
            "image/png": "[encoded data removed]"
          },
          "metadata": {
            "needs_background": "light"
          }
        }
      ],
      "source": [
        "sns.boxplot(x=df['Month'],y=df['O3'],hue=O3,width=0.8,palette=\"Set1\",\n",
        "            whiskerprops={'linewidth': 2},\n",
        "            flierprops={'marker': 'o', 'markerfacecolor': 'k', 'markersize': 8})\n",
        "sns.despine(left=True)\n",
        "plt.grid(axis='y',linewidth=0.5)\n",
        "plt.xlabel('')\n",
        "plt.ylabel('')\n",
        "plt.title('Variation in O3 with Month',fontsize=20,fontweight='bold',color='r')"
      ]
    },
    {
      "cell_type": "markdown",
      "metadata": {
        "id": "QMnaZuqa9CIV"
      },
      "source": [
        "\n",
        "\n",
        "*   The data shows an increase in the concentration of O3 in the first half of the year.\n",
        "\n",
        "*   This means that during the months of January to June, the levels of ozone in the air were higher compared to the second half of the year. There could be several reasons for this increase.\n",
        "\n",
        "\n",
        "\n",
        "*   One reason could be due to the increase in sunlight during the first half of the year, which can lead to more photochemical reactions and the production of ozone.\n",
        "*  Another reason could be related to the patterns of air circulation and temperature during this time of year, which can lead to the accumulation of pollutants that contribute to the formation of ozone.\n",
        "\n",
        "\n",
        "\n"
      ]
    },
    {
      "cell_type": "markdown",
      "source": [
        "**Variation of SO2 with month**"
      ],
      "metadata": {
        "id": "fUZDrIEqYqIO"
      }
    },
    {
      "cell_type": "code",
      "execution_count": 386,
      "metadata": {
        "colab": {
          "base_uri": "https://localhost:8080/"
        },
        "id": "ZtnxeTrQXuRq",
        "outputId": "913a388e-d700-48db-a60f-11691c59f09b"
      },
      "outputs": [
        {
          "output_type": "execute_result",
          "data": {
            "text/plain": [
              "Good    414\n",
              "dtype: int64"
            ]
          },
          "metadata": {},
          "execution_count": 386
        }
      ],
      "source": [
        "SO2=df.apply(lambda row:'Good' if row['SO2']<=35\n",
        "              else 'Moderate' if row['SO2']<=75\n",
        "              else 'Unhealthy for sensitive groups'if row['SO2']<=185\n",
        "              else  'Unhealthy',axis=1)\n",
        "SO2.value_counts()"
      ]
    },
    {
      "cell_type": "code",
      "execution_count": 387,
      "metadata": {
        "colab": {
          "base_uri": "https://localhost:8080/",
          "height": 413
        },
        "id": "nIzmZDRlXuUg",
        "outputId": "fb14d99a-f968-4a9c-fe9a-a40517730748"
      },
      "outputs": [
        {
          "output_type": "execute_result",
          "data": {
            "text/plain": [
              "Text(0.5, 1.0, 'Variation in SO2 with Month')"
            ]
          },
          "metadata": {},
          "execution_count": 387
        },
        {
          "output_type": "display_data",
          "data": {
            "text/plain": [
              "<Figure size 864x432 with 1 Axes>"
            ],
            "image/png": "[encoded data removed]"
          },
          "metadata": {
            "needs_background": "light"
          }
        }
      ],
      "source": [
        "sns.boxplot(x=df['Month'],y=df['SO2'],hue=CO,width=0.8,palette=\"Set1\",\n",
        "            whiskerprops={'linewidth': 2},\n",
        "            flierprops={'marker': 'o', 'markerfacecolor': 'k', 'markersize': 8})\n",
        "sns.despine(left=True)\n",
        "plt.grid(axis='y',linewidth=0.5)\n",
        "plt.xlabel('')\n",
        "plt.ylabel('')\n",
        "plt.title('Variation in SO2 with Month',fontsize=20,fontweight='bold',color='r')"
      ]
    },
    {
      "cell_type": "markdown",
      "metadata": {
        "id": "FiPJ4tpI72Au"
      },
      "source": [
        "\n",
        "*   From the plot, we can see that the majority of the SO2 levels measured fall within a narrow range, with a median value of around 22.\n",
        "\n",
        "*   There were some spikes in concentration in December,January and Februrary which might be due to Agricultural burning or Increase in Vehicular traffic.\n",
        "\n",
        "*    However, there are a few outliers, particularly on the lower end of the scale, which suggests that there were some dates with particularly low levels of SO2.\n",
        "\n"
      ]
    },
    {
      "cell_type": "markdown",
      "source": [
        "**Density plots of different pollutants**"
      ],
      "metadata": {
        "id": "Z5s___KQY3iJ"
      }
    },
    {
      "cell_type": "code",
      "execution_count": 388,
      "metadata": {
        "id": "jOOKddk0XuXA"
      },
      "outputs": [],
      "source": [
        "num = df.select_dtypes(include=np.number).columns\n",
        "num=num.drop('AQI')"
      ]
    },
    {
      "cell_type": "code",
      "execution_count": 389,
      "metadata": {
        "colab": {
          "base_uri": "https://localhost:8080/",
          "height": 592
        },
        "id": "bxAgP1NpXuZc",
        "outputId": "84f1bea3-45e4-42e3-e5ef-9440cbe4e03e"
      },
      "outputs": [
        {
          "output_type": "display_data",
          "data": {
            "text/plain": [
              "<Figure size 864x720 with 9 Axes>"
            ],
            "image/png": "[encoded data removed]"
          },
          "metadata": {
            "needs_background": "light"
          }
        }
      ],
      "source": [
        "df[num].plot(kind='density', subplots=True, layout=(3, 3), figsize=(12, 10))\n",
        "sns.despine(left=True)\n",
        "plt.show()"
      ]
    },
    {
      "cell_type": "markdown",
      "metadata": {
        "id": "lGKATPY6rKK1"
      },
      "source": [
        "●Based on the density plot of the features, it can be concluded that the data follows a Gaussian (normal) distribution.\n",
        "\n",
        "● It describes how often different values occur in a set of data, with most values being close to the average and fewer values being further away from it.\n",
        "\n",
        "● When the data follows a Gaussian distribution,Standardization is used because it does not significantly change the shape of the distribution. Instead, it only changes the scale and location of the data. \n",
        "\n",
        "●  Many ML algorithms assume that the data is standardized, so applying this technique can help to improve the performance of these algorithms.\n",
        "\n",
        "\n"
      ]
    },
    {
      "cell_type": "markdown",
      "source": [
        "**Feature Engineering**"
      ],
      "metadata": {
        "id": "KnoZh48tZGxa"
      }
    },
    {
      "cell_type": "code",
      "execution_count": 390,
      "metadata": {
        "colab": {
          "base_uri": "https://localhost:8080/",
          "height": 423
        },
        "id": "E0BoJA5oXubx",
        "outputId": "9b02801d-3063-4127-c533-2a0c75dc2ff5"
      },
      "outputs": [
        {
          "output_type": "execute_result",
          "data": {
            "text/plain": [
              "          Date    NOx     O3    PM10    CO   NH3    SO2  PM2.5    AQI    Day  \\\n",
              "0   2022-01-01  28.20  15.33   47.04  1.44  5.45  18.17  36.51   72.0  01-01   \n",
              "1   2022-01-02  28.40  12.20   56.64  1.45  5.51  18.91  44.61   74.0  02-01   \n",
              "2   2022-01-03  27.10  12.28   59.56  1.47  5.18  18.74  47.04   78.0  03-01   \n",
              "3   2022-01-04  27.20  17.99   69.44  1.48  5.21  19.08  55.04   92.0  04-01   \n",
              "4   2022-01-05  27.90  19.98  109.55  1.53  5.36  20.66  88.56  195.0  05-01   \n",
              "..         ...    ...    ...     ...   ...   ...    ...    ...    ...    ...   \n",
              "419 2023-02-24  20.27   1.48  107.40  1.10  0.00  21.13  67.72  126.0  24-02   \n",
              "420 2023-02-25  20.32   1.47  111.50  1.11  0.00  23.20  73.73  108.0  25-02   \n",
              "421 2023-02-26  20.25   1.49  104.50  1.05  0.00  24.46  78.60  103.0  26-02   \n",
              "422 2023-02-27  49.87   1.51   95.83  1.03  0.05  22.88  57.30   96.0  27-02   \n",
              "423 2023-02-28  65.19   1.53  108.81  1.15  4.03  17.52  70.31  106.0  28-02   \n",
              "\n",
              "     Month Year      Category  \n",
              "0    01-22   22  Satisfactory  \n",
              "1    01-22   22  Satisfactory  \n",
              "2    01-22   22  Satisfactory  \n",
              "3    01-22   22  Satisfactory  \n",
              "4    01-22   22      Moderate  \n",
              "..     ...  ...           ...  \n",
              "419  02-23   23      Moderate  \n",
              "420  02-23   23      Moderate  \n",
              "421  02-23   23      Moderate  \n",
              "422  02-23   23  Satisfactory  \n",
              "423  02-23   23      Moderate  \n",
              "\n",
              "[414 rows x 13 columns]"
            ],
            "text/html": [
              "\n",
              "  <div id=\"df-5f87f57d-50bd-4ae1-8414-285347b2f84d\">\n",
              "    <div class=\"colab-df-container\">\n",
              "      <div>\n",
              "<style scoped>\n",
              "    .dataframe tbody tr th:only-of-type {\n",
              "        vertical-align: middle;\n",
              "    }\n",
              "\n",
              "    .dataframe tbody tr th {\n",
              "        vertical-align: top;\n",
              "    }\n",
              "\n",
              "    .dataframe thead th {\n",
              "        text-align: right;\n",
              "    }\n",
              "</style>\n",
              "<table border=\"1\" class=\"dataframe\">\n",
              "  <thead>\n",
              "    <tr style=\"text-align: right;\">\n",
              "      <th></th>\n",
              "      <th>Date</th>\n",
              "      <th>NOx</th>\n",
              "      <th>O3</th>\n",
              "      <th>PM10</th>\n",
              "      <th>CO</th>\n",
              "      <th>NH3</th>\n",
              "      <th>SO2</th>\n",
              "      <th>PM2.5</th>\n",
              "      <th>AQI</th>\n",
              "      <th>Day</th>\n",
              "      <th>Month</th>\n",
              "      <th>Year</th>\n",
              "      <th>Category</th>\n",
              "    </tr>\n",
              "  </thead>\n",
              "  <tbody>\n",
              "    <tr>\n",
              "      <th>0</th>\n",
              "      <td>2022-01-01</td>\n",
              "      <td>28.20</td>\n",
              "      <td>15.33</td>\n",
              "      <td>47.04</td>\n",
              "      <td>1.44</td>\n",
              "      <td>5.45</td>\n",
              "      <td>18.17</td>\n",
              "      <td>36.51</td>\n",
              "      <td>72.0</td>\n",
              "      <td>01-01</td>\n",
              "      <td>01-22</td>\n",
              "      <td>22</td>\n",
              "      <td>Satisfactory</td>\n",
              "    </tr>\n",
              "    <tr>\n",
              "      <th>1</th>\n",
              "      <td>2022-01-02</td>\n",
              "      <td>28.40</td>\n",
              "      <td>12.20</td>\n",
              "      <td>56.64</td>\n",
              "      <td>1.45</td>\n",
              "      <td>5.51</td>\n",
              "      <td>18.91</td>\n",
              "      <td>44.61</td>\n",
              "      <td>74.0</td>\n",
              "      <td>02-01</td>\n",
              "      <td>01-22</td>\n",
              "      <td>22</td>\n",
              "      <td>Satisfactory</td>\n",
              "    </tr>\n",
              "    <tr>\n",
              "      <th>2</th>\n",
              "      <td>2022-01-03</td>\n",
              "      <td>27.10</td>\n",
              "      <td>12.28</td>\n",
              "      <td>59.56</td>\n",
              "      <td>1.47</td>\n",
              "      <td>5.18</td>\n",
              "      <td>18.74</td>\n",
              "      <td>47.04</td>\n",
              "      <td>78.0</td>\n",
              "      <td>03-01</td>\n",
              "      <td>01-22</td>\n",
              "      <td>22</td>\n",
              "      <td>Satisfactory</td>\n",
              "    </tr>\n",
              "    <tr>\n",
              "      <th>3</th>\n",
              "      <td>2022-01-04</td>\n",
              "      <td>27.20</td>\n",
              "      <td>17.99</td>\n",
              "      <td>69.44</td>\n",
              "      <td>1.48</td>\n",
              "      <td>5.21</td>\n",
              "      <td>19.08</td>\n",
              "      <td>55.04</td>\n",
              "      <td>92.0</td>\n",
              "      <td>04-01</td>\n",
              "      <td>01-22</td>\n",
              "      <td>22</td>\n",
              "      <td>Satisfactory</td>\n",
              "    </tr>\n",
              "    <tr>\n",
              "      <th>4</th>\n",
              "      <td>2022-01-05</td>\n",
              "      <td>27.90</td>\n",
              "      <td>19.98</td>\n",
              "      <td>109.55</td>\n",
              "      <td>1.53</td>\n",
              "      <td>5.36</td>\n",
              "      <td>20.66</td>\n",
              "      <td>88.56</td>\n",
              "      <td>195.0</td>\n",
              "      <td>05-01</td>\n",
              "      <td>01-22</td>\n",
              "      <td>22</td>\n",
              "      <td>Moderate</td>\n",
              "    </tr>\n",
              "    <tr>\n",
              "      <th>...</th>\n",
              "      <td>...</td>\n",
              "      <td>...</td>\n",
              "      <td>...</td>\n",
              "      <td>...</td>\n",
              "      <td>...</td>\n",
              "      <td>...</td>\n",
              "      <td>...</td>\n",
              "      <td>...</td>\n",
              "      <td>...</td>\n",
              "      <td>...</td>\n",
              "      <td>...</td>\n",
              "      <td>...</td>\n",
              "      <td>...</td>\n",
              "    </tr>\n",
              "    <tr>\n",
              "      <th>419</th>\n",
              "      <td>2023-02-24</td>\n",
              "      <td>20.27</td>\n",
              "      <td>1.48</td>\n",
              "      <td>107.40</td>\n",
              "      <td>1.10</td>\n",
              "      <td>0.00</td>\n",
              "      <td>21.13</td>\n",
              "      <td>67.72</td>\n",
              "      <td>126.0</td>\n",
              "      <td>24-02</td>\n",
              "      <td>02-23</td>\n",
              "      <td>23</td>\n",
              "      <td>Moderate</td>\n",
              "    </tr>\n",
              "    <tr>\n",
              "      <th>420</th>\n",
              "      <td>2023-02-25</td>\n",
              "      <td>20.32</td>\n",
              "      <td>1.47</td>\n",
              "      <td>111.50</td>\n",
              "      <td>1.11</td>\n",
              "      <td>0.00</td>\n",
              "      <td>23.20</td>\n",
              "      <td>73.73</td>\n",
              "      <td>108.0</td>\n",
              "      <td>25-02</td>\n",
              "      <td>02-23</td>\n",
              "      <td>23</td>\n",
              "      <td>Moderate</td>\n",
              "    </tr>\n",
              "    <tr>\n",
              "      <th>421</th>\n",
              "      <td>2023-02-26</td>\n",
              "      <td>20.25</td>\n",
              "      <td>1.49</td>\n",
              "      <td>104.50</td>\n",
              "      <td>1.05</td>\n",
              "      <td>0.00</td>\n",
              "      <td>24.46</td>\n",
              "      <td>78.60</td>\n",
              "      <td>103.0</td>\n",
              "      <td>26-02</td>\n",
              "      <td>02-23</td>\n",
              "      <td>23</td>\n",
              "      <td>Moderate</td>\n",
              "    </tr>\n",
              "    <tr>\n",
              "      <th>422</th>\n",
              "      <td>2023-02-27</td>\n",
              "      <td>49.87</td>\n",
              "      <td>1.51</td>\n",
              "      <td>95.83</td>\n",
              "      <td>1.03</td>\n",
              "      <td>0.05</td>\n",
              "      <td>22.88</td>\n",
              "      <td>57.30</td>\n",
              "      <td>96.0</td>\n",
              "      <td>27-02</td>\n",
              "      <td>02-23</td>\n",
              "      <td>23</td>\n",
              "      <td>Satisfactory</td>\n",
              "    </tr>\n",
              "    <tr>\n",
              "      <th>423</th>\n",
              "      <td>2023-02-28</td>\n",
              "      <td>65.19</td>\n",
              "      <td>1.53</td>\n",
              "      <td>108.81</td>\n",
              "      <td>1.15</td>\n",
              "      <td>4.03</td>\n",
              "      <td>17.52</td>\n",
              "      <td>70.31</td>\n",
              "      <td>106.0</td>\n",
              "      <td>28-02</td>\n",
              "      <td>02-23</td>\n",
              "      <td>23</td>\n",
              "      <td>Moderate</td>\n",
              "    </tr>\n",
              "  </tbody>\n",
              "</table>\n",
              "<p>414 rows × 13 columns</p>\n",
              "</div>\n",
              "      <button class=\"colab-df-convert\" onclick=\"convertToInteractive('df-5f87f57d-50bd-4ae1-8414-285347b2f84d')\"\n",
              "              title=\"Convert this dataframe to an interactive table.\"\n",
              "              style=\"display:none;\">\n",
              "        \n",
              "  <svg xmlns=\"http://www.w3.org/2000/svg\" height=\"24px\"viewBox=\"0 0 24 24\"\n",
              "       width=\"24px\">\n",
              "    <path d=\"M0 0h24v24H0V0z\" fill=\"none\"/>\n",
              "    <path d=\"M18.56 5.44l.94 2.06.94-2.06 2.06-.94-2.06-.94-.94-2.06-.94 2.06-2.06.94zm-11 1L8.5 8.5l.94-2.06 2.06-.94-2.06-.94L8.5 2.5l-.94 2.06-2.06.94zm10 10l.94 2.06.94-2.06 2.06-.94-2.06-.94-.94-2.06-.94 2.06-2.06.94z\"/><path d=\"M17.41 7.96l-1.37-1.37c-.4-.4-.92-.59-1.43-.59-.52 0-1.04.2-1.43.59L10.3 9.45l-7.72 7.72c-.78.78-.78 2.05 0 2.83L4 21.41c.39.39.9.59 1.41.59.51 0 1.02-.2 1.41-.59l7.78-7.78 2.81-2.81c.8-.78.8-2.07 0-2.86zM5.41 20L4 18.59l7.72-7.72 1.47 1.35L5.41 20z\"/>\n",
              "  </svg>\n",
              "      </button>\n",
              "      \n",
              "  <style>\n",
              "    .colab-df-container {\n",
              "      display:flex;\n",
              "      flex-wrap:wrap;\n",
              "      gap: 12px;\n",
              "    }\n",
              "\n",
              "    .colab-df-convert {\n",
              "      background-color: #E8F0FE;\n",
              "      border: none;\n",
              "      border-radius: 50%;\n",
              "      cursor: pointer;\n",
              "      display: none;\n",
              "      fill: #1967D2;\n",
              "      height: 32px;\n",
              "      padding: 0 0 0 0;\n",
              "      width: 32px;\n",
              "    }\n",
              "\n",
              "    .colab-df-convert:hover {\n",
              "      background-color: #E2EBFA;\n",
              "      box-shadow: 0px 1px 2px rgba(60, 64, 67, 0.3), 0px 1px 3px 1px rgba(60, 64, 67, 0.15);\n",
              "      fill: #174EA6;\n",
              "    }\n",
              "\n",
              "    [theme=dark] .colab-df-convert {\n",
              "      background-color: #3B4455;\n",
              "      fill: #D2E3FC;\n",
              "    }\n",
              "\n",
              "    [theme=dark] .colab-df-convert:hover {\n",
              "      background-color: #434B5C;\n",
              "      box-shadow: 0px 1px 3px 1px rgba(0, 0, 0, 0.15);\n",
              "      filter: drop-shadow(0px 1px 2px rgba(0, 0, 0, 0.3));\n",
              "      fill: #FFFFFF;\n",
              "    }\n",
              "  </style>\n",
              "\n",
              "      <script>\n",
              "        const buttonEl =\n",
              "          document.querySelector('#df-5f87f57d-50bd-4ae1-8414-285347b2f84d button.colab-df-convert');\n",
              "        buttonEl.style.display =\n",
              "          google.colab.kernel.accessAllowed ? 'block' : 'none';\n",
              "\n",
              "        async function convertToInteractive(key) {\n",
              "          const element = document.querySelector('#df-5f87f57d-50bd-4ae1-8414-285347b2f84d');\n",
              "          const dataTable =\n",
              "            await google.colab.kernel.invokeFunction('convertToInteractive',\n",
              "                                                     [key], {});\n",
              "          if (!dataTable) return;\n",
              "\n",
              "          const docLinkHtml = 'Like what you see? Visit the ' +\n",
              "            '<a target=\"_blank\" href=https://colab.research.google.com/notebooks/data_table.ipynb>data table notebook</a>'\n",
              "            + ' to learn more about interactive tables.';\n",
              "          element.innerHTML = '';\n",
              "          dataTable['output_type'] = 'display_data';\n",
              "          await google.colab.output.renderOutput(dataTable, element);\n",
              "          const docLink = document.createElement('div');\n",
              "          docLink.innerHTML = docLinkHtml;\n",
              "          element.appendChild(docLink);\n",
              "        }\n",
              "      </script>\n",
              "    </div>\n",
              "  </div>\n",
              "  "
            ]
          },
          "metadata": {},
          "execution_count": 390
        }
      ],
      "source": [
        "df"
      ]
    },
    {
      "cell_type": "code",
      "execution_count": 391,
      "metadata": {
        "colab": {
          "base_uri": "https://localhost:8080/"
        },
        "id": "o9kHFrTmEqIB",
        "outputId": "15f5defd-b2e3-437a-9bbf-1811d87b5b72"
      },
      "outputs": [
        {
          "output_type": "execute_result",
          "data": {
            "text/plain": [
              "array([ 72.,  74.,  78.,  92., 195., 117., 157., 104.,  77.,  83.,  76.,\n",
              "        51.,  85., 107.,  67.,  84.,  81.,  81.,  69., 125., 156., 131.,\n",
              "        78.,  57., 101.,  79.,  70.,  79., 106.,  92., 129., 117., 118.,\n",
              "       136., 159.,  64.,  70.,  98.,  77., 125., 200., 119.,  67.,  53.,\n",
              "       109.,  94.,  79.,  58.,  62.,  90., 146.,  96.,  60.,  52.,  58.,\n",
              "       149.,  95., 120.,  65., 112.,  82., 129.,  81., 138., 156.,  92.,\n",
              "        53., 136.,  93.,  89.,  93., 160.,  47.,  69.,  48.,  84., 124.,\n",
              "        60.,  57., 102.,  77.,  56.,  98.,  59.,  67.,  70.,  59.,  43.,\n",
              "        46.,  64., 100.,  71.,  79.,  70.,  62.,  63., 129.,  84.,  47.,\n",
              "       119., 106.,  71.,  64.,  47., 170.,  71.,  70.,  73., 144., 142.,\n",
              "       131.,  65.,  73.,  92., 143.,  72.,  69.,  69.,  77.,  74.,  65.,\n",
              "        76., 118., 115., 149., 136., 108., 136., 144., 108., 110.,  82.,\n",
              "        78.,  50., 150.,  69.,  83., 100.,  66.,  64.,  57.,  53.,  62.,\n",
              "        67., 140.,  66., 191.,  58.,  59., 106.,  72., 102., 130.,  70.,\n",
              "        70.,  68., 133.,  67.,  71., 101.,  61.,  64.,  60.,  55., 101.,\n",
              "        82.,  79.,  61.,  62.,  81.,  76.,  68.,  68.,  81.,  68.,  71.,\n",
              "        74.,  77.,  88.,  47.,  55.,  45.,  45.,  52., 106.,  80.,  65.,\n",
              "        97.,  94.,  92., 150.,  95.,  93., 177., 101.,  81., 145., 131.,\n",
              "        73.,  97.,  65., 102., 138.,  93.,  75.,  71., 142., 155.,  55.,\n",
              "        62., 139.,  52.,  48.,  41.,  38.,  44.,  76.,  60.,  65.,  61.,\n",
              "        46.,  45.,  40.,  44.,  47.,  44.,  44.,  57.,  54.,  53.,  50.,\n",
              "        45.,  42.,  48.,  47.,  44.,  54.,  48.,  49.,  47.,  49.,  52.,\n",
              "        44.,  45.,  49.,  44.,  48.,  53.,  48.,  59.,  52.,  56.,  53.,\n",
              "        53.,  51.,  53.,  50.,  49.,  45.,  42.,  42.,  52.,  39.,  46.,\n",
              "        48.,  39.,  49.,  69.,  48.,  45.,  69.,  61.,  53.,  47.,  54.,\n",
              "        51.,  52.,  45.,  47.,  46.,  46.,  47.,  40.,  39.,  45.,  48.,\n",
              "        57.,  49.,  49.,  49.,  58.,  60.,  55.,  57.,  55.,  58.,  56.,\n",
              "        49.,  45.,  50.,  54.,  54.,  48.,  44.,  50.,  51.,  52.,  51.,\n",
              "        50.,  53.,  53.,  52.,  59.,  48.,  50.,  49.,  51.,  46.,  48.,\n",
              "        50.,  37.,  43.,  59.,  52.,  49.,  50.,  51.,  53.,  50.,  46.,\n",
              "        48.,  50., 301., 143., 108., 126.,  98., 131.,  73.,  87., 157.,\n",
              "       135., 158., 138., 128., 128., 171., 169., 214.,  88.,  82., 102.,\n",
              "        87.,  99.,  85., 101.,  90.,  99., 155., 144., 119., 139., 122.,\n",
              "       184., 197., 154., 168., 172., 198., 198., 147., 154., 150., 120.,\n",
              "       101., 150., 170., 146., 155.,  80., 106., 212., 220., 203., 177.,\n",
              "       115., 102.,  87.,  97.,  97.,  91.,  79.,  98., 108., 108., 114.,\n",
              "       105., 113., 109., 118., 115., 121., 114., 101., 119., 103., 128.,\n",
              "       105., 106., 126., 108., 103.,  96., 106.])"
            ]
          },
          "metadata": {},
          "execution_count": 391
        }
      ],
      "source": [
        "x=df.iloc[:,1:8].values\n",
        "y=df['AQI'].values\n",
        "x\n",
        "y"
      ]
    },
    {
      "cell_type": "code",
      "execution_count": 392,
      "metadata": {
        "colab": {
          "base_uri": "https://localhost:8080/"
        },
        "id": "EtbVnFq2DeUb",
        "outputId": "3e7b0e28-3b03-4fb4-aa32-54250b3167ad"
      },
      "outputs": [
        {
          "output_type": "execute_result",
          "data": {
            "text/plain": [
              "array([155.,  82., 120., 118., 198.,  47.,  39.,  57.,  70.,  93.,  77.,\n",
              "        82.,  98., 149., 108., 170.,  95.,  60., 154.,  67.,  69.,  83.,\n",
              "       101., 100.,  37., 114.,  45., 100.,  62.,  81., 129.,  53., 170.,\n",
              "       102., 136.,  58.,  57., 126.,  40., 139.,  84.,  52.,  72.,  46.,\n",
              "        53., 149.,  61., 106.,  51., 119.,  44., 101., 197.,  54.,  71.,\n",
              "        69.,  67.,  82.,  60., 125., 121.,  79.,  68.,  55., 169.,  49.,\n",
              "        78.,  79.,  57., 130.,  98., 124., 120., 131., 101.,  81.,  49.,\n",
              "       103., 117.,  39.,  67.,  93.,  55.,  93.,  47., 117.,  94.,  44.,\n",
              "       171.,  81., 220., 115.,  56.,  92.,  69.,  52.,  82.,  91., 106.,\n",
              "       138.,  52.,  49.,  92.,  48.])"
            ]
          },
          "metadata": {},
          "execution_count": 392
        }
      ],
      "source": [
        "from sklearn.model_selection import train_test_split\n",
        "x_train,x_test,y_train,y_test=train_test_split(x,y,test_size=0.25,random_state=42)\n",
        "x_train\n",
        "x_test\n",
        "y_train\n",
        "y_test"
      ]
    },
    {
      "cell_type": "code",
      "execution_count": 393,
      "metadata": {
        "id": "5TysAXRnDeUn"
      },
      "outputs": [],
      "source": [
        "from sklearn.preprocessing import StandardScaler\n",
        "sc=StandardScaler()\n",
        "sc.fit(x_train)\n",
        "x_train=sc.transform(x_train)\n",
        "x_test=sc.transform(x_test)"
      ]
    },
    {
      "cell_type": "markdown",
      "metadata": {
        "id": "GUXc1C18iIW5"
      },
      "source": [
        "**Model Creation**"
      ]
    },
    {
      "cell_type": "code",
      "execution_count": 394,
      "metadata": {
        "id": "3KbzHt5UDeUo"
      },
      "outputs": [],
      "source": [
        "from sklearn.linear_model import LinearRegression\n",
        "from sklearn.tree import DecisionTreeRegressor\n",
        "from sklearn.ensemble import RandomForestRegressor\n",
        "\n",
        "lin=LinearRegression()\n",
        "dt=DecisionTreeRegressor(max_depth=5,min_samples_split=5,random_state=42)\n",
        "rf=RandomForestRegressor(n_estimators=50, max_depth=5,min_samples_split=5,random_state=42)\n",
        "\n",
        "models=[lin,dt,rf]"
      ]
    },
    {
      "cell_type": "code",
      "execution_count": 395,
      "metadata": {
        "colab": {
          "base_uri": "https://localhost:8080/"
        },
        "id": "zyNB2_CdDeUo",
        "outputId": "bf9bd107-f754-4611-88e3-8b4c95694cba"
      },
      "outputs": [
        {
          "output_type": "stream",
          "name": "stdout",
          "text": [
            "LinearRegression()\n",
            "error is 10.813348701064818\n",
            "percentage error is 0.1111837827148577\n",
            "r2 score is 0.8252603610930738\n",
            "**************************************************\n",
            "     Original Value  Predcited Value\n",
            "0             155.0           142.69\n",
            "1              82.0            85.18\n",
            "2             120.0           116.46\n",
            "3             118.0           143.84\n",
            "4             198.0           155.02\n",
            "..              ...              ...\n",
            "99            138.0           137.12\n",
            "100            52.0            50.55\n",
            "101            49.0            51.08\n",
            "102            92.0           108.82\n",
            "103            48.0            50.00\n",
            "\n",
            "[104 rows x 2 columns]\n",
            "DecisionTreeRegressor(max_depth=5, min_samples_split=5, random_state=42)\n",
            "error is 10.67982251627136\n",
            "percentage error is 0.10766628690530275\n",
            "r2 score is 0.8370168231826034\n",
            "**************************************************\n",
            "     Original Value  Predcited Value\n",
            "0             155.0           162.77\n",
            "1              82.0            65.38\n",
            "2             120.0           115.29\n",
            "3             118.0           115.29\n",
            "4             198.0           162.77\n",
            "..              ...              ...\n",
            "99            138.0           143.00\n",
            "100            52.0            53.67\n",
            "101            49.0            47.39\n",
            "102            92.0           115.29\n",
            "103            48.0            47.39\n",
            "\n",
            "[104 rows x 2 columns]\n",
            "RandomForestRegressor(max_depth=5, min_samples_split=5, n_estimators=50,\n",
            "                      random_state=42)\n",
            "error is 7.538785155788092\n",
            "percentage error is 0.08025894634933793\n",
            "r2 score is 0.9136575462152781\n",
            "**************************************************\n",
            "     Original Value  Predcited Value\n",
            "0             155.0           148.21\n",
            "1              82.0            77.99\n",
            "2             120.0           114.09\n",
            "3             118.0           127.18\n",
            "4             198.0           170.65\n",
            "..              ...              ...\n",
            "99            138.0           135.48\n",
            "100            52.0            51.83\n",
            "101            49.0            48.84\n",
            "102            92.0           123.16\n",
            "103            48.0            48.50\n",
            "\n",
            "[104 rows x 2 columns]\n"
          ]
        }
      ],
      "source": [
        "from sklearn.metrics import mean_absolute_error,mean_absolute_percentage_error,r2_score\n",
        "\n",
        "for i in models:\n",
        "  i.fit(x_train,y_train)\n",
        "  y_pred=i.predict(x_test)\n",
        "  print(i)\n",
        "  print(\"error is\",mean_absolute_error(y_test,y_pred))\n",
        "  print(\"percentage error is\",mean_absolute_percentage_error(y_test,y_pred))\n",
        "  print(\"r2 score is\",r2_score(y_test,y_pred))\n",
        "  print('*'*50)\n",
        "  print(pd.DataFrame({'Original Value':y_test,'Predcited Value':y_pred}).round(2))"
      ]
    },
    {
      "cell_type": "markdown",
      "metadata": {
        "id": "71v8WIUxiW83"
      },
      "source": [
        "**Hyperparameter Tuning for Random Forest Regressor**"
      ]
    },
    {
      "cell_type": "code",
      "execution_count": 396,
      "metadata": {
        "id": "swb-y-Uyb1cx"
      },
      "outputs": [],
      "source": [
        "from sklearn.model_selection import GridSearchCV\n",
        "           \n",
        "param_grid = {\n",
        "    'n_estimators': [100, 200, 300, 400], \n",
        "    'max_depth': [5, 10, 15, 20], \n",
        "    'min_samples_split': [2, 5, 10], \n",
        "    'min_samples_leaf': [1, 2, 4]}\n",
        "grid_search = GridSearchCV(rf, param_grid, cv=5)\n",
        "grid_search.fit(x_train, y_train)\n",
        "rf_pred=grid_search.predict(x_test)"
      ]
    },
    {
      "cell_type": "code",
      "execution_count": 397,
      "metadata": {
        "colab": {
          "base_uri": "https://localhost:8080/"
        },
        "id": "t5DoIj3GcdAb",
        "outputId": "483c83b6-f0a4-4afc-aded-8ae5b7477243"
      },
      "outputs": [
        {
          "output_type": "stream",
          "name": "stdout",
          "text": [
            "error is 5.1957760989011\n",
            "percentage error is 0.0507577887854047\n",
            "r2 score is 0.9477543495644347\n",
            "**************************************************\n",
            "     Original Value  Predcited Value\n",
            "0             155.0           154.24\n",
            "1              82.0            81.63\n",
            "2             120.0           114.13\n",
            "3             118.0           121.39\n",
            "4             198.0           180.48\n",
            "..              ...              ...\n",
            "99            138.0           137.35\n",
            "100            52.0            52.12\n",
            "101            49.0            49.20\n",
            "102            92.0           106.29\n",
            "103            48.0            48.01\n",
            "\n",
            "[104 rows x 2 columns]\n"
          ]
        }
      ],
      "source": [
        "print(\"error is\",mean_absolute_error(y_test,rf_pred))\n",
        "print(\"percentage error is\",mean_absolute_percentage_error(y_test,rf_pred))\n",
        "print(\"r2 score is\",r2_score(y_test,rf_pred))\n",
        "print('*'*50)\n",
        "print(pd.DataFrame({'Original Value':y_test,'Predcited Value':rf_pred}).round(2))"
      ]
    },
    {
      "cell_type": "markdown",
      "metadata": {
        "id": "1aPux6kXiegP"
      },
      "source": [
        "**Predicting AQI of March 2023 in which the incident occured**"
      ]
    },
    {
      "cell_type": "code",
      "execution_count": 398,
      "metadata": {
        "colab": {
          "base_uri": "https://localhost:8080/",
          "height": 456
        },
        "id": "aSMjHntuHkdk",
        "outputId": "4dcd5efa-2173-4666-e471-3f21f600e5a7"
      },
      "outputs": [
        {
          "output_type": "execute_result",
          "data": {
            "text/plain": [
              "         Date    NOx    O3    PM10    CO    NH3    SO2   PM2.5  AQI\n",
              "0  2023-03-01  34.51  1.48  100.48  1.16   8.91  18.35   66.28  121\n",
              "1  2023-03-02  23.13  1.48   94.24  1.14  10.36  19.49   69.20  131\n",
              "2  2023-03-03  36.17  1.51  109.62  1.17   8.29  24.95   63.74  112\n",
              "3  2023-03-04  41.02  1.50  147.64  1.28   7.67  26.59  104.64  249\n",
              "4  2023-03-05  48.15  1.49  141.74  1.29   7.27  27.63   96.33  221\n",
              "5  2023-03-06  44.35  1.49  134.87  1.20   7.89  27.59   89.67  199\n",
              "6  2023-03-07  44.14  1.51  173.10  1.31   8.51  25.58  113.58  279\n",
              "7  2023-03-08  46.64  1.54  126.00  1.23  11.82  29.09   84.22  181\n",
              "8  2023-03-09  58.08  1.77  127.98  1.28  12.34  32.15   85.82  186\n",
              "9  2023-03-10  49.11  1.29  121.01  1.31  28.46  40.80   81.13  170\n",
              "10 2023-03-11  38.47  1.71  125.40  1.35  46.56  33.48   90.88  203\n",
              "11 2023-03-12  35.85  1.89  121.74  1.30  65.12  39.17   89.94  200\n",
              "12 2023-03-13  40.16  0.86  104.91  1.33  55.06  39.72   64.56  115"
            ],
            "text/html": [
              "\n",
              "  <div id=\"df-095bb295-c7cc-4de6-bafd-f2678edf44ed\">\n",
              "    <div class=\"colab-df-container\">\n",
              "      <div>\n",
              "<style scoped>\n",
              "    .dataframe tbody tr th:only-of-type {\n",
              "        vertical-align: middle;\n",
              "    }\n",
              "\n",
              "    .dataframe tbody tr th {\n",
              "        vertical-align: top;\n",
              "    }\n",
              "\n",
              "    .dataframe thead th {\n",
              "        text-align: right;\n",
              "    }\n",
              "</style>\n",
              "<table border=\"1\" class=\"dataframe\">\n",
              "  <thead>\n",
              "    <tr style=\"text-align: right;\">\n",
              "      <th></th>\n",
              "      <th>Date</th>\n",
              "      <th>NOx</th>\n",
              "      <th>O3</th>\n",
              "      <th>PM10</th>\n",
              "      <th>CO</th>\n",
              "      <th>NH3</th>\n",
              "      <th>SO2</th>\n",
              "      <th>PM2.5</th>\n",
              "      <th>AQI</th>\n",
              "    </tr>\n",
              "  </thead>\n",
              "  <tbody>\n",
              "    <tr>\n",
              "      <th>0</th>\n",
              "      <td>2023-03-01</td>\n",
              "      <td>34.51</td>\n",
              "      <td>1.48</td>\n",
              "      <td>100.48</td>\n",
              "      <td>1.16</td>\n",
              "      <td>8.91</td>\n",
              "      <td>18.35</td>\n",
              "      <td>66.28</td>\n",
              "      <td>121</td>\n",
              "    </tr>\n",
              "    <tr>\n",
              "      <th>1</th>\n",
              "      <td>2023-03-02</td>\n",
              "      <td>23.13</td>\n",
              "      <td>1.48</td>\n",
              "      <td>94.24</td>\n",
              "      <td>1.14</td>\n",
              "      <td>10.36</td>\n",
              "      <td>19.49</td>\n",
              "      <td>69.20</td>\n",
              "      <td>131</td>\n",
              "    </tr>\n",
              "    <tr>\n",
              "      <th>2</th>\n",
              "      <td>2023-03-03</td>\n",
              "      <td>36.17</td>\n",
              "      <td>1.51</td>\n",
              "      <td>109.62</td>\n",
              "      <td>1.17</td>\n",
              "      <td>8.29</td>\n",
              "      <td>24.95</td>\n",
              "      <td>63.74</td>\n",
              "      <td>112</td>\n",
              "    </tr>\n",
              "    <tr>\n",
              "      <th>3</th>\n",
              "      <td>2023-03-04</td>\n",
              "      <td>41.02</td>\n",
              "      <td>1.50</td>\n",
              "      <td>147.64</td>\n",
              "      <td>1.28</td>\n",
              "      <td>7.67</td>\n",
              "      <td>26.59</td>\n",
              "      <td>104.64</td>\n",
              "      <td>249</td>\n",
              "    </tr>\n",
              "    <tr>\n",
              "      <th>4</th>\n",
              "      <td>2023-03-05</td>\n",
              "      <td>48.15</td>\n",
              "      <td>1.49</td>\n",
              "      <td>141.74</td>\n",
              "      <td>1.29</td>\n",
              "      <td>7.27</td>\n",
              "      <td>27.63</td>\n",
              "      <td>96.33</td>\n",
              "      <td>221</td>\n",
              "    </tr>\n",
              "    <tr>\n",
              "      <th>5</th>\n",
              "      <td>2023-03-06</td>\n",
              "      <td>44.35</td>\n",
              "      <td>1.49</td>\n",
              "      <td>134.87</td>\n",
              "      <td>1.20</td>\n",
              "      <td>7.89</td>\n",
              "      <td>27.59</td>\n",
              "      <td>89.67</td>\n",
              "      <td>199</td>\n",
              "    </tr>\n",
              "    <tr>\n",
              "      <th>6</th>\n",
              "      <td>2023-03-07</td>\n",
              "      <td>44.14</td>\n",
              "      <td>1.51</td>\n",
              "      <td>173.10</td>\n",
              "      <td>1.31</td>\n",
              "      <td>8.51</td>\n",
              "      <td>25.58</td>\n",
              "      <td>113.58</td>\n",
              "      <td>279</td>\n",
              "    </tr>\n",
              "    <tr>\n",
              "      <th>7</th>\n",
              "      <td>2023-03-08</td>\n",
              "      <td>46.64</td>\n",
              "      <td>1.54</td>\n",
              "      <td>126.00</td>\n",
              "      <td>1.23</td>\n",
              "      <td>11.82</td>\n",
              "      <td>29.09</td>\n",
              "      <td>84.22</td>\n",
              "      <td>181</td>\n",
              "    </tr>\n",
              "    <tr>\n",
              "      <th>8</th>\n",
              "      <td>2023-03-09</td>\n",
              "      <td>58.08</td>\n",
              "      <td>1.77</td>\n",
              "      <td>127.98</td>\n",
              "      <td>1.28</td>\n",
              "      <td>12.34</td>\n",
              "      <td>32.15</td>\n",
              "      <td>85.82</td>\n",
              "      <td>186</td>\n",
              "    </tr>\n",
              "    <tr>\n",
              "      <th>9</th>\n",
              "      <td>2023-03-10</td>\n",
              "      <td>49.11</td>\n",
              "      <td>1.29</td>\n",
              "      <td>121.01</td>\n",
              "      <td>1.31</td>\n",
              "      <td>28.46</td>\n",
              "      <td>40.80</td>\n",
              "      <td>81.13</td>\n",
              "      <td>170</td>\n",
              "    </tr>\n",
              "    <tr>\n",
              "      <th>10</th>\n",
              "      <td>2023-03-11</td>\n",
              "      <td>38.47</td>\n",
              "      <td>1.71</td>\n",
              "      <td>125.40</td>\n",
              "      <td>1.35</td>\n",
              "      <td>46.56</td>\n",
              "      <td>33.48</td>\n",
              "      <td>90.88</td>\n",
              "      <td>203</td>\n",
              "    </tr>\n",
              "    <tr>\n",
              "      <th>11</th>\n",
              "      <td>2023-03-12</td>\n",
              "      <td>35.85</td>\n",
              "      <td>1.89</td>\n",
              "      <td>121.74</td>\n",
              "      <td>1.30</td>\n",
              "      <td>65.12</td>\n",
              "      <td>39.17</td>\n",
              "      <td>89.94</td>\n",
              "      <td>200</td>\n",
              "    </tr>\n",
              "    <tr>\n",
              "      <th>12</th>\n",
              "      <td>2023-03-13</td>\n",
              "      <td>40.16</td>\n",
              "      <td>0.86</td>\n",
              "      <td>104.91</td>\n",
              "      <td>1.33</td>\n",
              "      <td>55.06</td>\n",
              "      <td>39.72</td>\n",
              "      <td>64.56</td>\n",
              "      <td>115</td>\n",
              "    </tr>\n",
              "  </tbody>\n",
              "</table>\n",
              "</div>\n",
              "      <button class=\"colab-df-convert\" onclick=\"convertToInteractive('df-095bb295-c7cc-4de6-bafd-f2678edf44ed')\"\n",
              "              title=\"Convert this dataframe to an interactive table.\"\n",
              "              style=\"display:none;\">\n",
              "        \n",
              "  <svg xmlns=\"http://www.w3.org/2000/svg\" height=\"24px\"viewBox=\"0 0 24 24\"\n",
              "       width=\"24px\">\n",
              "    <path d=\"M0 0h24v24H0V0z\" fill=\"none\"/>\n",
              "    <path d=\"M18.56 5.44l.94 2.06.94-2.06 2.06-.94-2.06-.94-.94-2.06-.94 2.06-2.06.94zm-11 1L8.5 8.5l.94-2.06 2.06-.94-2.06-.94L8.5 2.5l-.94 2.06-2.06.94zm10 10l.94 2.06.94-2.06 2.06-.94-2.06-.94-.94-2.06-.94 2.06-2.06.94z\"/><path d=\"M17.41 7.96l-1.37-1.37c-.4-.4-.92-.59-1.43-.59-.52 0-1.04.2-1.43.59L10.3 9.45l-7.72 7.72c-.78.78-.78 2.05 0 2.83L4 21.41c.39.39.9.59 1.41.59.51 0 1.02-.2 1.41-.59l7.78-7.78 2.81-2.81c.8-.78.8-2.07 0-2.86zM5.41 20L4 18.59l7.72-7.72 1.47 1.35L5.41 20z\"/>\n",
              "  </svg>\n",
              "      </button>\n",
              "      \n",
              "  <style>\n",
              "    .colab-df-container {\n",
              "      display:flex;\n",
              "      flex-wrap:wrap;\n",
              "      gap: 12px;\n",
              "    }\n",
              "\n",
              "    .colab-df-convert {\n",
              "      background-color: #E8F0FE;\n",
              "      border: none;\n",
              "      border-radius: 50%;\n",
              "      cursor: pointer;\n",
              "      display: none;\n",
              "      fill: #1967D2;\n",
              "      height: 32px;\n",
              "      padding: 0 0 0 0;\n",
              "      width: 32px;\n",
              "    }\n",
              "\n",
              "    .colab-df-convert:hover {\n",
              "      background-color: #E2EBFA;\n",
              "      box-shadow: 0px 1px 2px rgba(60, 64, 67, 0.3), 0px 1px 3px 1px rgba(60, 64, 67, 0.15);\n",
              "      fill: #174EA6;\n",
              "    }\n",
              "\n",
              "    [theme=dark] .colab-df-convert {\n",
              "      background-color: #3B4455;\n",
              "      fill: #D2E3FC;\n",
              "    }\n",
              "\n",
              "    [theme=dark] .colab-df-convert:hover {\n",
              "      background-color: #434B5C;\n",
              "      box-shadow: 0px 1px 3px 1px rgba(0, 0, 0, 0.15);\n",
              "      filter: drop-shadow(0px 1px 2px rgba(0, 0, 0, 0.3));\n",
              "      fill: #FFFFFF;\n",
              "    }\n",
              "  </style>\n",
              "\n",
              "      <script>\n",
              "        const buttonEl =\n",
              "          document.querySelector('#df-095bb295-c7cc-4de6-bafd-f2678edf44ed button.colab-df-convert');\n",
              "        buttonEl.style.display =\n",
              "          google.colab.kernel.accessAllowed ? 'block' : 'none';\n",
              "\n",
              "        async function convertToInteractive(key) {\n",
              "          const element = document.querySelector('#df-095bb295-c7cc-4de6-bafd-f2678edf44ed');\n",
              "          const dataTable =\n",
              "            await google.colab.kernel.invokeFunction('convertToInteractive',\n",
              "                                                     [key], {});\n",
              "          if (!dataTable) return;\n",
              "\n",
              "          const docLinkHtml = 'Like what you see? Visit the ' +\n",
              "            '<a target=\"_blank\" href=https://colab.research.google.com/notebooks/data_table.ipynb>data table notebook</a>'\n",
              "            + ' to learn more about interactive tables.';\n",
              "          element.innerHTML = '';\n",
              "          dataTable['output_type'] = 'display_data';\n",
              "          await google.colab.output.renderOutput(dataTable, element);\n",
              "          const docLink = document.createElement('div');\n",
              "          docLink.innerHTML = docLinkHtml;\n",
              "          element.appendChild(docLink);\n",
              "        }\n",
              "      </script>\n",
              "    </div>\n",
              "  </div>\n",
              "  "
            ]
          },
          "metadata": {},
          "execution_count": 398
        }
      ],
      "source": [
        "march_data=pd.read_excel(\"/content/Vyttila AQI March 2023 - Test Dataset.xlsx\")\n",
        "march_data"
      ]
    },
    {
      "cell_type": "code",
      "execution_count": 399,
      "metadata": {
        "id": "jm8SsVPKb8Yg"
      },
      "outputs": [],
      "source": [
        "x1=march_data.iloc[:,1:-1].values\n",
        "x1=sc.fit_transform(x1)"
      ]
    },
    {
      "cell_type": "code",
      "execution_count": 400,
      "metadata": {
        "colab": {
          "base_uri": "https://localhost:8080/"
        },
        "id": "Ppn0o4IFcxeB",
        "outputId": "0674a751-f401-4b04-970d-71fdecfbad62"
      },
      "outputs": [
        {
          "output_type": "execute_result",
          "data": {
            "text/plain": [
              "array([121, 131, 112, 249, 221, 199, 279, 181, 186, 170, 203, 200, 115])"
            ]
          },
          "metadata": {},
          "execution_count": 400
        }
      ],
      "source": [
        "y1=march_data.iloc[:,-1].values\n",
        "y1"
      ]
    },
    {
      "cell_type": "code",
      "execution_count": 401,
      "metadata": {
        "id": "ybE2MmJZZZbV",
        "colab": {
          "base_uri": "https://localhost:8080/"
        },
        "outputId": "40893f05-7e8b-45b1-a96a-dcf4e98b4669"
      },
      "outputs": [
        {
          "output_type": "execute_result",
          "data": {
            "text/plain": [
              "array([121.13      , 125.29      , 122.12      , 238.55      ,\n",
              "       218.75      , 202.33916667, 264.53      , 186.43833333,\n",
              "       187.69      , 177.975     , 199.25      , 196.69916667,\n",
              "       127.71      ])"
            ]
          },
          "metadata": {},
          "execution_count": 401
        }
      ],
      "source": [
        "grid_search.fit(x1,y1)\n",
        "pred=grid_search.predict(x1)\n",
        "pred"
      ]
    },
    {
      "cell_type": "code",
      "execution_count": 402,
      "metadata": {
        "colab": {
          "base_uri": "https://localhost:8080/",
          "height": 456
        },
        "id": "wRgotLEIdN1f",
        "outputId": "3963162c-6733-446e-f247-ab4518fb9dce"
      },
      "outputs": [
        {
          "output_type": "execute_result",
          "data": {
            "text/plain": [
              "    Original Value  Predicted Value\n",
              "0              121           121.13\n",
              "1              131           125.29\n",
              "2              112           122.12\n",
              "3              249           238.55\n",
              "4              221           218.75\n",
              "5              199           202.34\n",
              "6              279           264.53\n",
              "7              181           186.44\n",
              "8              186           187.69\n",
              "9              170           177.98\n",
              "10             203           199.25\n",
              "11             200           196.70\n",
              "12             115           127.71"
            ],
            "text/html": [
              "\n",
              "  <div id=\"df-d37e9495-6e8a-447d-a0ab-175104cfa06e\">\n",
              "    <div class=\"colab-df-container\">\n",
              "      <div>\n",
              "<style scoped>\n",
              "    .dataframe tbody tr th:only-of-type {\n",
              "        vertical-align: middle;\n",
              "    }\n",
              "\n",
              "    .dataframe tbody tr th {\n",
              "        vertical-align: top;\n",
              "    }\n",
              "\n",
              "    .dataframe thead th {\n",
              "        text-align: right;\n",
              "    }\n",
              "</style>\n",
              "<table border=\"1\" class=\"dataframe\">\n",
              "  <thead>\n",
              "    <tr style=\"text-align: right;\">\n",
              "      <th></th>\n",
              "      <th>Original Value</th>\n",
              "      <th>Predicted Value</th>\n",
              "    </tr>\n",
              "  </thead>\n",
              "  <tbody>\n",
              "    <tr>\n",
              "      <th>0</th>\n",
              "      <td>121</td>\n",
              "      <td>121.13</td>\n",
              "    </tr>\n",
              "    <tr>\n",
              "      <th>1</th>\n",
              "      <td>131</td>\n",
              "      <td>125.29</td>\n",
              "    </tr>\n",
              "    <tr>\n",
              "      <th>2</th>\n",
              "      <td>112</td>\n",
              "      <td>122.12</td>\n",
              "    </tr>\n",
              "    <tr>\n",
              "      <th>3</th>\n",
              "      <td>249</td>\n",
              "      <td>238.55</td>\n",
              "    </tr>\n",
              "    <tr>\n",
              "      <th>4</th>\n",
              "      <td>221</td>\n",
              "      <td>218.75</td>\n",
              "    </tr>\n",
              "    <tr>\n",
              "      <th>5</th>\n",
              "      <td>199</td>\n",
              "      <td>202.34</td>\n",
              "    </tr>\n",
              "    <tr>\n",
              "      <th>6</th>\n",
              "      <td>279</td>\n",
              "      <td>264.53</td>\n",
              "    </tr>\n",
              "    <tr>\n",
              "      <th>7</th>\n",
              "      <td>181</td>\n",
              "      <td>186.44</td>\n",
              "    </tr>\n",
              "    <tr>\n",
              "      <th>8</th>\n",
              "      <td>186</td>\n",
              "      <td>187.69</td>\n",
              "    </tr>\n",
              "    <tr>\n",
              "      <th>9</th>\n",
              "      <td>170</td>\n",
              "      <td>177.98</td>\n",
              "    </tr>\n",
              "    <tr>\n",
              "      <th>10</th>\n",
              "      <td>203</td>\n",
              "      <td>199.25</td>\n",
              "    </tr>\n",
              "    <tr>\n",
              "      <th>11</th>\n",
              "      <td>200</td>\n",
              "      <td>196.70</td>\n",
              "    </tr>\n",
              "    <tr>\n",
              "      <th>12</th>\n",
              "      <td>115</td>\n",
              "      <td>127.71</td>\n",
              "    </tr>\n",
              "  </tbody>\n",
              "</table>\n",
              "</div>\n",
              "      <button class=\"colab-df-convert\" onclick=\"convertToInteractive('df-d37e9495-6e8a-447d-a0ab-175104cfa06e')\"\n",
              "              title=\"Convert this dataframe to an interactive table.\"\n",
              "              style=\"display:none;\">\n",
              "        \n",
              "  <svg xmlns=\"http://www.w3.org/2000/svg\" height=\"24px\"viewBox=\"0 0 24 24\"\n",
              "       width=\"24px\">\n",
              "    <path d=\"M0 0h24v24H0V0z\" fill=\"none\"/>\n",
              "    <path d=\"M18.56 5.44l.94 2.06.94-2.06 2.06-.94-2.06-.94-.94-2.06-.94 2.06-2.06.94zm-11 1L8.5 8.5l.94-2.06 2.06-.94-2.06-.94L8.5 2.5l-.94 2.06-2.06.94zm10 10l.94 2.06.94-2.06 2.06-.94-2.06-.94-.94-2.06-.94 2.06-2.06.94z\"/><path d=\"M17.41 7.96l-1.37-1.37c-.4-.4-.92-.59-1.43-.59-.52 0-1.04.2-1.43.59L10.3 9.45l-7.72 7.72c-.78.78-.78 2.05 0 2.83L4 21.41c.39.39.9.59 1.41.59.51 0 1.02-.2 1.41-.59l7.78-7.78 2.81-2.81c.8-.78.8-2.07 0-2.86zM5.41 20L4 18.59l7.72-7.72 1.47 1.35L5.41 20z\"/>\n",
              "  </svg>\n",
              "      </button>\n",
              "      \n",
              "  <style>\n",
              "    .colab-df-container {\n",
              "      display:flex;\n",
              "      flex-wrap:wrap;\n",
              "      gap: 12px;\n",
              "    }\n",
              "\n",
              "    .colab-df-convert {\n",
              "      background-color: #E8F0FE;\n",
              "      border: none;\n",
              "      border-radius: 50%;\n",
              "      cursor: pointer;\n",
              "      display: none;\n",
              "      fill: #1967D2;\n",
              "      height: 32px;\n",
              "      padding: 0 0 0 0;\n",
              "      width: 32px;\n",
              "    }\n",
              "\n",
              "    .colab-df-convert:hover {\n",
              "      background-color: #E2EBFA;\n",
              "      box-shadow: 0px 1px 2px rgba(60, 64, 67, 0.3), 0px 1px 3px 1px rgba(60, 64, 67, 0.15);\n",
              "      fill: #174EA6;\n",
              "    }\n",
              "\n",
              "    [theme=dark] .colab-df-convert {\n",
              "      background-color: #3B4455;\n",
              "      fill: #D2E3FC;\n",
              "    }\n",
              "\n",
              "    [theme=dark] .colab-df-convert:hover {\n",
              "      background-color: #434B5C;\n",
              "      box-shadow: 0px 1px 3px 1px rgba(0, 0, 0, 0.15);\n",
              "      filter: drop-shadow(0px 1px 2px rgba(0, 0, 0, 0.3));\n",
              "      fill: #FFFFFF;\n",
              "    }\n",
              "  </style>\n",
              "\n",
              "      <script>\n",
              "        const buttonEl =\n",
              "          document.querySelector('#df-d37e9495-6e8a-447d-a0ab-175104cfa06e button.colab-df-convert');\n",
              "        buttonEl.style.display =\n",
              "          google.colab.kernel.accessAllowed ? 'block' : 'none';\n",
              "\n",
              "        async function convertToInteractive(key) {\n",
              "          const element = document.querySelector('#df-d37e9495-6e8a-447d-a0ab-175104cfa06e');\n",
              "          const dataTable =\n",
              "            await google.colab.kernel.invokeFunction('convertToInteractive',\n",
              "                                                     [key], {});\n",
              "          if (!dataTable) return;\n",
              "\n",
              "          const docLinkHtml = 'Like what you see? Visit the ' +\n",
              "            '<a target=\"_blank\" href=https://colab.research.google.com/notebooks/data_table.ipynb>data table notebook</a>'\n",
              "            + ' to learn more about interactive tables.';\n",
              "          element.innerHTML = '';\n",
              "          dataTable['output_type'] = 'display_data';\n",
              "          await google.colab.output.renderOutput(dataTable, element);\n",
              "          const docLink = document.createElement('div');\n",
              "          docLink.innerHTML = docLinkHtml;\n",
              "          element.appendChild(docLink);\n",
              "        }\n",
              "      </script>\n",
              "    </div>\n",
              "  </div>\n",
              "  "
            ]
          },
          "metadata": {},
          "execution_count": 402
        }
      ],
      "source": [
        "df1=(pd.DataFrame({'Original Value':y1,'Predicted Value':pred}).round(2))\n",
        "df1"
      ]
    },
    {
      "cell_type": "markdown",
      "metadata": {
        "id": "_RCCeU2EwldU"
      },
      "source": [
        "**Analyzing AQI Concentration before and after the fire incident**"
      ]
    },
    {
      "cell_type": "code",
      "execution_count": 403,
      "metadata": {
        "colab": {
          "base_uri": "https://localhost:8080/",
          "height": 488
        },
        "id": "uOwbDdoSNvrg",
        "outputId": "08348728-2794-43e1-951b-93d407def8f2"
      },
      "outputs": [
        {
          "output_type": "execute_result",
          "data": {
            "text/plain": [
              "     Date         AQI\n",
              "0   01-22   95.258065\n",
              "1   01-23  149.870968\n",
              "2   02-22   97.714286\n",
              "3   02-23  106.321429\n",
              "4   03-22   85.290323\n",
              "5   04-22   88.724138\n",
              "6   05-22   94.838710\n",
              "7   06-22   76.933333\n",
              "8   07-22   95.838710\n",
              "9   08-22   49.400000\n",
              "10  09-22   49.068966\n",
              "11  10-22   51.423077\n",
              "12  11-22   50.103448\n",
              "13  12-22  111.866667"
            ],
            "text/html": [
              "\n",
              "  <div id=\"df-3a50831a-f833-45d3-98f9-13df387a24c0\">\n",
              "    <div class=\"colab-df-container\">\n",
              "      <div>\n",
              "<style scoped>\n",
              "    .dataframe tbody tr th:only-of-type {\n",
              "        vertical-align: middle;\n",
              "    }\n",
              "\n",
              "    .dataframe tbody tr th {\n",
              "        vertical-align: top;\n",
              "    }\n",
              "\n",
              "    .dataframe thead th {\n",
              "        text-align: right;\n",
              "    }\n",
              "</style>\n",
              "<table border=\"1\" class=\"dataframe\">\n",
              "  <thead>\n",
              "    <tr style=\"text-align: right;\">\n",
              "      <th></th>\n",
              "      <th>Date</th>\n",
              "      <th>AQI</th>\n",
              "    </tr>\n",
              "  </thead>\n",
              "  <tbody>\n",
              "    <tr>\n",
              "      <th>0</th>\n",
              "      <td>01-22</td>\n",
              "      <td>95.258065</td>\n",
              "    </tr>\n",
              "    <tr>\n",
              "      <th>1</th>\n",
              "      <td>01-23</td>\n",
              "      <td>149.870968</td>\n",
              "    </tr>\n",
              "    <tr>\n",
              "      <th>2</th>\n",
              "      <td>02-22</td>\n",
              "      <td>97.714286</td>\n",
              "    </tr>\n",
              "    <tr>\n",
              "      <th>3</th>\n",
              "      <td>02-23</td>\n",
              "      <td>106.321429</td>\n",
              "    </tr>\n",
              "    <tr>\n",
              "      <th>4</th>\n",
              "      <td>03-22</td>\n",
              "      <td>85.290323</td>\n",
              "    </tr>\n",
              "    <tr>\n",
              "      <th>5</th>\n",
              "      <td>04-22</td>\n",
              "      <td>88.724138</td>\n",
              "    </tr>\n",
              "    <tr>\n",
              "      <th>6</th>\n",
              "      <td>05-22</td>\n",
              "      <td>94.838710</td>\n",
              "    </tr>\n",
              "    <tr>\n",
              "      <th>7</th>\n",
              "      <td>06-22</td>\n",
              "      <td>76.933333</td>\n",
              "    </tr>\n",
              "    <tr>\n",
              "      <th>8</th>\n",
              "      <td>07-22</td>\n",
              "      <td>95.838710</td>\n",
              "    </tr>\n",
              "    <tr>\n",
              "      <th>9</th>\n",
              "      <td>08-22</td>\n",
              "      <td>49.400000</td>\n",
              "    </tr>\n",
              "    <tr>\n",
              "      <th>10</th>\n",
              "      <td>09-22</td>\n",
              "      <td>49.068966</td>\n",
              "    </tr>\n",
              "    <tr>\n",
              "      <th>11</th>\n",
              "      <td>10-22</td>\n",
              "      <td>51.423077</td>\n",
              "    </tr>\n",
              "    <tr>\n",
              "      <th>12</th>\n",
              "      <td>11-22</td>\n",
              "      <td>50.103448</td>\n",
              "    </tr>\n",
              "    <tr>\n",
              "      <th>13</th>\n",
              "      <td>12-22</td>\n",
              "      <td>111.866667</td>\n",
              "    </tr>\n",
              "  </tbody>\n",
              "</table>\n",
              "</div>\n",
              "      <button class=\"colab-df-convert\" onclick=\"convertToInteractive('df-3a50831a-f833-45d3-98f9-13df387a24c0')\"\n",
              "              title=\"Convert this dataframe to an interactive table.\"\n",
              "              style=\"display:none;\">\n",
              "        \n",
              "  <svg xmlns=\"http://www.w3.org/2000/svg\" height=\"24px\"viewBox=\"0 0 24 24\"\n",
              "       width=\"24px\">\n",
              "    <path d=\"M0 0h24v24H0V0z\" fill=\"none\"/>\n",
              "    <path d=\"M18.56 5.44l.94 2.06.94-2.06 2.06-.94-2.06-.94-.94-2.06-.94 2.06-2.06.94zm-11 1L8.5 8.5l.94-2.06 2.06-.94-2.06-.94L8.5 2.5l-.94 2.06-2.06.94zm10 10l.94 2.06.94-2.06 2.06-.94-2.06-.94-.94-2.06-.94 2.06-2.06.94z\"/><path d=\"M17.41 7.96l-1.37-1.37c-.4-.4-.92-.59-1.43-.59-.52 0-1.04.2-1.43.59L10.3 9.45l-7.72 7.72c-.78.78-.78 2.05 0 2.83L4 21.41c.39.39.9.59 1.41.59.51 0 1.02-.2 1.41-.59l7.78-7.78 2.81-2.81c.8-.78.8-2.07 0-2.86zM5.41 20L4 18.59l7.72-7.72 1.47 1.35L5.41 20z\"/>\n",
              "  </svg>\n",
              "      </button>\n",
              "      \n",
              "  <style>\n",
              "    .colab-df-container {\n",
              "      display:flex;\n",
              "      flex-wrap:wrap;\n",
              "      gap: 12px;\n",
              "    }\n",
              "\n",
              "    .colab-df-convert {\n",
              "      background-color: #E8F0FE;\n",
              "      border: none;\n",
              "      border-radius: 50%;\n",
              "      cursor: pointer;\n",
              "      display: none;\n",
              "      fill: #1967D2;\n",
              "      height: 32px;\n",
              "      padding: 0 0 0 0;\n",
              "      width: 32px;\n",
              "    }\n",
              "\n",
              "    .colab-df-convert:hover {\n",
              "      background-color: #E2EBFA;\n",
              "      box-shadow: 0px 1px 2px rgba(60, 64, 67, 0.3), 0px 1px 3px 1px rgba(60, 64, 67, 0.15);\n",
              "      fill: #174EA6;\n",
              "    }\n",
              "\n",
              "    [theme=dark] .colab-df-convert {\n",
              "      background-color: #3B4455;\n",
              "      fill: #D2E3FC;\n",
              "    }\n",
              "\n",
              "    [theme=dark] .colab-df-convert:hover {\n",
              "      background-color: #434B5C;\n",
              "      box-shadow: 0px 1px 3px 1px rgba(0, 0, 0, 0.15);\n",
              "      filter: drop-shadow(0px 1px 2px rgba(0, 0, 0, 0.3));\n",
              "      fill: #FFFFFF;\n",
              "    }\n",
              "  </style>\n",
              "\n",
              "      <script>\n",
              "        const buttonEl =\n",
              "          document.querySelector('#df-3a50831a-f833-45d3-98f9-13df387a24c0 button.colab-df-convert');\n",
              "        buttonEl.style.display =\n",
              "          google.colab.kernel.accessAllowed ? 'block' : 'none';\n",
              "\n",
              "        async function convertToInteractive(key) {\n",
              "          const element = document.querySelector('#df-3a50831a-f833-45d3-98f9-13df387a24c0');\n",
              "          const dataTable =\n",
              "            await google.colab.kernel.invokeFunction('convertToInteractive',\n",
              "                                                     [key], {});\n",
              "          if (!dataTable) return;\n",
              "\n",
              "          const docLinkHtml = 'Like what you see? Visit the ' +\n",
              "            '<a target=\"_blank\" href=https://colab.research.google.com/notebooks/data_table.ipynb>data table notebook</a>'\n",
              "            + ' to learn more about interactive tables.';\n",
              "          element.innerHTML = '';\n",
              "          dataTable['output_type'] = 'display_data';\n",
              "          await google.colab.output.renderOutput(dataTable, element);\n",
              "          const docLink = document.createElement('div');\n",
              "          docLink.innerHTML = docLinkHtml;\n",
              "          element.appendChild(docLink);\n",
              "        }\n",
              "      </script>\n",
              "    </div>\n",
              "  </div>\n",
              "  "
            ]
          },
          "metadata": {},
          "execution_count": 403
        }
      ],
      "source": [
        "avg_AQI=df.groupby('Month')['AQI'].mean().reset_index()\n",
        "avg_AQI.columns=['Date','AQI']\n",
        "avg_AQI"
      ]
    },
    {
      "cell_type": "code",
      "execution_count": 404,
      "metadata": {
        "colab": {
          "base_uri": "https://localhost:8080/",
          "height": 456
        },
        "id": "L8NNT43DPnl2",
        "outputId": "845bddc1-3977-4b36-e39c-88a3cae381e7"
      },
      "outputs": [
        {
          "output_type": "execute_result",
          "data": {
            "text/plain": [
              "         Date  AQI\n",
              "0  2023-03-01  121\n",
              "1  2023-03-02  131\n",
              "2  2023-03-03  112\n",
              "3  2023-03-04  249\n",
              "4  2023-03-05  221\n",
              "5  2023-03-06  199\n",
              "6  2023-03-07  279\n",
              "7  2023-03-08  181\n",
              "8  2023-03-09  186\n",
              "9  2023-03-10  170\n",
              "10 2023-03-11  203\n",
              "11 2023-03-12  200\n",
              "12 2023-03-13  115"
            ],
            "text/html": [
              "\n",
              "  <div id=\"df-e60dd247-5ff7-4a3e-9d4e-e139cbc49957\">\n",
              "    <div class=\"colab-df-container\">\n",
              "      <div>\n",
              "<style scoped>\n",
              "    .dataframe tbody tr th:only-of-type {\n",
              "        vertical-align: middle;\n",
              "    }\n",
              "\n",
              "    .dataframe tbody tr th {\n",
              "        vertical-align: top;\n",
              "    }\n",
              "\n",
              "    .dataframe thead th {\n",
              "        text-align: right;\n",
              "    }\n",
              "</style>\n",
              "<table border=\"1\" class=\"dataframe\">\n",
              "  <thead>\n",
              "    <tr style=\"text-align: right;\">\n",
              "      <th></th>\n",
              "      <th>Date</th>\n",
              "      <th>AQI</th>\n",
              "    </tr>\n",
              "  </thead>\n",
              "  <tbody>\n",
              "    <tr>\n",
              "      <th>0</th>\n",
              "      <td>2023-03-01</td>\n",
              "      <td>121</td>\n",
              "    </tr>\n",
              "    <tr>\n",
              "      <th>1</th>\n",
              "      <td>2023-03-02</td>\n",
              "      <td>131</td>\n",
              "    </tr>\n",
              "    <tr>\n",
              "      <th>2</th>\n",
              "      <td>2023-03-03</td>\n",
              "      <td>112</td>\n",
              "    </tr>\n",
              "    <tr>\n",
              "      <th>3</th>\n",
              "      <td>2023-03-04</td>\n",
              "      <td>249</td>\n",
              "    </tr>\n",
              "    <tr>\n",
              "      <th>4</th>\n",
              "      <td>2023-03-05</td>\n",
              "      <td>221</td>\n",
              "    </tr>\n",
              "    <tr>\n",
              "      <th>5</th>\n",
              "      <td>2023-03-06</td>\n",
              "      <td>199</td>\n",
              "    </tr>\n",
              "    <tr>\n",
              "      <th>6</th>\n",
              "      <td>2023-03-07</td>\n",
              "      <td>279</td>\n",
              "    </tr>\n",
              "    <tr>\n",
              "      <th>7</th>\n",
              "      <td>2023-03-08</td>\n",
              "      <td>181</td>\n",
              "    </tr>\n",
              "    <tr>\n",
              "      <th>8</th>\n",
              "      <td>2023-03-09</td>\n",
              "      <td>186</td>\n",
              "    </tr>\n",
              "    <tr>\n",
              "      <th>9</th>\n",
              "      <td>2023-03-10</td>\n",
              "      <td>170</td>\n",
              "    </tr>\n",
              "    <tr>\n",
              "      <th>10</th>\n",
              "      <td>2023-03-11</td>\n",
              "      <td>203</td>\n",
              "    </tr>\n",
              "    <tr>\n",
              "      <th>11</th>\n",
              "      <td>2023-03-12</td>\n",
              "      <td>200</td>\n",
              "    </tr>\n",
              "    <tr>\n",
              "      <th>12</th>\n",
              "      <td>2023-03-13</td>\n",
              "      <td>115</td>\n",
              "    </tr>\n",
              "  </tbody>\n",
              "</table>\n",
              "</div>\n",
              "      <button class=\"colab-df-convert\" onclick=\"convertToInteractive('df-e60dd247-5ff7-4a3e-9d4e-e139cbc49957')\"\n",
              "              title=\"Convert this dataframe to an interactive table.\"\n",
              "              style=\"display:none;\">\n",
              "        \n",
              "  <svg xmlns=\"http://www.w3.org/2000/svg\" height=\"24px\"viewBox=\"0 0 24 24\"\n",
              "       width=\"24px\">\n",
              "    <path d=\"M0 0h24v24H0V0z\" fill=\"none\"/>\n",
              "    <path d=\"M18.56 5.44l.94 2.06.94-2.06 2.06-.94-2.06-.94-.94-2.06-.94 2.06-2.06.94zm-11 1L8.5 8.5l.94-2.06 2.06-.94-2.06-.94L8.5 2.5l-.94 2.06-2.06.94zm10 10l.94 2.06.94-2.06 2.06-.94-2.06-.94-.94-2.06-.94 2.06-2.06.94z\"/><path d=\"M17.41 7.96l-1.37-1.37c-.4-.4-.92-.59-1.43-.59-.52 0-1.04.2-1.43.59L10.3 9.45l-7.72 7.72c-.78.78-.78 2.05 0 2.83L4 21.41c.39.39.9.59 1.41.59.51 0 1.02-.2 1.41-.59l7.78-7.78 2.81-2.81c.8-.78.8-2.07 0-2.86zM5.41 20L4 18.59l7.72-7.72 1.47 1.35L5.41 20z\"/>\n",
              "  </svg>\n",
              "      </button>\n",
              "      \n",
              "  <style>\n",
              "    .colab-df-container {\n",
              "      display:flex;\n",
              "      flex-wrap:wrap;\n",
              "      gap: 12px;\n",
              "    }\n",
              "\n",
              "    .colab-df-convert {\n",
              "      background-color: #E8F0FE;\n",
              "      border: none;\n",
              "      border-radius: 50%;\n",
              "      cursor: pointer;\n",
              "      display: none;\n",
              "      fill: #1967D2;\n",
              "      height: 32px;\n",
              "      padding: 0 0 0 0;\n",
              "      width: 32px;\n",
              "    }\n",
              "\n",
              "    .colab-df-convert:hover {\n",
              "      background-color: #E2EBFA;\n",
              "      box-shadow: 0px 1px 2px rgba(60, 64, 67, 0.3), 0px 1px 3px 1px rgba(60, 64, 67, 0.15);\n",
              "      fill: #174EA6;\n",
              "    }\n",
              "\n",
              "    [theme=dark] .colab-df-convert {\n",
              "      background-color: #3B4455;\n",
              "      fill: #D2E3FC;\n",
              "    }\n",
              "\n",
              "    [theme=dark] .colab-df-convert:hover {\n",
              "      background-color: #434B5C;\n",
              "      box-shadow: 0px 1px 3px 1px rgba(0, 0, 0, 0.15);\n",
              "      filter: drop-shadow(0px 1px 2px rgba(0, 0, 0, 0.3));\n",
              "      fill: #FFFFFF;\n",
              "    }\n",
              "  </style>\n",
              "\n",
              "      <script>\n",
              "        const buttonEl =\n",
              "          document.querySelector('#df-e60dd247-5ff7-4a3e-9d4e-e139cbc49957 button.colab-df-convert');\n",
              "        buttonEl.style.display =\n",
              "          google.colab.kernel.accessAllowed ? 'block' : 'none';\n",
              "\n",
              "        async function convertToInteractive(key) {\n",
              "          const element = document.querySelector('#df-e60dd247-5ff7-4a3e-9d4e-e139cbc49957');\n",
              "          const dataTable =\n",
              "            await google.colab.kernel.invokeFunction('convertToInteractive',\n",
              "                                                     [key], {});\n",
              "          if (!dataTable) return;\n",
              "\n",
              "          const docLinkHtml = 'Like what you see? Visit the ' +\n",
              "            '<a target=\"_blank\" href=https://colab.research.google.com/notebooks/data_table.ipynb>data table notebook</a>'\n",
              "            + ' to learn more about interactive tables.';\n",
              "          element.innerHTML = '';\n",
              "          dataTable['output_type'] = 'display_data';\n",
              "          await google.colab.output.renderOutput(dataTable, element);\n",
              "          const docLink = document.createElement('div');\n",
              "          docLink.innerHTML = docLinkHtml;\n",
              "          element.appendChild(docLink);\n",
              "        }\n",
              "      </script>\n",
              "    </div>\n",
              "  </div>\n",
              "  "
            ]
          },
          "metadata": {},
          "execution_count": 404
        }
      ],
      "source": [
        "march=march_data[['Date','AQI']]\n",
        "march"
      ]
    },
    {
      "cell_type": "code",
      "execution_count": 405,
      "metadata": {
        "colab": {
          "base_uri": "https://localhost:8080/",
          "height": 895
        },
        "id": "ak7Nq9lVQIHw",
        "outputId": "a79ccf55-c67c-48bd-c0c6-2a9da47e9380"
      },
      "outputs": [
        {
          "output_type": "execute_result",
          "data": {
            "text/plain": [
              "        Date         AQI\n",
              "0      01/22   95.258065\n",
              "1      01/23  149.870968\n",
              "2      02/22   97.714286\n",
              "3      02/23  106.321429\n",
              "4      03/22   85.290323\n",
              "5      04/22   88.724138\n",
              "6      05/22   94.838710\n",
              "7      06/22   76.933333\n",
              "8      07/22   95.838710\n",
              "9      08/22   49.400000\n",
              "10     09/22   49.068966\n",
              "11     10/22   51.423077\n",
              "12     11/22   50.103448\n",
              "13     12/22  111.866667\n",
              "14  01/03/23  121.000000\n",
              "15  02/03/23  131.000000\n",
              "16  03/03/23  112.000000\n",
              "17  04/03/23  249.000000\n",
              "18  05/03/23  221.000000\n",
              "19  06/03/23  199.000000\n",
              "20  07/03/23  279.000000\n",
              "21  08/03/23  181.000000\n",
              "22  09/03/23  186.000000\n",
              "23  10/03/23  170.000000\n",
              "24  11/03/23  203.000000\n",
              "25  12/03/23  200.000000\n",
              "26  13/03/23  115.000000"
            ],
            "text/html": [
              "\n",
              "  <div id=\"df-ec479f54-23eb-409b-8b5e-54b473bc2b81\">\n",
              "    <div class=\"colab-df-container\">\n",
              "      <div>\n",
              "<style scoped>\n",
              "    .dataframe tbody tr th:only-of-type {\n",
              "        vertical-align: middle;\n",
              "    }\n",
              "\n",
              "    .dataframe tbody tr th {\n",
              "        vertical-align: top;\n",
              "    }\n",
              "\n",
              "    .dataframe thead th {\n",
              "        text-align: right;\n",
              "    }\n",
              "</style>\n",
              "<table border=\"1\" class=\"dataframe\">\n",
              "  <thead>\n",
              "    <tr style=\"text-align: right;\">\n",
              "      <th></th>\n",
              "      <th>Date</th>\n",
              "      <th>AQI</th>\n",
              "    </tr>\n",
              "  </thead>\n",
              "  <tbody>\n",
              "    <tr>\n",
              "      <th>0</th>\n",
              "      <td>01/22</td>\n",
              "      <td>95.258065</td>\n",
              "    </tr>\n",
              "    <tr>\n",
              "      <th>1</th>\n",
              "      <td>01/23</td>\n",
              "      <td>149.870968</td>\n",
              "    </tr>\n",
              "    <tr>\n",
              "      <th>2</th>\n",
              "      <td>02/22</td>\n",
              "      <td>97.714286</td>\n",
              "    </tr>\n",
              "    <tr>\n",
              "      <th>3</th>\n",
              "      <td>02/23</td>\n",
              "      <td>106.321429</td>\n",
              "    </tr>\n",
              "    <tr>\n",
              "      <th>4</th>\n",
              "      <td>03/22</td>\n",
              "      <td>85.290323</td>\n",
              "    </tr>\n",
              "    <tr>\n",
              "      <th>5</th>\n",
              "      <td>04/22</td>\n",
              "      <td>88.724138</td>\n",
              "    </tr>\n",
              "    <tr>\n",
              "      <th>6</th>\n",
              "      <td>05/22</td>\n",
              "      <td>94.838710</td>\n",
              "    </tr>\n",
              "    <tr>\n",
              "      <th>7</th>\n",
              "      <td>06/22</td>\n",
              "      <td>76.933333</td>\n",
              "    </tr>\n",
              "    <tr>\n",
              "      <th>8</th>\n",
              "      <td>07/22</td>\n",
              "      <td>95.838710</td>\n",
              "    </tr>\n",
              "    <tr>\n",
              "      <th>9</th>\n",
              "      <td>08/22</td>\n",
              "      <td>49.400000</td>\n",
              "    </tr>\n",
              "    <tr>\n",
              "      <th>10</th>\n",
              "      <td>09/22</td>\n",
              "      <td>49.068966</td>\n",
              "    </tr>\n",
              "    <tr>\n",
              "      <th>11</th>\n",
              "      <td>10/22</td>\n",
              "      <td>51.423077</td>\n",
              "    </tr>\n",
              "    <tr>\n",
              "      <th>12</th>\n",
              "      <td>11/22</td>\n",
              "      <td>50.103448</td>\n",
              "    </tr>\n",
              "    <tr>\n",
              "      <th>13</th>\n",
              "      <td>12/22</td>\n",
              "      <td>111.866667</td>\n",
              "    </tr>\n",
              "    <tr>\n",
              "      <th>14</th>\n",
              "      <td>01/03/23</td>\n",
              "      <td>121.000000</td>\n",
              "    </tr>\n",
              "    <tr>\n",
              "      <th>15</th>\n",
              "      <td>02/03/23</td>\n",
              "      <td>131.000000</td>\n",
              "    </tr>\n",
              "    <tr>\n",
              "      <th>16</th>\n",
              "      <td>03/03/23</td>\n",
              "      <td>112.000000</td>\n",
              "    </tr>\n",
              "    <tr>\n",
              "      <th>17</th>\n",
              "      <td>04/03/23</td>\n",
              "      <td>249.000000</td>\n",
              "    </tr>\n",
              "    <tr>\n",
              "      <th>18</th>\n",
              "      <td>05/03/23</td>\n",
              "      <td>221.000000</td>\n",
              "    </tr>\n",
              "    <tr>\n",
              "      <th>19</th>\n",
              "      <td>06/03/23</td>\n",
              "      <td>199.000000</td>\n",
              "    </tr>\n",
              "    <tr>\n",
              "      <th>20</th>\n",
              "      <td>07/03/23</td>\n",
              "      <td>279.000000</td>\n",
              "    </tr>\n",
              "    <tr>\n",
              "      <th>21</th>\n",
              "      <td>08/03/23</td>\n",
              "      <td>181.000000</td>\n",
              "    </tr>\n",
              "    <tr>\n",
              "      <th>22</th>\n",
              "      <td>09/03/23</td>\n",
              "      <td>186.000000</td>\n",
              "    </tr>\n",
              "    <tr>\n",
              "      <th>23</th>\n",
              "      <td>10/03/23</td>\n",
              "      <td>170.000000</td>\n",
              "    </tr>\n",
              "    <tr>\n",
              "      <th>24</th>\n",
              "      <td>11/03/23</td>\n",
              "      <td>203.000000</td>\n",
              "    </tr>\n",
              "    <tr>\n",
              "      <th>25</th>\n",
              "      <td>12/03/23</td>\n",
              "      <td>200.000000</td>\n",
              "    </tr>\n",
              "    <tr>\n",
              "      <th>26</th>\n",
              "      <td>13/03/23</td>\n",
              "      <td>115.000000</td>\n",
              "    </tr>\n",
              "  </tbody>\n",
              "</table>\n",
              "</div>\n",
              "      <button class=\"colab-df-convert\" onclick=\"convertToInteractive('df-ec479f54-23eb-409b-8b5e-54b473bc2b81')\"\n",
              "              title=\"Convert this dataframe to an interactive table.\"\n",
              "              style=\"display:none;\">\n",
              "        \n",
              "  <svg xmlns=\"http://www.w3.org/2000/svg\" height=\"24px\"viewBox=\"0 0 24 24\"\n",
              "       width=\"24px\">\n",
              "    <path d=\"M0 0h24v24H0V0z\" fill=\"none\"/>\n",
              "    <path d=\"M18.56 5.44l.94 2.06.94-2.06 2.06-.94-2.06-.94-.94-2.06-.94 2.06-2.06.94zm-11 1L8.5 8.5l.94-2.06 2.06-.94-2.06-.94L8.5 2.5l-.94 2.06-2.06.94zm10 10l.94 2.06.94-2.06 2.06-.94-2.06-.94-.94-2.06-.94 2.06-2.06.94z\"/><path d=\"M17.41 7.96l-1.37-1.37c-.4-.4-.92-.59-1.43-.59-.52 0-1.04.2-1.43.59L10.3 9.45l-7.72 7.72c-.78.78-.78 2.05 0 2.83L4 21.41c.39.39.9.59 1.41.59.51 0 1.02-.2 1.41-.59l7.78-7.78 2.81-2.81c.8-.78.8-2.07 0-2.86zM5.41 20L4 18.59l7.72-7.72 1.47 1.35L5.41 20z\"/>\n",
              "  </svg>\n",
              "      </button>\n",
              "      \n",
              "  <style>\n",
              "    .colab-df-container {\n",
              "      display:flex;\n",
              "      flex-wrap:wrap;\n",
              "      gap: 12px;\n",
              "    }\n",
              "\n",
              "    .colab-df-convert {\n",
              "      background-color: #E8F0FE;\n",
              "      border: none;\n",
              "      border-radius: 50%;\n",
              "      cursor: pointer;\n",
              "      display: none;\n",
              "      fill: #1967D2;\n",
              "      height: 32px;\n",
              "      padding: 0 0 0 0;\n",
              "      width: 32px;\n",
              "    }\n",
              "\n",
              "    .colab-df-convert:hover {\n",
              "      background-color: #E2EBFA;\n",
              "      box-shadow: 0px 1px 2px rgba(60, 64, 67, 0.3), 0px 1px 3px 1px rgba(60, 64, 67, 0.15);\n",
              "      fill: #174EA6;\n",
              "    }\n",
              "\n",
              "    [theme=dark] .colab-df-convert {\n",
              "      background-color: #3B4455;\n",
              "      fill: #D2E3FC;\n",
              "    }\n",
              "\n",
              "    [theme=dark] .colab-df-convert:hover {\n",
              "      background-color: #434B5C;\n",
              "      box-shadow: 0px 1px 3px 1px rgba(0, 0, 0, 0.15);\n",
              "      filter: drop-shadow(0px 1px 2px rgba(0, 0, 0, 0.3));\n",
              "      fill: #FFFFFF;\n",
              "    }\n",
              "  </style>\n",
              "\n",
              "      <script>\n",
              "        const buttonEl =\n",
              "          document.querySelector('#df-ec479f54-23eb-409b-8b5e-54b473bc2b81 button.colab-df-convert');\n",
              "        buttonEl.style.display =\n",
              "          google.colab.kernel.accessAllowed ? 'block' : 'none';\n",
              "\n",
              "        async function convertToInteractive(key) {\n",
              "          const element = document.querySelector('#df-ec479f54-23eb-409b-8b5e-54b473bc2b81');\n",
              "          const dataTable =\n",
              "            await google.colab.kernel.invokeFunction('convertToInteractive',\n",
              "                                                     [key], {});\n",
              "          if (!dataTable) return;\n",
              "\n",
              "          const docLinkHtml = 'Like what you see? Visit the ' +\n",
              "            '<a target=\"_blank\" href=https://colab.research.google.com/notebooks/data_table.ipynb>data table notebook</a>'\n",
              "            + ' to learn more about interactive tables.';\n",
              "          element.innerHTML = '';\n",
              "          dataTable['output_type'] = 'display_data';\n",
              "          await google.colab.output.renderOutput(dataTable, element);\n",
              "          const docLink = document.createElement('div');\n",
              "          docLink.innerHTML = docLinkHtml;\n",
              "          element.appendChild(docLink);\n",
              "        }\n",
              "      </script>\n",
              "    </div>\n",
              "  </div>\n",
              "  "
            ]
          },
          "metadata": {},
          "execution_count": 405
        }
      ],
      "source": [
        "AQI_var=pd.concat([avg_AQI,march],ignore_index=True)\n",
        "AQI_var['Date']=['01/22','01/23','02/22','02/23','03/22','04/22','05/22','06/22','07/22','08/22','09/22','10/22','11/22','12/22','01/03/23','02/03/23','03/03/23','04/03/23','05/03/23','06/03/23','07/03/23','08/03/23','09/03/23','10/03/23','11/03/23','12/03/23','13/03/23']\n",
        "AQI_var"
      ]
    },
    {
      "cell_type": "code",
      "execution_count": 406,
      "metadata": {
        "id": "njm8lYd9kUl8"
      },
      "outputs": [],
      "source": [
        "AQI_var['Category']=AQI_var.apply(lambda row:'Good' if row['AQI']<=50\n",
        "                                 else 'Satisfactory' if row['AQI']<=100\n",
        "                                 else 'Moderate' if row['AQI']<=200\n",
        "                                 else 'Poor' if row['AQI']<=300\n",
        "                                 else 'Very Poor' if row['AQI']<=400\n",
        "                                 else 'Severe', axis=1)"
      ]
    },
    {
      "cell_type": "code",
      "execution_count": 407,
      "metadata": {
        "colab": {
          "base_uri": "https://localhost:8080/",
          "height": 424
        },
        "id": "ndiu0Yb4YEnH",
        "outputId": "114cb732-d6d0-49ce-a9a8-70c297d0a535"
      },
      "outputs": [
        {
          "output_type": "display_data",
          "data": {
            "text/plain": [
              "<Figure size 864x432 with 1 Axes>"
            ],
            "image/png": "[encoded data removed]"
          },
          "metadata": {
            "needs_background": "light"
          }
        }
      ],
      "source": [
        "sns.lineplot(x='Date',y='AQI',hue='Category',data=AQI_var,linewidth=2.5,marker='o',markerfacecolor='k')\n",
        "plt.grid()\n",
        "sns.despine(left=True)\n",
        "plt.xticks(rotation=45)\n",
        "plt.xlabel('')\n",
        "plt.ylabel('')\n",
        "plt.title('AQI Concentration Over Time',fontsize=20,fontweight='bold',color='r')\n",
        "plt.show()"
      ]
    },
    {
      "cell_type": "markdown",
      "metadata": {
        "id": "Qxr9191Dk4TC"
      },
      "source": [
        "* From the lineplot, we can observe that the AQI values were relatively stable from January 2022 to February 2023, with some fluctuations.\n",
        "*  However, on March 1, the AQI values started to rise and continued to increase until March 8, reaching a peak on March 4 with a value of 249.0. This increase in AQI values corresponds to the Brahmapuram fire incident. After March 12, the AQI values started to decrease indicating the decrease in the intensity of fire incident.\n",
        "\n",
        "* Overall, the lineplot suggests that the Brahpuram fire incident had a significant impact on the AQI values in the region, causing a sudden increase in pollution levels. It also highlights the importance of monitoring air quality and taking necessary actions to mitigate pollution events."
      ]
    },
    {
      "cell_type": "markdown",
      "metadata": {
        "id": "Mm6kII_cwYbm"
      },
      "source": [
        "**Analyzing Pollutant Concentration before and after the fire incident**"
      ]
    },
    {
      "cell_type": "code",
      "execution_count": 408,
      "metadata": {
        "id": "8dOeOHV-AXG4",
        "colab": {
          "base_uri": "https://localhost:8080/",
          "height": 519
        },
        "outputId": "e314f5fc-9bc4-4513-8427-f7d065e5c0b1"
      },
      "outputs": [
        {
          "output_type": "execute_result",
          "data": {
            "text/plain": [
              "             NOx         O3        PM10        CO        NH3        SO2  \\\n",
              "Month                                                                     \n",
              "01-22  29.151613  15.849032   77.737419  1.036774   4.844516  13.920968   \n",
              "01-23  45.076129   1.554194   93.284839  1.112258  34.485806  22.956452   \n",
              "02-22  42.017857   7.077143   75.608929  0.883929  10.248571   7.430000   \n",
              "02-23  58.216786   1.513214  104.473571  1.042500  13.897500  12.646429   \n",
              "03-22  37.493548   6.689032   73.227419  0.767097   6.394194   4.481935   \n",
              "04-22  44.737931   2.035172   74.623103  0.901724  10.126552   2.601379   \n",
              "05-22  46.835484   1.399032   84.414516  1.393548  20.228065   3.629032   \n",
              "06-22  52.503333   1.733333   53.395000  0.980667   5.273333   3.245000   \n",
              "07-22  37.445161   1.464839   77.359032  1.037419  11.755806   1.168387   \n",
              "08-22  29.711667   1.433333   44.275667  0.638333  12.396667   0.819333   \n",
              "09-22  12.653448   1.396207   40.708276  0.452414   5.430000   0.783103   \n",
              "10-22   3.320000   1.418846   42.250385  0.415000   3.904231   0.611923   \n",
              "11-22   5.501034   1.398276   40.878621  0.785172   4.062069   0.613103   \n",
              "12-22  50.831000   1.507333   70.907667  1.280667  19.028000  14.916667   \n",
              "\n",
              "           PM2.5  \n",
              "Month             \n",
              "01-22  52.296430  \n",
              "01-23  74.465161  \n",
              "02-22  52.151404  \n",
              "02-23  75.299643  \n",
              "03-22  46.026580  \n",
              "04-22  40.975815  \n",
              "05-22  48.932408  \n",
              "06-22  28.514155  \n",
              "07-22  43.015462  \n",
              "08-22  28.528000  \n",
              "09-22  28.950345  \n",
              "10-22  30.113077  \n",
              "11-22  29.858276  \n",
              "12-22  55.023000  "
            ],
            "text/html": [
              "\n",
              "  <div id=\"df-6537e4cb-9b73-4286-b165-7081b022b07d\">\n",
              "    <div class=\"colab-df-container\">\n",
              "      <div>\n",
              "<style scoped>\n",
              "    .dataframe tbody tr th:only-of-type {\n",
              "        vertical-align: middle;\n",
              "    }\n",
              "\n",
              "    .dataframe tbody tr th {\n",
              "        vertical-align: top;\n",
              "    }\n",
              "\n",
              "    .dataframe thead th {\n",
              "        text-align: right;\n",
              "    }\n",
              "</style>\n",
              "<table border=\"1\" class=\"dataframe\">\n",
              "  <thead>\n",
              "    <tr style=\"text-align: right;\">\n",
              "      <th></th>\n",
              "      <th>NOx</th>\n",
              "      <th>O3</th>\n",
              "      <th>PM10</th>\n",
              "      <th>CO</th>\n",
              "      <th>NH3</th>\n",
              "      <th>SO2</th>\n",
              "      <th>PM2.5</th>\n",
              "    </tr>\n",
              "    <tr>\n",
              "      <th>Month</th>\n",
              "      <th></th>\n",
              "      <th></th>\n",
              "      <th></th>\n",
              "      <th></th>\n",
              "      <th></th>\n",
              "      <th></th>\n",
              "      <th></th>\n",
              "    </tr>\n",
              "  </thead>\n",
              "  <tbody>\n",
              "    <tr>\n",
              "      <th>01-22</th>\n",
              "      <td>29.151613</td>\n",
              "      <td>15.849032</td>\n",
              "      <td>77.737419</td>\n",
              "      <td>1.036774</td>\n",
              "      <td>4.844516</td>\n",
              "      <td>13.920968</td>\n",
              "      <td>52.296430</td>\n",
              "    </tr>\n",
              "    <tr>\n",
              "      <th>01-23</th>\n",
              "      <td>45.076129</td>\n",
              "      <td>1.554194</td>\n",
              "      <td>93.284839</td>\n",
              "      <td>1.112258</td>\n",
              "      <td>34.485806</td>\n",
              "      <td>22.956452</td>\n",
              "      <td>74.465161</td>\n",
              "    </tr>\n",
              "    <tr>\n",
              "      <th>02-22</th>\n",
              "      <td>42.017857</td>\n",
              "      <td>7.077143</td>\n",
              "      <td>75.608929</td>\n",
              "      <td>0.883929</td>\n",
              "      <td>10.248571</td>\n",
              "      <td>7.430000</td>\n",
              "      <td>52.151404</td>\n",
              "    </tr>\n",
              "    <tr>\n",
              "      <th>02-23</th>\n",
              "      <td>58.216786</td>\n",
              "      <td>1.513214</td>\n",
              "      <td>104.473571</td>\n",
              "      <td>1.042500</td>\n",
              "      <td>13.897500</td>\n",
              "      <td>12.646429</td>\n",
              "      <td>75.299643</td>\n",
              "    </tr>\n",
              "    <tr>\n",
              "      <th>03-22</th>\n",
              "      <td>37.493548</td>\n",
              "      <td>6.689032</td>\n",
              "      <td>73.227419</td>\n",
              "      <td>0.767097</td>\n",
              "      <td>6.394194</td>\n",
              "      <td>4.481935</td>\n",
              "      <td>46.026580</td>\n",
              "    </tr>\n",
              "    <tr>\n",
              "      <th>04-22</th>\n",
              "      <td>44.737931</td>\n",
              "      <td>2.035172</td>\n",
              "      <td>74.623103</td>\n",
              "      <td>0.901724</td>\n",
              "      <td>10.126552</td>\n",
              "      <td>2.601379</td>\n",
              "      <td>40.975815</td>\n",
              "    </tr>\n",
              "    <tr>\n",
              "      <th>05-22</th>\n",
              "      <td>46.835484</td>\n",
              "      <td>1.399032</td>\n",
              "      <td>84.414516</td>\n",
              "      <td>1.393548</td>\n",
              "      <td>20.228065</td>\n",
              "      <td>3.629032</td>\n",
              "      <td>48.932408</td>\n",
              "    </tr>\n",
              "    <tr>\n",
              "      <th>06-22</th>\n",
              "      <td>52.503333</td>\n",
              "      <td>1.733333</td>\n",
              "      <td>53.395000</td>\n",
              "      <td>0.980667</td>\n",
              "      <td>5.273333</td>\n",
              "      <td>3.245000</td>\n",
              "      <td>28.514155</td>\n",
              "    </tr>\n",
              "    <tr>\n",
              "      <th>07-22</th>\n",
              "      <td>37.445161</td>\n",
              "      <td>1.464839</td>\n",
              "      <td>77.359032</td>\n",
              "      <td>1.037419</td>\n",
              "      <td>11.755806</td>\n",
              "      <td>1.168387</td>\n",
              "      <td>43.015462</td>\n",
              "    </tr>\n",
              "    <tr>\n",
              "      <th>08-22</th>\n",
              "      <td>29.711667</td>\n",
              "      <td>1.433333</td>\n",
              "      <td>44.275667</td>\n",
              "      <td>0.638333</td>\n",
              "      <td>12.396667</td>\n",
              "      <td>0.819333</td>\n",
              "      <td>28.528000</td>\n",
              "    </tr>\n",
              "    <tr>\n",
              "      <th>09-22</th>\n",
              "      <td>12.653448</td>\n",
              "      <td>1.396207</td>\n",
              "      <td>40.708276</td>\n",
              "      <td>0.452414</td>\n",
              "      <td>5.430000</td>\n",
              "      <td>0.783103</td>\n",
              "      <td>28.950345</td>\n",
              "    </tr>\n",
              "    <tr>\n",
              "      <th>10-22</th>\n",
              "      <td>3.320000</td>\n",
              "      <td>1.418846</td>\n",
              "      <td>42.250385</td>\n",
              "      <td>0.415000</td>\n",
              "      <td>3.904231</td>\n",
              "      <td>0.611923</td>\n",
              "      <td>30.113077</td>\n",
              "    </tr>\n",
              "    <tr>\n",
              "      <th>11-22</th>\n",
              "      <td>5.501034</td>\n",
              "      <td>1.398276</td>\n",
              "      <td>40.878621</td>\n",
              "      <td>0.785172</td>\n",
              "      <td>4.062069</td>\n",
              "      <td>0.613103</td>\n",
              "      <td>29.858276</td>\n",
              "    </tr>\n",
              "    <tr>\n",
              "      <th>12-22</th>\n",
              "      <td>50.831000</td>\n",
              "      <td>1.507333</td>\n",
              "      <td>70.907667</td>\n",
              "      <td>1.280667</td>\n",
              "      <td>19.028000</td>\n",
              "      <td>14.916667</td>\n",
              "      <td>55.023000</td>\n",
              "    </tr>\n",
              "  </tbody>\n",
              "</table>\n",
              "</div>\n",
              "      <button class=\"colab-df-convert\" onclick=\"convertToInteractive('df-6537e4cb-9b73-4286-b165-7081b022b07d')\"\n",
              "              title=\"Convert this dataframe to an interactive table.\"\n",
              "              style=\"display:none;\">\n",
              "        \n",
              "  <svg xmlns=\"http://www.w3.org/2000/svg\" height=\"24px\"viewBox=\"0 0 24 24\"\n",
              "       width=\"24px\">\n",
              "    <path d=\"M0 0h24v24H0V0z\" fill=\"none\"/>\n",
              "    <path d=\"M18.56 5.44l.94 2.06.94-2.06 2.06-.94-2.06-.94-.94-2.06-.94 2.06-2.06.94zm-11 1L8.5 8.5l.94-2.06 2.06-.94-2.06-.94L8.5 2.5l-.94 2.06-2.06.94zm10 10l.94 2.06.94-2.06 2.06-.94-2.06-.94-.94-2.06-.94 2.06-2.06.94z\"/><path d=\"M17.41 7.96l-1.37-1.37c-.4-.4-.92-.59-1.43-.59-.52 0-1.04.2-1.43.59L10.3 9.45l-7.72 7.72c-.78.78-.78 2.05 0 2.83L4 21.41c.39.39.9.59 1.41.59.51 0 1.02-.2 1.41-.59l7.78-7.78 2.81-2.81c.8-.78.8-2.07 0-2.86zM5.41 20L4 18.59l7.72-7.72 1.47 1.35L5.41 20z\"/>\n",
              "  </svg>\n",
              "      </button>\n",
              "      \n",
              "  <style>\n",
              "    .colab-df-container {\n",
              "      display:flex;\n",
              "      flex-wrap:wrap;\n",
              "      gap: 12px;\n",
              "    }\n",
              "\n",
              "    .colab-df-convert {\n",
              "      background-color: #E8F0FE;\n",
              "      border: none;\n",
              "      border-radius: 50%;\n",
              "      cursor: pointer;\n",
              "      display: none;\n",
              "      fill: #1967D2;\n",
              "      height: 32px;\n",
              "      padding: 0 0 0 0;\n",
              "      width: 32px;\n",
              "    }\n",
              "\n",
              "    .colab-df-convert:hover {\n",
              "      background-color: #E2EBFA;\n",
              "      box-shadow: 0px 1px 2px rgba(60, 64, 67, 0.3), 0px 1px 3px 1px rgba(60, 64, 67, 0.15);\n",
              "      fill: #174EA6;\n",
              "    }\n",
              "\n",
              "    [theme=dark] .colab-df-convert {\n",
              "      background-color: #3B4455;\n",
              "      fill: #D2E3FC;\n",
              "    }\n",
              "\n",
              "    [theme=dark] .colab-df-convert:hover {\n",
              "      background-color: #434B5C;\n",
              "      box-shadow: 0px 1px 3px 1px rgba(0, 0, 0, 0.15);\n",
              "      filter: drop-shadow(0px 1px 2px rgba(0, 0, 0, 0.3));\n",
              "      fill: #FFFFFF;\n",
              "    }\n",
              "  </style>\n",
              "\n",
              "      <script>\n",
              "        const buttonEl =\n",
              "          document.querySelector('#df-6537e4cb-9b73-4286-b165-7081b022b07d button.colab-df-convert');\n",
              "        buttonEl.style.display =\n",
              "          google.colab.kernel.accessAllowed ? 'block' : 'none';\n",
              "\n",
              "        async function convertToInteractive(key) {\n",
              "          const element = document.querySelector('#df-6537e4cb-9b73-4286-b165-7081b022b07d');\n",
              "          const dataTable =\n",
              "            await google.colab.kernel.invokeFunction('convertToInteractive',\n",
              "                                                     [key], {});\n",
              "          if (!dataTable) return;\n",
              "\n",
              "          const docLinkHtml = 'Like what you see? Visit the ' +\n",
              "            '<a target=\"_blank\" href=https://colab.research.google.com/notebooks/data_table.ipynb>data table notebook</a>'\n",
              "            + ' to learn more about interactive tables.';\n",
              "          element.innerHTML = '';\n",
              "          dataTable['output_type'] = 'display_data';\n",
              "          await google.colab.output.renderOutput(dataTable, element);\n",
              "          const docLink = document.createElement('div');\n",
              "          docLink.innerHTML = docLinkHtml;\n",
              "          element.appendChild(docLink);\n",
              "        }\n",
              "      </script>\n",
              "    </div>\n",
              "  </div>\n",
              "  "
            ]
          },
          "metadata": {},
          "execution_count": 408
        }
      ],
      "source": [
        "avg_gas=df.groupby('Month').mean()\n",
        "avg_gas=avg_gas.rename(columns={'Month':'Date'})\n",
        "avg_gas.drop('AQI',axis=1,inplace=True)\n",
        "avg_gas"
      ]
    },
    {
      "cell_type": "code",
      "execution_count": 409,
      "metadata": {
        "id": "JoJ2oHwDAXG5",
        "colab": {
          "base_uri": "https://localhost:8080/",
          "height": 456
        },
        "outputId": "328f5e94-2421-456a-b7f7-0db43233552d"
      },
      "outputs": [
        {
          "output_type": "execute_result",
          "data": {
            "text/plain": [
              "         Date    NOx    O3    PM10    CO    NH3    SO2   PM2.5\n",
              "0  2023-03-01  34.51  1.48  100.48  1.16   8.91  18.35   66.28\n",
              "1  2023-03-02  23.13  1.48   94.24  1.14  10.36  19.49   69.20\n",
              "2  2023-03-03  36.17  1.51  109.62  1.17   8.29  24.95   63.74\n",
              "3  2023-03-04  41.02  1.50  147.64  1.28   7.67  26.59  104.64\n",
              "4  2023-03-05  48.15  1.49  141.74  1.29   7.27  27.63   96.33\n",
              "5  2023-03-06  44.35  1.49  134.87  1.20   7.89  27.59   89.67\n",
              "6  2023-03-07  44.14  1.51  173.10  1.31   8.51  25.58  113.58\n",
              "7  2023-03-08  46.64  1.54  126.00  1.23  11.82  29.09   84.22\n",
              "8  2023-03-09  58.08  1.77  127.98  1.28  12.34  32.15   85.82\n",
              "9  2023-03-10  49.11  1.29  121.01  1.31  28.46  40.80   81.13\n",
              "10 2023-03-11  38.47  1.71  125.40  1.35  46.56  33.48   90.88\n",
              "11 2023-03-12  35.85  1.89  121.74  1.30  65.12  39.17   89.94\n",
              "12 2023-03-13  40.16  0.86  104.91  1.33  55.06  39.72   64.56"
            ],
            "text/html": [
              "\n",
              "  <div id=\"df-7dd16de0-2d1f-48a0-96a0-117a9af523f3\">\n",
              "    <div class=\"colab-df-container\">\n",
              "      <div>\n",
              "<style scoped>\n",
              "    .dataframe tbody tr th:only-of-type {\n",
              "        vertical-align: middle;\n",
              "    }\n",
              "\n",
              "    .dataframe tbody tr th {\n",
              "        vertical-align: top;\n",
              "    }\n",
              "\n",
              "    .dataframe thead th {\n",
              "        text-align: right;\n",
              "    }\n",
              "</style>\n",
              "<table border=\"1\" class=\"dataframe\">\n",
              "  <thead>\n",
              "    <tr style=\"text-align: right;\">\n",
              "      <th></th>\n",
              "      <th>Date</th>\n",
              "      <th>NOx</th>\n",
              "      <th>O3</th>\n",
              "      <th>PM10</th>\n",
              "      <th>CO</th>\n",
              "      <th>NH3</th>\n",
              "      <th>SO2</th>\n",
              "      <th>PM2.5</th>\n",
              "    </tr>\n",
              "  </thead>\n",
              "  <tbody>\n",
              "    <tr>\n",
              "      <th>0</th>\n",
              "      <td>2023-03-01</td>\n",
              "      <td>34.51</td>\n",
              "      <td>1.48</td>\n",
              "      <td>100.48</td>\n",
              "      <td>1.16</td>\n",
              "      <td>8.91</td>\n",
              "      <td>18.35</td>\n",
              "      <td>66.28</td>\n",
              "    </tr>\n",
              "    <tr>\n",
              "      <th>1</th>\n",
              "      <td>2023-03-02</td>\n",
              "      <td>23.13</td>\n",
              "      <td>1.48</td>\n",
              "      <td>94.24</td>\n",
              "      <td>1.14</td>\n",
              "      <td>10.36</td>\n",
              "      <td>19.49</td>\n",
              "      <td>69.20</td>\n",
              "    </tr>\n",
              "    <tr>\n",
              "      <th>2</th>\n",
              "      <td>2023-03-03</td>\n",
              "      <td>36.17</td>\n",
              "      <td>1.51</td>\n",
              "      <td>109.62</td>\n",
              "      <td>1.17</td>\n",
              "      <td>8.29</td>\n",
              "      <td>24.95</td>\n",
              "      <td>63.74</td>\n",
              "    </tr>\n",
              "    <tr>\n",
              "      <th>3</th>\n",
              "      <td>2023-03-04</td>\n",
              "      <td>41.02</td>\n",
              "      <td>1.50</td>\n",
              "      <td>147.64</td>\n",
              "      <td>1.28</td>\n",
              "      <td>7.67</td>\n",
              "      <td>26.59</td>\n",
              "      <td>104.64</td>\n",
              "    </tr>\n",
              "    <tr>\n",
              "      <th>4</th>\n",
              "      <td>2023-03-05</td>\n",
              "      <td>48.15</td>\n",
              "      <td>1.49</td>\n",
              "      <td>141.74</td>\n",
              "      <td>1.29</td>\n",
              "      <td>7.27</td>\n",
              "      <td>27.63</td>\n",
              "      <td>96.33</td>\n",
              "    </tr>\n",
              "    <tr>\n",
              "      <th>5</th>\n",
              "      <td>2023-03-06</td>\n",
              "      <td>44.35</td>\n",
              "      <td>1.49</td>\n",
              "      <td>134.87</td>\n",
              "      <td>1.20</td>\n",
              "      <td>7.89</td>\n",
              "      <td>27.59</td>\n",
              "      <td>89.67</td>\n",
              "    </tr>\n",
              "    <tr>\n",
              "      <th>6</th>\n",
              "      <td>2023-03-07</td>\n",
              "      <td>44.14</td>\n",
              "      <td>1.51</td>\n",
              "      <td>173.10</td>\n",
              "      <td>1.31</td>\n",
              "      <td>8.51</td>\n",
              "      <td>25.58</td>\n",
              "      <td>113.58</td>\n",
              "    </tr>\n",
              "    <tr>\n",
              "      <th>7</th>\n",
              "      <td>2023-03-08</td>\n",
              "      <td>46.64</td>\n",
              "      <td>1.54</td>\n",
              "      <td>126.00</td>\n",
              "      <td>1.23</td>\n",
              "      <td>11.82</td>\n",
              "      <td>29.09</td>\n",
              "      <td>84.22</td>\n",
              "    </tr>\n",
              "    <tr>\n",
              "      <th>8</th>\n",
              "      <td>2023-03-09</td>\n",
              "      <td>58.08</td>\n",
              "      <td>1.77</td>\n",
              "      <td>127.98</td>\n",
              "      <td>1.28</td>\n",
              "      <td>12.34</td>\n",
              "      <td>32.15</td>\n",
              "      <td>85.82</td>\n",
              "    </tr>\n",
              "    <tr>\n",
              "      <th>9</th>\n",
              "      <td>2023-03-10</td>\n",
              "      <td>49.11</td>\n",
              "      <td>1.29</td>\n",
              "      <td>121.01</td>\n",
              "      <td>1.31</td>\n",
              "      <td>28.46</td>\n",
              "      <td>40.80</td>\n",
              "      <td>81.13</td>\n",
              "    </tr>\n",
              "    <tr>\n",
              "      <th>10</th>\n",
              "      <td>2023-03-11</td>\n",
              "      <td>38.47</td>\n",
              "      <td>1.71</td>\n",
              "      <td>125.40</td>\n",
              "      <td>1.35</td>\n",
              "      <td>46.56</td>\n",
              "      <td>33.48</td>\n",
              "      <td>90.88</td>\n",
              "    </tr>\n",
              "    <tr>\n",
              "      <th>11</th>\n",
              "      <td>2023-03-12</td>\n",
              "      <td>35.85</td>\n",
              "      <td>1.89</td>\n",
              "      <td>121.74</td>\n",
              "      <td>1.30</td>\n",
              "      <td>65.12</td>\n",
              "      <td>39.17</td>\n",
              "      <td>89.94</td>\n",
              "    </tr>\n",
              "    <tr>\n",
              "      <th>12</th>\n",
              "      <td>2023-03-13</td>\n",
              "      <td>40.16</td>\n",
              "      <td>0.86</td>\n",
              "      <td>104.91</td>\n",
              "      <td>1.33</td>\n",
              "      <td>55.06</td>\n",
              "      <td>39.72</td>\n",
              "      <td>64.56</td>\n",
              "    </tr>\n",
              "  </tbody>\n",
              "</table>\n",
              "</div>\n",
              "      <button class=\"colab-df-convert\" onclick=\"convertToInteractive('df-7dd16de0-2d1f-48a0-96a0-117a9af523f3')\"\n",
              "              title=\"Convert this dataframe to an interactive table.\"\n",
              "              style=\"display:none;\">\n",
              "        \n",
              "  <svg xmlns=\"http://www.w3.org/2000/svg\" height=\"24px\"viewBox=\"0 0 24 24\"\n",
              "       width=\"24px\">\n",
              "    <path d=\"M0 0h24v24H0V0z\" fill=\"none\"/>\n",
              "    <path d=\"M18.56 5.44l.94 2.06.94-2.06 2.06-.94-2.06-.94-.94-2.06-.94 2.06-2.06.94zm-11 1L8.5 8.5l.94-2.06 2.06-.94-2.06-.94L8.5 2.5l-.94 2.06-2.06.94zm10 10l.94 2.06.94-2.06 2.06-.94-2.06-.94-.94-2.06-.94 2.06-2.06.94z\"/><path d=\"M17.41 7.96l-1.37-1.37c-.4-.4-.92-.59-1.43-.59-.52 0-1.04.2-1.43.59L10.3 9.45l-7.72 7.72c-.78.78-.78 2.05 0 2.83L4 21.41c.39.39.9.59 1.41.59.51 0 1.02-.2 1.41-.59l7.78-7.78 2.81-2.81c.8-.78.8-2.07 0-2.86zM5.41 20L4 18.59l7.72-7.72 1.47 1.35L5.41 20z\"/>\n",
              "  </svg>\n",
              "      </button>\n",
              "      \n",
              "  <style>\n",
              "    .colab-df-container {\n",
              "      display:flex;\n",
              "      flex-wrap:wrap;\n",
              "      gap: 12px;\n",
              "    }\n",
              "\n",
              "    .colab-df-convert {\n",
              "      background-color: #E8F0FE;\n",
              "      border: none;\n",
              "      border-radius: 50%;\n",
              "      cursor: pointer;\n",
              "      display: none;\n",
              "      fill: #1967D2;\n",
              "      height: 32px;\n",
              "      padding: 0 0 0 0;\n",
              "      width: 32px;\n",
              "    }\n",
              "\n",
              "    .colab-df-convert:hover {\n",
              "      background-color: #E2EBFA;\n",
              "      box-shadow: 0px 1px 2px rgba(60, 64, 67, 0.3), 0px 1px 3px 1px rgba(60, 64, 67, 0.15);\n",
              "      fill: #174EA6;\n",
              "    }\n",
              "\n",
              "    [theme=dark] .colab-df-convert {\n",
              "      background-color: #3B4455;\n",
              "      fill: #D2E3FC;\n",
              "    }\n",
              "\n",
              "    [theme=dark] .colab-df-convert:hover {\n",
              "      background-color: #434B5C;\n",
              "      box-shadow: 0px 1px 3px 1px rgba(0, 0, 0, 0.15);\n",
              "      filter: drop-shadow(0px 1px 2px rgba(0, 0, 0, 0.3));\n",
              "      fill: #FFFFFF;\n",
              "    }\n",
              "  </style>\n",
              "\n",
              "      <script>\n",
              "        const buttonEl =\n",
              "          document.querySelector('#df-7dd16de0-2d1f-48a0-96a0-117a9af523f3 button.colab-df-convert');\n",
              "        buttonEl.style.display =\n",
              "          google.colab.kernel.accessAllowed ? 'block' : 'none';\n",
              "\n",
              "        async function convertToInteractive(key) {\n",
              "          const element = document.querySelector('#df-7dd16de0-2d1f-48a0-96a0-117a9af523f3');\n",
              "          const dataTable =\n",
              "            await google.colab.kernel.invokeFunction('convertToInteractive',\n",
              "                                                     [key], {});\n",
              "          if (!dataTable) return;\n",
              "\n",
              "          const docLinkHtml = 'Like what you see? Visit the ' +\n",
              "            '<a target=\"_blank\" href=https://colab.research.google.com/notebooks/data_table.ipynb>data table notebook</a>'\n",
              "            + ' to learn more about interactive tables.';\n",
              "          element.innerHTML = '';\n",
              "          dataTable['output_type'] = 'display_data';\n",
              "          await google.colab.output.renderOutput(dataTable, element);\n",
              "          const docLink = document.createElement('div');\n",
              "          docLink.innerHTML = docLinkHtml;\n",
              "          element.appendChild(docLink);\n",
              "        }\n",
              "      </script>\n",
              "    </div>\n",
              "  </div>\n",
              "  "
            ]
          },
          "metadata": {},
          "execution_count": 409
        }
      ],
      "source": [
        "march_gas=march_data.iloc[:,:-1]\n",
        "march_gas"
      ]
    },
    {
      "cell_type": "code",
      "execution_count": 410,
      "metadata": {
        "id": "AvrTUXmeAXG5"
      },
      "outputs": [],
      "source": [
        "Gas_var=pd.concat([avg_gas,march_gas],ignore_index=True)\n",
        "Gas_var['Date']=['01/22','01/23','02/22','02/23','03/22','04/22','05/22','06/22','07/22','08/22','09/22','10/22','11/22','12/22','01/03/23','02/03/23','03/03/23','04/03/23','05/03/23','06/03/23','07/03/23','08/03/23','09/03/23','10/03/23','11/03/23','12/03/23','13/03/23']"
      ]
    },
    {
      "cell_type": "code",
      "execution_count": 411,
      "metadata": {
        "id": "q7PiwPtfspdV",
        "outputId": "1c85ee3f-21ea-45ec-dfd9-52dc59b662ac",
        "colab": {
          "base_uri": "https://localhost:8080/",
          "height": 424
        }
      },
      "outputs": [
        {
          "output_type": "display_data",
          "data": {
            "text/plain": [
              "<Figure size 864x432 with 1 Axes>"
            ],
            "image/png": "[encoded data removed]"
          },
          "metadata": {
            "needs_background": "light"
          }
        }
      ],
      "source": [
        "fig, ax = plt.subplots()\n",
        "\n",
        "ax.plot(Gas_var[\"Date\"], Gas_var[\"NOx\"], label=\"NOx\")\n",
        "ax.plot(Gas_var[\"Date\"], Gas_var[\"O3\"], label=\"O3\")\n",
        "ax.plot(Gas_var[\"Date\"], Gas_var[\"PM10\"], label=\"PM10\")\n",
        "ax.plot(Gas_var[\"Date\"], Gas_var[\"CO\"], label=\"CO\")\n",
        "ax.plot(Gas_var[\"Date\"], Gas_var[\"NH3\"], label=\"NH3\")\n",
        "ax.plot(Gas_var[\"Date\"], Gas_var[\"SO2\"], label=\"SO2\")\n",
        "ax.plot(Gas_var[\"Date\"], Gas_var[\"PM2.5\"], label=\"PM2.5\")\n",
        "\n",
        "sns.despine(left=True)\n",
        "ax.set_title(\"Pollutant Concentrations Over Time\",fontsize=20,fontweight='bold',color='r')\n",
        "plt.grid()\n",
        "plt.xlabel('')\n",
        "plt.ylabel('')\n",
        "plt.xticks(rotation=45)\n",
        "ax.legend()\n",
        "plt.show()"
      ]
    },
    {
      "cell_type": "markdown",
      "metadata": {
        "id": "ehudZ-B-BQ9y"
      },
      "source": [
        "* The concentrations of all pollutants increased sharply after the Brahmapuram fire incident, with the highest increase seen in PM10 concentrations. This indicates that the fire incident had a significant impact on air quality in the region.\n",
        "* According to experts, several chemicals have been spreading at dangerous levels in Kochi’s atmosphere over the last two months. After the fire at Brahmapuram, the presence of a chemical cocktail has made matters worse, making the air quality in Kochi dangerous for human habitation,We can see a spike in January and February 2023 in the plot,We can see a spike in January and February 2023 in the plot.\n",
        "* After March 7 2023,there is a decrease in pollutant concentration, indicating a decrease in the intensity of the fire incident.\n",
        "\n",
        "\n",
        "\n"
      ]
    },
    {
      "cell_type": "markdown",
      "metadata": {
        "id": "8orYpQOlpmvS"
      },
      "source": [
        "#**Conclusion**"
      ]
    },
    {
      "cell_type": "markdown",
      "metadata": {
        "id": "NWnL0rvXdtHa"
      },
      "source": [
        "👉Based on the results of this project,from the analysis of the data collected before the sewage plant fire incident, it was observed that there was a certain level of variation in the concentration of the pollutant gases and the distribution of AQI over the period studied.\n",
        "\n",
        "\n",
        "👉With this information, a machine learning model using Random Forest Regression was developed, and hyperparameters were tuned to predict the AQI during the fire incident.\n",
        "\n",
        "\n",
        "👉The model performed well in predicting the AQI during the incident, showing the potential of using machine learning for real-time monitoring of air quality during such emergencies.\n",
        "\n",
        "👉Finally, by comparing the AQI before and after the incident, it was found that there was a significant increase in AQI during the fire, highlighting the importance of effective measures to control air pollution and minimize the impact of such incidents on public health and the environment."
      ]
    }
  ],
  "metadata": {
    "colab": {
      "provenance": [],
      "authorship_tag": "ABX9TyN/Z0e5SdCrd/+6ynhewtZF",
      "include_colab_link": true
    },
    "kernelspec": {
      "display_name": "Python 3",
      "name": "python3"
    },
    "language_info": {
      "name": "python"
    }
  },
  "nbformat": 4,
  "nbformat_minor": 0
}